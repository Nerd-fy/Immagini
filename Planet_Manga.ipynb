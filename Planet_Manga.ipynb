{
  "nbformat": 4,
  "nbformat_minor": 0,
  "metadata": {
    "colab": {
      "name": "Planet_Manga.ipynb",
      "provenance": [],
      "collapsed_sections": []
    },
    "kernelspec": {
      "name": "python3",
      "display_name": "Python 3"
    },
    "widgets": {
      "application/vnd.jupyter.widget-state+json": {
        "edad84d4b1eb4d098eddffe2fd019638": {
          "model_module": "@jupyter-widgets/controls",
          "model_name": "HBoxModel",
          "state": {
            "_view_name": "HBoxView",
            "_dom_classes": [],
            "_model_name": "HBoxModel",
            "_view_module": "@jupyter-widgets/controls",
            "_model_module_version": "1.5.0",
            "_view_count": null,
            "_view_module_version": "1.5.0",
            "box_style": "",
            "layout": "IPY_MODEL_7b2b4775e67b415fb76c6bdfa2a92a0c",
            "_model_module": "@jupyter-widgets/controls",
            "children": [
              "IPY_MODEL_ed0b62b34c614771b4e5cf9e004e1f35",
              "IPY_MODEL_02b684f95c5a4c9c91ab41a3e4e1d0fd"
            ]
          }
        },
        "7b2b4775e67b415fb76c6bdfa2a92a0c": {
          "model_module": "@jupyter-widgets/base",
          "model_name": "LayoutModel",
          "state": {
            "_view_name": "LayoutView",
            "grid_template_rows": null,
            "right": null,
            "justify_content": null,
            "_view_module": "@jupyter-widgets/base",
            "overflow": null,
            "_model_module_version": "1.2.0",
            "_view_count": null,
            "flex_flow": null,
            "width": null,
            "min_width": null,
            "border": null,
            "align_items": null,
            "bottom": null,
            "_model_module": "@jupyter-widgets/base",
            "top": null,
            "grid_column": null,
            "overflow_y": null,
            "overflow_x": null,
            "grid_auto_flow": null,
            "grid_area": null,
            "grid_template_columns": null,
            "flex": null,
            "_model_name": "LayoutModel",
            "justify_items": null,
            "grid_row": null,
            "max_height": null,
            "align_content": null,
            "visibility": null,
            "align_self": null,
            "height": null,
            "min_height": null,
            "padding": null,
            "grid_auto_rows": null,
            "grid_gap": null,
            "max_width": null,
            "order": null,
            "_view_module_version": "1.2.0",
            "grid_template_areas": null,
            "object_position": null,
            "object_fit": null,
            "grid_auto_columns": null,
            "margin": null,
            "display": null,
            "left": null
          }
        },
        "ed0b62b34c614771b4e5cf9e004e1f35": {
          "model_module": "@jupyter-widgets/controls",
          "model_name": "FloatProgressModel",
          "state": {
            "_view_name": "ProgressView",
            "style": "IPY_MODEL_fe781eda7f3b4782859880022cbc8639",
            "_dom_classes": [],
            "description": "100%",
            "_model_name": "FloatProgressModel",
            "bar_style": "success",
            "max": 40,
            "_view_module": "@jupyter-widgets/controls",
            "_model_module_version": "1.5.0",
            "value": 40,
            "_view_count": null,
            "_view_module_version": "1.5.0",
            "orientation": "horizontal",
            "min": 0,
            "description_tooltip": null,
            "_model_module": "@jupyter-widgets/controls",
            "layout": "IPY_MODEL_bc1859a4100f4f0cbc5d068f194f4e9c"
          }
        },
        "02b684f95c5a4c9c91ab41a3e4e1d0fd": {
          "model_module": "@jupyter-widgets/controls",
          "model_name": "HTMLModel",
          "state": {
            "_view_name": "HTMLView",
            "style": "IPY_MODEL_823e15e502114d899ddf84d6afdf6ad3",
            "_dom_classes": [],
            "description": "",
            "_model_name": "HTMLModel",
            "placeholder": "​",
            "_view_module": "@jupyter-widgets/controls",
            "_model_module_version": "1.5.0",
            "value": " 40/40 [07:10&lt;00:00, 10.77s/it]",
            "_view_count": null,
            "_view_module_version": "1.5.0",
            "description_tooltip": null,
            "_model_module": "@jupyter-widgets/controls",
            "layout": "IPY_MODEL_2549ce3fd01c43e48a45f27ef7beed43"
          }
        },
        "fe781eda7f3b4782859880022cbc8639": {
          "model_module": "@jupyter-widgets/controls",
          "model_name": "ProgressStyleModel",
          "state": {
            "_view_name": "StyleView",
            "_model_name": "ProgressStyleModel",
            "description_width": "initial",
            "_view_module": "@jupyter-widgets/base",
            "_model_module_version": "1.5.0",
            "_view_count": null,
            "_view_module_version": "1.2.0",
            "bar_color": null,
            "_model_module": "@jupyter-widgets/controls"
          }
        },
        "bc1859a4100f4f0cbc5d068f194f4e9c": {
          "model_module": "@jupyter-widgets/base",
          "model_name": "LayoutModel",
          "state": {
            "_view_name": "LayoutView",
            "grid_template_rows": null,
            "right": null,
            "justify_content": null,
            "_view_module": "@jupyter-widgets/base",
            "overflow": null,
            "_model_module_version": "1.2.0",
            "_view_count": null,
            "flex_flow": null,
            "width": null,
            "min_width": null,
            "border": null,
            "align_items": null,
            "bottom": null,
            "_model_module": "@jupyter-widgets/base",
            "top": null,
            "grid_column": null,
            "overflow_y": null,
            "overflow_x": null,
            "grid_auto_flow": null,
            "grid_area": null,
            "grid_template_columns": null,
            "flex": null,
            "_model_name": "LayoutModel",
            "justify_items": null,
            "grid_row": null,
            "max_height": null,
            "align_content": null,
            "visibility": null,
            "align_self": null,
            "height": null,
            "min_height": null,
            "padding": null,
            "grid_auto_rows": null,
            "grid_gap": null,
            "max_width": null,
            "order": null,
            "_view_module_version": "1.2.0",
            "grid_template_areas": null,
            "object_position": null,
            "object_fit": null,
            "grid_auto_columns": null,
            "margin": null,
            "display": null,
            "left": null
          }
        },
        "823e15e502114d899ddf84d6afdf6ad3": {
          "model_module": "@jupyter-widgets/controls",
          "model_name": "DescriptionStyleModel",
          "state": {
            "_view_name": "StyleView",
            "_model_name": "DescriptionStyleModel",
            "description_width": "",
            "_view_module": "@jupyter-widgets/base",
            "_model_module_version": "1.5.0",
            "_view_count": null,
            "_view_module_version": "1.2.0",
            "_model_module": "@jupyter-widgets/controls"
          }
        },
        "2549ce3fd01c43e48a45f27ef7beed43": {
          "model_module": "@jupyter-widgets/base",
          "model_name": "LayoutModel",
          "state": {
            "_view_name": "LayoutView",
            "grid_template_rows": null,
            "right": null,
            "justify_content": null,
            "_view_module": "@jupyter-widgets/base",
            "overflow": null,
            "_model_module_version": "1.2.0",
            "_view_count": null,
            "flex_flow": null,
            "width": null,
            "min_width": null,
            "border": null,
            "align_items": null,
            "bottom": null,
            "_model_module": "@jupyter-widgets/base",
            "top": null,
            "grid_column": null,
            "overflow_y": null,
            "overflow_x": null,
            "grid_auto_flow": null,
            "grid_area": null,
            "grid_template_columns": null,
            "flex": null,
            "_model_name": "LayoutModel",
            "justify_items": null,
            "grid_row": null,
            "max_height": null,
            "align_content": null,
            "visibility": null,
            "align_self": null,
            "height": null,
            "min_height": null,
            "padding": null,
            "grid_auto_rows": null,
            "grid_gap": null,
            "max_width": null,
            "order": null,
            "_view_module_version": "1.2.0",
            "grid_template_areas": null,
            "object_position": null,
            "object_fit": null,
            "grid_auto_columns": null,
            "margin": null,
            "display": null,
            "left": null
          }
        },
        "a6ecab7d43ff449a998e4316f054af85": {
          "model_module": "@jupyter-widgets/controls",
          "model_name": "HBoxModel",
          "state": {
            "_view_name": "HBoxView",
            "_dom_classes": [],
            "_model_name": "HBoxModel",
            "_view_module": "@jupyter-widgets/controls",
            "_model_module_version": "1.5.0",
            "_view_count": null,
            "_view_module_version": "1.5.0",
            "box_style": "",
            "layout": "IPY_MODEL_ed2a7f480e384e2fa1a4dc3742307223",
            "_model_module": "@jupyter-widgets/controls",
            "children": [
              "IPY_MODEL_f6ff062fb87c4a3e9fc8043e307459b7",
              "IPY_MODEL_d863c8844dce4d19a69308c7901de894"
            ]
          }
        },
        "ed2a7f480e384e2fa1a4dc3742307223": {
          "model_module": "@jupyter-widgets/base",
          "model_name": "LayoutModel",
          "state": {
            "_view_name": "LayoutView",
            "grid_template_rows": null,
            "right": null,
            "justify_content": null,
            "_view_module": "@jupyter-widgets/base",
            "overflow": null,
            "_model_module_version": "1.2.0",
            "_view_count": null,
            "flex_flow": null,
            "width": null,
            "min_width": null,
            "border": null,
            "align_items": null,
            "bottom": null,
            "_model_module": "@jupyter-widgets/base",
            "top": null,
            "grid_column": null,
            "overflow_y": null,
            "overflow_x": null,
            "grid_auto_flow": null,
            "grid_area": null,
            "grid_template_columns": null,
            "flex": null,
            "_model_name": "LayoutModel",
            "justify_items": null,
            "grid_row": null,
            "max_height": null,
            "align_content": null,
            "visibility": null,
            "align_self": null,
            "height": null,
            "min_height": null,
            "padding": null,
            "grid_auto_rows": null,
            "grid_gap": null,
            "max_width": null,
            "order": null,
            "_view_module_version": "1.2.0",
            "grid_template_areas": null,
            "object_position": null,
            "object_fit": null,
            "grid_auto_columns": null,
            "margin": null,
            "display": null,
            "left": null
          }
        },
        "f6ff062fb87c4a3e9fc8043e307459b7": {
          "model_module": "@jupyter-widgets/controls",
          "model_name": "FloatProgressModel",
          "state": {
            "_view_name": "ProgressView",
            "style": "IPY_MODEL_b7b519b64781481793a6d6a638358603",
            "_dom_classes": [],
            "description": "100%",
            "_model_name": "FloatProgressModel",
            "bar_style": "success",
            "max": 999,
            "_view_module": "@jupyter-widgets/controls",
            "_model_module_version": "1.5.0",
            "value": 999,
            "_view_count": null,
            "_view_module_version": "1.5.0",
            "orientation": "horizontal",
            "min": 0,
            "description_tooltip": null,
            "_model_module": "@jupyter-widgets/controls",
            "layout": "IPY_MODEL_4f980f4e1fb74ec393c652ff82c778f4"
          }
        },
        "d863c8844dce4d19a69308c7901de894": {
          "model_module": "@jupyter-widgets/controls",
          "model_name": "HTMLModel",
          "state": {
            "_view_name": "HTMLView",
            "style": "IPY_MODEL_74950251869b4e8f891c9b1d4a95946b",
            "_dom_classes": [],
            "description": "",
            "_model_name": "HTMLModel",
            "placeholder": "​",
            "_view_module": "@jupyter-widgets/controls",
            "_model_module_version": "1.5.0",
            "value": " 999/999 [1:49:52&lt;00:00,  6.60s/it]",
            "_view_count": null,
            "_view_module_version": "1.5.0",
            "description_tooltip": null,
            "_model_module": "@jupyter-widgets/controls",
            "layout": "IPY_MODEL_409d2d203bff4a3496b68098629a4d40"
          }
        },
        "b7b519b64781481793a6d6a638358603": {
          "model_module": "@jupyter-widgets/controls",
          "model_name": "ProgressStyleModel",
          "state": {
            "_view_name": "StyleView",
            "_model_name": "ProgressStyleModel",
            "description_width": "initial",
            "_view_module": "@jupyter-widgets/base",
            "_model_module_version": "1.5.0",
            "_view_count": null,
            "_view_module_version": "1.2.0",
            "bar_color": null,
            "_model_module": "@jupyter-widgets/controls"
          }
        },
        "4f980f4e1fb74ec393c652ff82c778f4": {
          "model_module": "@jupyter-widgets/base",
          "model_name": "LayoutModel",
          "state": {
            "_view_name": "LayoutView",
            "grid_template_rows": null,
            "right": null,
            "justify_content": null,
            "_view_module": "@jupyter-widgets/base",
            "overflow": null,
            "_model_module_version": "1.2.0",
            "_view_count": null,
            "flex_flow": null,
            "width": null,
            "min_width": null,
            "border": null,
            "align_items": null,
            "bottom": null,
            "_model_module": "@jupyter-widgets/base",
            "top": null,
            "grid_column": null,
            "overflow_y": null,
            "overflow_x": null,
            "grid_auto_flow": null,
            "grid_area": null,
            "grid_template_columns": null,
            "flex": null,
            "_model_name": "LayoutModel",
            "justify_items": null,
            "grid_row": null,
            "max_height": null,
            "align_content": null,
            "visibility": null,
            "align_self": null,
            "height": null,
            "min_height": null,
            "padding": null,
            "grid_auto_rows": null,
            "grid_gap": null,
            "max_width": null,
            "order": null,
            "_view_module_version": "1.2.0",
            "grid_template_areas": null,
            "object_position": null,
            "object_fit": null,
            "grid_auto_columns": null,
            "margin": null,
            "display": null,
            "left": null
          }
        },
        "74950251869b4e8f891c9b1d4a95946b": {
          "model_module": "@jupyter-widgets/controls",
          "model_name": "DescriptionStyleModel",
          "state": {
            "_view_name": "StyleView",
            "_model_name": "DescriptionStyleModel",
            "description_width": "",
            "_view_module": "@jupyter-widgets/base",
            "_model_module_version": "1.5.0",
            "_view_count": null,
            "_view_module_version": "1.2.0",
            "_model_module": "@jupyter-widgets/controls"
          }
        },
        "409d2d203bff4a3496b68098629a4d40": {
          "model_module": "@jupyter-widgets/base",
          "model_name": "LayoutModel",
          "state": {
            "_view_name": "LayoutView",
            "grid_template_rows": null,
            "right": null,
            "justify_content": null,
            "_view_module": "@jupyter-widgets/base",
            "overflow": null,
            "_model_module_version": "1.2.0",
            "_view_count": null,
            "flex_flow": null,
            "width": null,
            "min_width": null,
            "border": null,
            "align_items": null,
            "bottom": null,
            "_model_module": "@jupyter-widgets/base",
            "top": null,
            "grid_column": null,
            "overflow_y": null,
            "overflow_x": null,
            "grid_auto_flow": null,
            "grid_area": null,
            "grid_template_columns": null,
            "flex": null,
            "_model_name": "LayoutModel",
            "justify_items": null,
            "grid_row": null,
            "max_height": null,
            "align_content": null,
            "visibility": null,
            "align_self": null,
            "height": null,
            "min_height": null,
            "padding": null,
            "grid_auto_rows": null,
            "grid_gap": null,
            "max_width": null,
            "order": null,
            "_view_module_version": "1.2.0",
            "grid_template_areas": null,
            "object_position": null,
            "object_fit": null,
            "grid_auto_columns": null,
            "margin": null,
            "display": null,
            "left": null
          }
        }
      }
    }
  },
  "cells": [
    {
      "cell_type": "code",
      "metadata": {
        "id": "qQFJKgGbVkxi",
        "colab_type": "code",
        "colab": {
          "base_uri": "https://localhost:8080/",
          "height": 425
        },
        "outputId": "093a241f-92f9-4ffd-b474-d041adf6a283"
      },
      "source": [
        "!pip install selenium\n",
        "!apt-get update\n",
        "!apt install chromium-chromedriver\n",
        "!cp /usr/lib/chromium-browser/chromedriver /usr/bin\n"
      ],
      "execution_count": null,
      "outputs": [
        {
          "output_type": "stream",
          "text": [
            "Requirement already satisfied: selenium in /usr/local/lib/python3.6/dist-packages (3.141.0)\n",
            "Requirement already satisfied: urllib3 in /usr/local/lib/python3.6/dist-packages (from selenium) (1.24.3)\n",
            "Get:1 https://cloud.r-project.org/bin/linux/ubuntu bionic-cran35/ InRelease [3,626 B]\n",
            "Ign:2 https://developer.download.nvidia.com/compute/cuda/repos/ubuntu1804/x86_64  InRelease\n",
            "Get:3 http://security.ubuntu.com/ubuntu bionic-security InRelease [88.7 kB]\n",
            "Hit:4 http://ppa.launchpad.net/graphics-drivers/ppa/ubuntu bionic InRelease\n",
            "Ign:5 https://developer.download.nvidia.com/compute/machine-learning/repos/ubuntu1804/x86_64  InRelease\n",
            "Hit:6 https://developer.download.nvidia.com/compute/cuda/repos/ubuntu1804/x86_64  Release\n",
            "Hit:7 http://archive.ubuntu.com/ubuntu bionic InRelease\n",
            "Hit:8 https://developer.download.nvidia.com/compute/machine-learning/repos/ubuntu1804/x86_64  Release\n",
            "Get:9 http://archive.ubuntu.com/ubuntu bionic-updates InRelease [88.7 kB]\n",
            "Hit:10 http://ppa.launchpad.net/marutter/c2d4u3.5/ubuntu bionic InRelease\n",
            "Get:11 http://archive.ubuntu.com/ubuntu bionic-backports InRelease [74.6 kB]\n",
            "Fetched 256 kB in 2s (104 kB/s)\n",
            "Reading package lists... Done\n",
            "Reading package lists... Done\n",
            "Building dependency tree       \n",
            "Reading state information... Done\n",
            "chromium-chromedriver is already the newest version (84.0.4147.105-0ubuntu0.18.04.1).\n",
            "The following package was automatically installed and is no longer required:\n",
            "  libnvidia-common-440\n",
            "Use 'apt autoremove' to remove it.\n",
            "0 upgraded, 0 newly installed, 0 to remove and 69 not upgraded.\n",
            "cp: '/usr/lib/chromium-browser/chromedriver' and '/usr/bin/chromedriver' are the same file\n"
          ],
          "name": "stdout"
        }
      ]
    },
    {
      "cell_type": "code",
      "metadata": {
        "id": "PdwUSRtmWVQN",
        "colab_type": "code",
        "colab": {}
      },
      "source": [
        "import sys\n",
        "sys.path.insert(0,'/usr/lib/chromium-browser/chromedriver')\n",
        "from selenium import webdriver\n",
        "from tqdm import tqdm_notebook as tqdm\n",
        "import pandas as pd\n",
        "import json\n",
        "import pprint\n",
        "import time\n"
      ],
      "execution_count": null,
      "outputs": []
    },
    {
      "cell_type": "code",
      "metadata": {
        "id": "75p0acXMWwON",
        "colab_type": "code",
        "colab": {}
      },
      "source": [
        "chrome_options=webdriver.ChromeOptions()\n",
        "chrome_options.add_argument('--headless')\n",
        "chrome_options.add_argument('--no-sandbox')\n",
        "chrome_options.add_argument('--disable-dev-shm-usage')\n",
        "wd = webdriver.Chrome('chromedriver',options=chrome_options)"
      ],
      "execution_count": null,
      "outputs": []
    },
    {
      "cell_type": "code",
      "metadata": {
        "id": "vir5CpnhSNF1",
        "colab_type": "code",
        "colab": {}
      },
      "source": [
        ""
      ],
      "execution_count": null,
      "outputs": []
    },
    {
      "cell_type": "code",
      "metadata": {
        "id": "gNuHHINwPnwK",
        "colab_type": "code",
        "colab": {}
      },
      "source": [
        "wd.get(\"https://comics.panini.it/store/pub_ita_it/magazines/manga.html\")"
      ],
      "execution_count": null,
      "outputs": []
    },
    {
      "cell_type": "code",
      "metadata": {
        "id": "bTW-i9C_o8TL",
        "colab_type": "code",
        "colab": {
          "base_uri": "https://localhost:8080/",
          "height": 137,
          "referenced_widgets": [
            "edad84d4b1eb4d098eddffe2fd019638",
            "7b2b4775e67b415fb76c6bdfa2a92a0c",
            "ed0b62b34c614771b4e5cf9e004e1f35",
            "02b684f95c5a4c9c91ab41a3e4e1d0fd",
            "fe781eda7f3b4782859880022cbc8639",
            "bc1859a4100f4f0cbc5d068f194f4e9c",
            "823e15e502114d899ddf84d6afdf6ad3",
            "2549ce3fd01c43e48a45f27ef7beed43"
          ]
        },
        "outputId": "cc6c8e44-5d48-4466-857d-740ef7cb053b"
      },
      "source": [
        "lista_marvel = [] #131\n",
        "for i in tqdm(range(91, 131)):\n",
        "  try:\n",
        "    test = []\n",
        "    time.sleep(1)\n",
        "    chrome_options=webdriver.ChromeOptions()\n",
        "    chrome_options.add_argument('--headless')\n",
        "    chrome_options.add_argument('--no-sandbox')\n",
        "    chrome_options.add_argument('--disable-dev-shm-usage')\n",
        "    wd = webdriver.Chrome('chromedriver',options=chrome_options)\n",
        "    wd.get(f\"https://comics.panini.it/store/pub_ita_it/magazines/manga.html?p={i}\")\n",
        "    test = wd.find_elements_by_css_selector(\"div.col-md-9 > h3 > a\")\n",
        "    for y in range(len(test)):\n",
        "      lista_marvel.append(test[y].get_attribute(\"href\"))\n",
        "  except Exception as e:\n",
        "    continue\n",
        "    "
      ],
      "execution_count": null,
      "outputs": [
        {
          "output_type": "stream",
          "text": [
            "/usr/local/lib/python3.6/dist-packages/ipykernel_launcher.py:2: TqdmDeprecationWarning: This function will be removed in tqdm==5.0.0\n",
            "Please use `tqdm.notebook.tqdm` instead of `tqdm.tqdm_notebook`\n",
            "  \n"
          ],
          "name": "stderr"
        },
        {
          "output_type": "display_data",
          "data": {
            "application/vnd.jupyter.widget-view+json": {
              "model_id": "edad84d4b1eb4d098eddffe2fd019638",
              "version_minor": 0,
              "version_major": 2
            },
            "text/plain": [
              "HBox(children=(FloatProgress(value=0.0, max=40.0), HTML(value='')))"
            ]
          },
          "metadata": {
            "tags": []
          }
        },
        {
          "output_type": "stream",
          "text": [
            "\n"
          ],
          "name": "stdout"
        }
      ]
    },
    {
      "cell_type": "code",
      "metadata": {
        "id": "bGX76rGUqWEr",
        "colab_type": "code",
        "colab": {
          "base_uri": "https://localhost:8080/",
          "height": 34
        },
        "outputId": "472df793-61e0-4f6e-b41e-10a45f79fad8"
      },
      "source": [
        "print(len(lista_marvel))"
      ],
      "execution_count": null,
      "outputs": [
        {
          "output_type": "stream",
          "text": [
            "999\n"
          ],
          "name": "stdout"
        }
      ]
    },
    {
      "cell_type": "code",
      "metadata": {
        "id": "y3pFDRWSwink",
        "colab_type": "code",
        "colab": {
          "base_uri": "https://localhost:8080/",
          "height": 54
        },
        "outputId": "ddcfc7dd-eda4-46d2-aded-24f8f7150cca"
      },
      "source": [
        "print(lista_marvel)"
      ],
      "execution_count": null,
      "outputs": [
        {
          "output_type": "stream",
          "text": [
            "['https://comics.panini.it/store/pub_ita_it/mmcod028-it-manga-code-manga-code-blood-lad-15.html', 'https://comics.panini.it/store/pub_ita_it/mmiem127-it-mille-emozioni-frecce-velenose-7.html', 'https://comics.panini.it/store/pub_ita_it/maras016-it-collana-arashi-ex-ken-seraph-of-the-end-8-5.html', 'https://comics.panini.it/store/pub_ita_it/mdeat012isbn-it-deathless-deathless-n-12.html', 'https://comics.panini.it/store/pub_ita_it/mshik015-it-shikabane-hime-shikabane-hime-n-15.html', 'https://comics.panini.it/store/pub_ita_it/mdnbl006isbnr-it-death-note-black-edition-death-note-black-edition-4-libro.html', 'https://comics.panini.it/store/pub_ita_it/marob011isbn-it-arpeggio-of-blue-steel-arpeggio-of-blue-steel-n-11.html', 'https://comics.panini.it/store/pub_ita_it/mmgno093r-it-manga-graphic-novel-blue-exorcist-10-prima-ristampa-isbn.html', 'https://comics.panini.it/store/pub_ita_it/mdede001isbn-it-dead-dead-demon-dedededestruct-dead-dead-demon-dedededestr.html', 'https://comics.panini.it/store/pub_ita_it/mshima014isbn-it-shimauma-zebra-n-14.html', 'https://comics.panini.it/store/pub_ita_it/makun001isbnr-it-aku-no-hana-i-fiori-del-male-1-prima-ristampa-isbn.html', 'https://comics.panini.it/store/pub_ita_it/mnaro009isbn-it-romanzo-di-naruto-sakura-hiden.html', 'https://comics.panini.it/store/pub_ita_it/mmala009-it-manga-land-tokko-zero-n-3.html', 'https://comics.panini.it/store/pub_ita_it/mncol008-it-naruto-a-colori-naruto-a-colori-n-8.html', 'https://comics.panini.it/store/pub_ita_it/mbeco038-it-bersek-collection-bersek-collection-n-38.html', 'https://comics.panini.it/store/pub_ita_it/mdnbl005isbnr-it-death-note-black-edition-death-note-black-edition-5-prima.html', 'https://comics.panini.it/store/pub_ita_it/mmgno080r2-it-manga-graphic-novel-blue-exorcist-2-seconda-ristampa-isbn.html', 'https://comics.panini.it/store/pub_ita_it/mnaru051r-it-naruto-il-mito-naruto-il-mito-51-prima-ristampa-isbn.html', 'https://comics.panini.it/store/pub_ita_it/mmasn070-it-manga-storie-nuova-serie-manga-storie-nuova-serie-ultimo.html', 'https://comics.panini.it/store/pub_ita_it/mkeni036-it-history-strongest-disciple-ken-history-strongest-discip-n.html', 'https://comics.panini.it/store/pub_ita_it/mblea004r4-it-bleach-bleach-4-quarta-ristampa.html', 'https://comics.panini.it/store/pub_ita_it/mplai024-it-planet-ai-one-week-friends-n-6.html', 'https://comics.panini.it/store/pub_ita_it/mmons002isbnr3-it-monster-monster-deluxe-2-terza-ristampa-isbn.html', 'https://comics.panini.it/store/pub_ita_it/mdekr003isbn-it-demokratia-demokratia-3.html', 'https://comics.panini.it/store/pub_ita_it/mmico013-it-manga-icon-maoyu-il-re-dei-demoni-e-l-eroe-13.html', 'https://comics.panini.it/store/pub_ita_it/manhe079-it-angel-heart-angel-heart-nuova-serie-13.html', 'https://comics.panini.it/store/pub_ita_it/mmgno023r3-it-manga-graphic-novel-homunculus-1-terza-ristampa.html', 'https://comics.panini.it/store/pub_ita_it/mnote005r5-it-death-note-death-note-5-quinta-ristampa-isbn.html', 'https://comics.panini.it/store/pub_ita_it/mmale178-it-manga-legend-manga-legend-saint-seiya-saintia-sho-6.html', 'https://comics.panini.it/store/pub_ita_it/maher016-it-manga-hero-attacco-a-scuola-coi-giganti-n-6.html', 'https://comics.panini.it/store/pub_ita_it/mganz015-it-gantz-riedizione-gantz-riedizione-n-15.html', 'https://comics.panini.it/store/pub_ita_it/mmost002-it-collana-monster-yo-kai-watch-n-2.html', 'https://comics.panini.it/store/pub_ita_it/mmanx121-it-manga-mix-arpeggio-of-blue-steel-11.html', 'https://comics.panini.it/store/pub_ita_it/motak005isbn-it-otaku-teacher-isbn-otaku-teacher-5-libro-isbn.html', 'https://comics.panini.it/store/pub_ita_it/mamam004isbn-it-amami-lo-stesso-amami-lo-stesso-libro-isbn-6.html', 'https://comics.panini.it/store/pub_ita_it/mlupe011-it-lupin-iii-lupin-iii-11.html', 'https://comics.panini.it/store/pub_ita_it/makum023-it-resident-evil-akuma-magical-girl-of-the-end-11.html', 'https://comics.panini.it/store/pub_ita_it/mmasa032-it-manga-saga-manga-saga-n-32.html', 'https://comics.panini.it/store/pub_ita_it/mmato143-it-manga-top-eva-ikari-shinji-17.html', 'https://comics.panini.it/store/pub_ita_it/mncol007-it-naruto-a-colori-naruto-a-colori-n-7.html', 'https://comics.panini.it/store/pub_ita_it/myume016-it-yume-yume-romantica-clock-8.html', 'https://comics.panini.it/store/pub_ita_it/mmaan026-it-manga-angel-tsubasa-e-hotaru-n-3.html', 'https://comics.panini.it/store/pub_ita_it/mnaru069-it-naruto-il-mito-naruto-il-mito-n-69.html', 'https://comics.panini.it/store/pub_ita_it/mmalo149-it-manga-love-manga-love-bugie-d-amore-n-19.html', 'https://comics.panini.it/store/pub_ita_it/mmaro010-it-manga-rock-manga-rock-n-10.html', 'https://comics.panini.it/store/pub_ita_it/muniv131-it-manga-universe-revenge-classroom-n-3.html', 'https://comics.panini.it/store/pub_ita_it/mlaro018-it-lanterne-rosse-alita-4.html', 'https://comics.panini.it/store/pub_ita_it/mtrib019isbn-it-trinity-blood-trinity-blood-n-19.html', 'https://comics.panini.it/store/pub_ita_it/mgnar067isbn-it-naruto-gold-naruto-gold-n-67.html', 'https://comics.panini.it/store/pub_ita_it/mglam005-it-glam-soul-reviver-n-5.html', 'https://comics.panini.it/store/pub_ita_it/mcopl157-it-collana-planet-yugo-dolce-primo-amore-n-9.html', 'https://comics.panini.it/store/pub_ita_it/mpurp016-it-collana-purple-collana-purple-n-16.html', 'https://comics.panini.it/store/pub_ita_it/mgnar067-it-naruto-gold-naruto-gold-n-67.html', 'https://comics.panini.it/store/pub_ita_it/mmred009-it-red-red-il-filo-rosso-n-9.html', 'https://comics.panini.it/store/pub_ita_it/mtrix012isbn-it-triage-x-triage-x-n-12.html', 'https://comics.panini.it/store/pub_ita_it/mgema020-it-generation-manga-l-attacco-dei-giganti-20.html', 'https://comics.panini.it/store/pub_ita_it/m21cb002isbnr3-it-20th-century-boys-21st-century-boys-2-terza-ristampa-isbn.html', 'https://comics.panini.it/store/pub_ita_it/mohoh013isbn-it-oh-ohku-ooku-le-stanze-proibite-n-13.html', 'https://comics.panini.it/store/pub_ita_it/mmost001-it-collana-monster-monster-1.html', 'https://comics.panini.it/store/pub_ita_it/maadv021-it-manga-adventure-manga-adventure-trinity-seven-13.html', 'https://comics.panini.it/store/pub_ita_it/mplpi029-it-planet-pink-clover-in-love-n-3.html', 'https://comics.panini.it/store/pub_ita_it/mncol006-it-naruto-a-colori-naruto-a-colori-6.html', 'https://comics.panini.it/store/pub_ita_it/mmahe026-it-manga-heart-liselotte-e-la-foresta-delle-streghe-n-5.html', 'https://comics.panini.it/store/pub_ita_it/mhuxh028r-it-hunter-x-hunter-hunter-x-hunter-28-prima-ristampa-isbn.html', 'https://comics.panini.it/store/pub_ita_it/mblue007-it-blue-fullmetal-panic-zero-n-4.html', 'https://comics.panini.it/store/pub_ita_it/mmaex036-it-manga-extra-kerberos-in-the-silver-rain-n-3.html', 'https://comics.panini.it/store/pub_ita_it/mmaon028-it-manga-one-one-punch-man-n-7.html', 'https://comics.panini.it/store/pub_ita_it/mloja024-it-kanoko-parole-d-amore-n-10.html', 'https://comics.panini.it/store/pub_ita_it/mmgno105-it-manga-graphic-novel-ao-no-exorcist-17.html', 'https://comics.panini.it/store/pub_ita_it/m23sc009isbn-it-i-miei-23-schiavi-i-miei-23-schiavi-n-9.html', 'https://comics.panini.it/store/pub_ita_it/mganz014-it-gantz-riedizione-gantz-14-riedizione.html', 'https://comics.panini.it/store/pub_ita_it/mpten041isbn-it-prince-of-tennis-il-principe-del-tennis-41.html', 'https://comics.panini.it/store/pub_ita_it/mmabl038-it-manga-blade-manga-blade-akame-ga-kill-n-11.html', 'https://comics.panini.it/store/pub_ita_it/mlupe010-it-lupin-iii-lupin-iii-10.html', 'https://comics.panini.it/store/pub_ita_it/mgata005r-it-gangsta-gangsta-5-prima-ristampa-isbn.html', 'https://comics.panini.it/store/pub_ita_it/mnaru018r3-it-naruto-il-mito-naruto-il-mito-18-terza-ristampa-isbn.html', 'https://comics.panini.it/store/pub_ita_it/mkeni035-it-history-strongest-disciple-ken-history-strongest-discip-n.html', 'https://comics.panini.it/store/pub_ita_it/mamam003isbn-it-amami-lo-stesso-amami-lo-stesso-libro-isbn-5.html', 'https://comics.panini.it/store/pub_ita_it/mtoes014isbn-it-tokyo-esp-tokyo-esp-n-14.html', 'https://comics.panini.it/store/pub_ita_it/mincu004-it-incubo-incubi-a-occhi-aperti-n-4.html', 'https://comics.panini.it/store/pub_ita_it/mpsyc023isbn-it-mpd-psyco-mpd-psyco-n-23.html', 'https://comics.panini.it/store/pub_ita_it/mmaan012r2-it-manga-angel-a-un-passo-da-te-ao-haru-ride-2-seconda-rist.html', 'https://comics.panini.it/store/pub_ita_it/mnaru050r-it-naruto-il-mito-naruto-il-mito-50-prima-ristampa-isbn.html', 'https://comics.panini.it/store/pub_ita_it/mblat006isbn-it-blame-blame-n-6.html', 'https://comics.panini.it/store/pub_ita_it/maras011r-it-collana-arashi-ex-ken-seraph-of-the-end-4-prima-ristampa.html', 'https://comics.panini.it/store/pub_ita_it/mmiem126-it-mille-emozioni-frecce-velenose-6.html', 'https://comics.panini.it/store/pub_ita_it/mmafi032-it-manga-fight-assassination-classroom-n-17.html', 'https://comics.panini.it/store/pub_ita_it/mmmoo015-it-manga-moon-manga-moon-ogni-nostro-venerdi-n-8.html', 'https://comics.panini.it/store/pub_ita_it/mmaki037-it-manga-kiss-per-colpa-tua-mi-batte-il-cuore-extra.html', 'https://comics.panini.it/store/pub_ita_it/mlupe002r-it-lupin-iii-lupin-iii-2-prima-ristampa-isbn.html', 'https://comics.panini.it/store/pub_ita_it/mspwo013isbn-it-spice-and-wolf-spice-and-wolf-n-13.html', 'https://comics.panini.it/store/pub_ita_it/mmale177-it-manga-legend-manga-legend-saint-seya-lost-canvas-extra-14.html', 'https://comics.panini.it/store/pub_ita_it/mgema016r-it-generation-manga-l-attacco-dei-giganti-16-prima-ristampa.html', 'https://comics.panini.it/store/pub_ita_it/mbers076-it-bersek-marvel-manga-bersek-marvel-manga-n-76.html', 'https://comics.panini.it/store/pub_ita_it/maras015-it-collana-arashi-ex-ken-seraph-of-the-end-8.html', 'https://comics.panini.it/store/pub_ita_it/mmamy016-it-manga-mystery-yakumo-spinoff-mikoshiba-gakuto-4.html', 'https://comics.panini.it/store/pub_ita_it/mncol005-it-naruto-a-colori-naruto-a-colori-5.html', 'https://comics.panini.it/store/pub_ita_it/mmaso025-it-manga-sound-psycho-pass-n-2.html', 'https://comics.panini.it/store/pub_ita_it/mmali023-it-manga-life-manga-life-psycho-pass-n-2.html', 'https://comics.panini.it/store/pub_ita_it/mtibu008isbn-it-tiger-bunny-tiger-bunny-n-8.html', 'https://comics.panini.it/store/pub_ita_it/mghst006-it-gost-ghost-la-torre-fantasma-n-6.html', 'https://comics.panini.it/store/pub_ita_it/mlaro017-it-lanterne-rosse-alita-3.html', 'https://comics.panini.it/store/pub_ita_it/mkoda006r-it-kodama-inuyashiki-2-prima-ristampa-isbn.html', 'https://comics.panini.it/store/pub_ita_it/mrede020isbn-it-red-eyes-red-eyes-n-20.html', 'https://comics.panini.it/store/pub_ita_it/mplai023-it-planet-ai-one-week-friends-n-5.html', 'https://comics.panini.it/store/pub_ita_it/mplut003isbnr2-it-pluto-pluto-3-seconda-ristampa-isbn.html', 'https://comics.panini.it/store/pub_ita_it/mnaro008isbn-it-romanzo-di-naruto-romanzo-di-naruto-the-last.html', 'https://comics.panini.it/store/pub_ita_it/mfmal001r7-it-fullmetal-alchemist-fullmetal-alchemist-1-settima-ristampa.html', 'https://comics.panini.it/store/pub_ita_it/mgble063-it-bleach-golden-bleach-golden-n-63.html', 'https://comics.panini.it/store/pub_ita_it/marob010isbn-it-arpeggio-of-blue-steel-arpeggio-of-blue-steel-n-10.html', 'https://comics.panini.it/store/pub_ita_it/mlupe009-it-lupin-iii-lupin-iii-9.html', 'https://comics.panini.it/store/pub_ita_it/mhyki004isbn-it-hyakusho-kizoku-nobilta-contadina-4-n-4.html', 'https://comics.panini.it/store/pub_ita_it/mkuro021isbn-it-kurosagi-kurosagi-n-21.html', 'https://comics.panini.it/store/pub_ita_it/mnats017isbn-it-natsume-jujin-cho-natsume-degli-spiriti-17.html', 'https://comics.panini.it/store/pub_ita_it/mfmal021r3-it-fullmetal-alchemist-fullmetal-alchemist-21-terza-ristampa.html', 'https://comics.panini.it/store/pub_ita_it/mgble063isbn-it-bleach-golden-manga-gold-bleach-gold-deluxe-n-63.html', 'https://comics.panini.it/store/pub_ita_it/mmaze024-it-manga-zero-manga-zero-maken-ki-16.html', 'https://comics.panini.it/store/pub_ita_it/mkeni034-it-history-strongest-disciple-ken-kenichi-n-34.html', 'https://comics.panini.it/store/pub_ita_it/msoil011isbn-it-soil-soil-11.html', 'https://comics.panini.it/store/pub_ita_it/mdekr002isbn-it-demokratia-demokratia-2.html', 'https://comics.panini.it/store/pub_ita_it/maher015-it-manga-hero-attacco-a-scuola-coi-giganti-n-5.html', 'https://comics.panini.it/store/pub_ita_it/mganz013-it-gantz-riedizione-gantz-13-riedizione.html', 'https://comics.panini.it/store/pub_ita_it/mhuxh033-it-hunter-x-hunter-hunter-x-hunter-n-33.html', 'https://comics.panini.it/store/pub_ita_it/mnaru003r5-it-naruto-il-mito-naruto-il-mito-3-quinta-ristampa-isbn.html', 'https://comics.panini.it/store/pub_ita_it/mgoku012isbn-it-gokukoku-no-brinhyldr-gokukoku-no-brinhyldr-n-12.html', 'https://comics.panini.it/store/pub_ita_it/mblea002r5-it-bleach-bleach-2-quinta-ristampa-isbn.html', 'https://comics.panini.it/store/pub_ita_it/mdere008isbn-it-destroy-revolution-destroy-revolution-n-8.html', 'https://comics.panini.it/store/pub_ita_it/mncol004-it-naruto-a-colori-naruto-a-colori-4.html', 'https://comics.panini.it/store/pub_ita_it/mnaru008r4-it-naruto-il-mito-naruto-il-mito-8-quarta-ristampa-isbn.html', 'https://comics.panini.it/store/pub_ita_it/mabes009-it-manga-best-bjorg-trinity-n-9.html', 'https://comics.panini.it/store/pub_ita_it/mhepr012isbn-it-heaven-s-prison-heaven-s-prison-n-12.html', 'https://comics.panini.it/store/pub_ita_it/mblea071-it-bleach-bleach-n-71.html', 'https://comics.panini.it/store/pub_ita_it/mshima013isbn-it-shimauma-zebra-12.html', 'https://comics.panini.it/store/pub_ita_it/mlusu018isbn-it-l-usuraio-passa-in-libreria-l-usuraio-passa-in-libr-n-1.html', 'https://comics.panini.it/store/pub_ita_it/mgata004r-it-gangsta-gangsta-4-prima-ristampa-isbn.html', 'https://comics.panini.it/store/pub_ita_it/mamam002isbn-it-amami-lo-stesso-amami-lo-stesso-2.html', 'https://comics.panini.it/store/pub_ita_it/mkoda007r-it-kodama-inuyashiki-3-prima-ristampa-isbn.html', 'https://comics.panini.it/store/pub_ita_it/mnaru048r-it-naruto-il-mito-naruto-il-mito-48-prima-ristampa-isbn.html', 'https://comics.panini.it/store/pub_ita_it/mhuxh032r-it-hunter-x-hunter-hunter-x-hunter-32-prima-ristampa-isbn.html', 'https://comics.panini.it/store/pub_ita_it/mcamn128-it-capolavori-manga-bamboo-blade-8.html', 'https://comics.panini.it/store/pub_ita_it/muniv130-it-manga-universe-revenge-classroom-2.html', 'https://comics.panini.it/store/pub_ita_it/mmaan025-it-manga-angel-tsubasa-e-hotaru-n-2.html', 'https://comics.panini.it/store/pub_ita_it/mpurp015-it-collana-purple-collana-purple-n-15.html', 'https://comics.panini.it/store/pub_ita_it/mlaro016-it-lanterne-rosse-amami-lo-stesso-2.html', 'https://comics.panini.it/store/pub_ita_it/mdrag011isbn-it-dragon-jam-dragon-jam-11.html', 'https://comics.panini.it/store/pub_ita_it/makum022-it-resident-evil-akuma-magical-girl-of-the-end-10.html', 'https://comics.panini.it/store/pub_ita_it/mdeat011isbn-it-deathless-deathless-n-11.html', 'https://comics.panini.it/store/pub_ita_it/myume015-it-yume-romantika-clock-7.html', 'https://comics.panini.it/store/pub_ita_it/mmame030-it-manga-mega-highschool-dxd-9.html', 'https://comics.panini.it/store/pub_ita_it/mblbu023-it-black-butler-black-butler-n-23.html', 'https://comics.panini.it/store/pub_ita_it/mnaru068-it-naruto-il-mito-naruto-il-mito-n-68.html', 'https://comics.panini.it/store/pub_ita_it/mncol003-it-naruto-a-colori-naruto-a-colori-3.html', 'https://comics.panini.it/store/pub_ita_it/mglam004-it-glam-soul-reviver-n-4.html', 'https://comics.panini.it/store/pub_ita_it/mmasa031-it-manga-saga-manga-saga-n-31.html', 'https://comics.panini.it/store/pub_ita_it/mspwo012isbn-it-spice-and-wolf-spice-and-wolf-n-12.html', 'https://comics.panini.it/store/pub_ita_it/mcopl156-it-collana-planet-yugo-dolce-primo-amore-n-8.html', 'https://comics.panini.it/store/pub_ita_it/mmaro009-it-manga-rock-twin-star-exorcists-n-2.html', 'https://comics.panini.it/store/pub_ita_it/mganz012-it-gantz-riedizione-gantz-12-riedizione.html', 'https://comics.panini.it/store/pub_ita_it/masan004isbnr2-it-asano-collection-asano-collection-buonanotte-punpun-1-sec.html', 'https://comics.panini.it/store/pub_ita_it/mgema001r3-it-generation-manga-l-attacco-dei-giganti-terza-ristampa-isb.html', 'https://comics.panini.it/store/pub_ita_it/mlupe008-it-lupin-iii-lupin-iii-8.html', 'https://comics.panini.it/store/pub_ita_it/mnote012r4-it-death-note-death-note-12-quarta-ristampa-isbn.html', 'https://comics.panini.it/store/pub_ita_it/mnaru013r3-it-naruto-il-mito-naruto-il-mito-13-terzaristampa-isbn.html', 'https://comics.panini.it/store/pub_ita_it/mplut007isbnr-it-pluto-pluto-7-prima-ristampa-isbn.html', 'https://comics.panini.it/store/pub_ita_it/mlupe001r-it-lupin-iii-lupin-1-prima-ristampa-libro-isbn.html', 'https://comics.panini.it/store/pub_ita_it/mkeni033-it-history-strongest-disciple-ken-kenichi-n-33.html', 'https://comics.panini.it/store/pub_ita_it/mplpi028-it-planet-pink-clover-in-love-n-2.html', 'https://comics.panini.it/store/pub_ita_it/marob009isbn-it-arpeggio-of-blue-steel-arpeggio-of-blue-steel-n-9.html', 'https://comics.panini.it/store/pub_ita_it/mblue006-it-blue-fullmetal-panic-zero-n-3.html', 'https://comics.panini.it/store/pub_ita_it/mmaex035-it-manga-extra-kerberos-in-the-silver-rain-n-2.html', 'https://comics.panini.it/store/pub_ita_it/mbene035isbnr-it-berserk-collection-serie-nera-berserk-collection-serie-ner.html', 'https://comics.panini.it/store/pub_ita_it/mblea010r3-it-bleach-bleach-10-terza-ristampa-ristampa-isbn.html', 'https://comics.panini.it/store/pub_ita_it/mplut008isbnr-it-pluto-pluto-8-prima-ristampa-isbn.html', 'https://comics.panini.it/store/pub_ita_it/mmico012-it-manga-icon-maoyu-il-re-dei-demoni-e-l-eroe-12.html', 'https://comics.panini.it/store/pub_ita_it/msaku020-it-sakura-otaku-teacher-n-4.html', 'https://comics.panini.it/store/pub_ita_it/mncol002-it-naruto-a-colori-naruto-a-colori-2.html', 'https://comics.panini.it/store/pub_ita_it/mmabl037-it-manga-blade-akame-ga-kill-n-10.html', 'https://comics.panini.it/store/pub_ita_it/m23sc008isbn-it-i-miei-23-schiavi-i-miei-23-schiavi-n-8.html', 'https://comics.panini.it/store/pub_ita_it/mdoro020isbn-it-dorohedoro-dorohedoro-n-20.html', 'https://comics.panini.it/store/pub_ita_it/msoil010isbn-it-soil-soil-n-10.html', 'https://comics.panini.it/store/pub_ita_it/mblat005isbn-it-blame-blame-n-5.html', 'https://comics.panini.it/store/pub_ita_it/mghst005-it-gost-la-torre-fantasma-n-5.html', 'https://comics.panini.it/store/pub_ita_it/mmegu018isbn-it-all-rounder-meguru-all-rounder-meguru-n-18.html', 'https://comics.panini.it/store/pub_ita_it/mmafi031-it-manga-fight-assassination-classroom-n-16.html', 'https://comics.panini.it/store/pub_ita_it/mmmoo014-it-manga-moon-ogni-nostro-venerdi-n-7.html', 'https://comics.panini.it/store/pub_ita_it/mpurp014-it-collana-purple-la-fortezza-dell-apocalisse-11.html', 'https://comics.panini.it/store/pub_ita_it/myawa015isbn-it-yawara-yawara-n-15.html', 'https://comics.panini.it/store/pub_ita_it/mmali022-it-manga-life-manga-life-silver-spoon-14.html', 'https://comics.panini.it/store/pub_ita_it/mnaru067-it-naruto-il-mito-naruto-il-mito-n-67.html', 'https://comics.panini.it/store/pub_ita_it/mmaso024-it-manga-sound-psycho-pass-n-1.html', 'https://comics.panini.it/store/pub_ita_it/mmsup114-it-manga-superstar-revenge-classroom-n-1.html', 'https://comics.panini.it/store/pub_ita_it/maras014-it-collana-arashi-ex-ken-owari-no-seraph-7.html', 'https://comics.panini.it/store/pub_ita_it/mmiem125-it-mille-emozioni-frecce-velenose-n-5.html', 'https://comics.panini.it/store/pub_ita_it/mncol001-it-naruto-a-colori-naruto-a-colori-1.html', 'https://comics.panini.it/store/pub_ita_it/mbers075-it-bersek-marvel-manga-bersek-marvel-manga-n-75.html', 'https://comics.panini.it/store/pub_ita_it/mcopl155-it-collana-planet-yugo-dolce-primo-amore-n-7.html', 'https://comics.panini.it/store/pub_ita_it/mmred008-it-red-il-filo-rosso-n-8.html', 'https://comics.panini.it/store/pub_ita_it/mgnar066isbn-it-naruto-gold-manga-gold-naruto-gold-deluxe-n-66-libro-isb.html', 'https://comics.panini.it/store/pub_ita_it/mmagi035isbn-it-manga-giants-manga-giants-n-35.html', 'https://comics.panini.it/store/pub_ita_it/mmill012isbn-it-il-fiore-millenario-libreria-il-fiore-millenario-lib-n.html', 'https://comics.panini.it/store/pub_ita_it/mplma126-it-planet-manga-naruto-gaiden-the-seventh-hokage.html', 'https://comics.panini.it/store/pub_ita_it/mlaro015-it-lanterne-rosse-dragon-jam-11.html', 'https://comics.panini.it/store/pub_ita_it/mvaga057-it-vagabond-vagabond-n-57.html', 'https://comics.panini.it/store/pub_ita_it/mgnar066-it-naruto-gold-naruto-gold-n-66.html', 'https://comics.panini.it/store/pub_ita_it/mkoda010-it-kodama-kodama-inuyashiki-6.html', 'https://comics.panini.it/store/pub_ita_it/mmodo001isbn-it-il-mondo-di-naruto-fanbook-fanbook-naruto-il-mondo-di-na.html', 'https://comics.panini.it/store/pub_ita_it/msenk007-it-senki-senki-la-leggenda-di-arslan-5.html', 'https://comics.panini.it/store/pub_ita_it/mamam001isbn-it-amami-lo-stesso-amami-lo-stesso.html', 'https://comics.panini.it/store/pub_ita_it/mdekr001isbn-it-demokratia-demokratia-1.html', 'https://comics.panini.it/store/pub_ita_it/mkeni032-it-history-strongest-disciple-ken-kenichi-n-32.html', 'https://comics.panini.it/store/pub_ita_it/mplai022-it-planet-ai-one-week-friends-n-4.html', 'https://comics.panini.it/store/pub_ita_it/mgble062-it-bleach-golden-bleach-golden-n-62.html', 'https://comics.panini.it/store/pub_ita_it/mmaon027-it-manga-one-onepunch-man-n-6.html', 'https://comics.panini.it/store/pub_ita_it/mnote001isbncp-it-death-note-cofanetto-death-note-pieno.html', 'https://comics.panini.it/store/pub_ita_it/mganz011-it-gantz-riedizione-gantz-11-riedizione.html', 'https://comics.panini.it/store/pub_ita_it/maher014-it-manga-hero-attacco-a-scuola-coi-giganti-n-4.html', 'https://comics.panini.it/store/pub_ita_it/mgble062isbn-it-bleach-golden-manga-gold-bleach-gold-deluxe-n-62.html', 'https://comics.panini.it/store/pub_ita_it/mlupe007-it-lupin-iii-lupin-iii-7.html', 'https://comics.panini.it/store/pub_ita_it/mtani011isbn-it-taniguchi-collection-taniguchi-collection-n-11.html', 'https://comics.panini.it/store/pub_ita_it/mnote001isbncv-it-death-note-cofanetto-death-note-vuoto.html', 'https://comics.panini.it/store/pub_ita_it/mmale159r-it-manga-legend-saint-seya-lost-canvas-6-prima-ristampa.html', 'https://comics.panini.it/store/pub_ita_it/mgema015r-it-generation-manga-l-attacco-dei-giganti-15-prima-ristampa.html', 'https://comics.panini.it/store/pub_ita_it/mmaan011r2-it-manga-angel-ao-haru-ride-a-un-passo-da-te-1-seconda-rist.html', 'https://comics.panini.it/store/pub_ita_it/mmaon022r-it-manga-one-one-punch-man-1-prima-ristampa.html', 'https://comics.panini.it/store/pub_ita_it/maras010r-it-collana-arashi-ex-ken-seraph-of-the-end-3-prima-ristampa.html', 'https://comics.panini.it/store/pub_ita_it/mpten040isbn-it-prince-of-tennis-prince-of-tennis-n-40.html', 'https://comics.panini.it/store/pub_ita_it/mbene034isbnr-it-berserk-collection-serie-nera-berserk-collection-serie-ner.html', 'https://comics.panini.it/store/pub_ita_it/mshik014-it-shikabane-hime-la-princepessa-cadavere-n-14.html', 'https://comics.panini.it/store/pub_ita_it/mtali011isbn-it-il-talismano-passa-a-libreria-il-talismano-11-libro-isbn.html', 'https://comics.panini.it/store/pub_ita_it/mbtoo020isbn-it-btoom-btoom-n-20.html', 'https://comics.panini.it/store/pub_ita_it/mmaan019r-it-manga-angel-ao-haru-ride-a-un-passo-da-te-9-prima-ristam.html', 'https://comics.panini.it/store/pub_ita_it/mgema009r2-it-generation-manga-l-attacco-dei-giganti-9-seconda-ristampa.html', 'https://comics.panini.it/store/pub_ita_it/mloja023-it-kanoko-parole-d-amore-9.html', 'https://comics.panini.it/store/pub_ita_it/mmaon023r-it-manga-one-one-punch-man-2-ristampa.html', 'https://comics.panini.it/store/pub_ita_it/mblea043r-it-bleach-bleach-43-prima-ristampa.html', 'https://comics.panini.it/store/pub_ita_it/maras009r-it-collana-arashi-ex-ken-seraph-of-the-end-2-prima-ristampa.html', 'https://comics.panini.it/store/pub_ita_it/mblea020r3-it-bleach-bleach-20-terza-ristampa.html', 'https://comics.panini.it/store/pub_ita_it/mmabl032r-it-manga-blade-akame-ga-kill-5-prima-ristampa.html', 'https://comics.panini.it/store/pub_ita_it/mblbu003r3-it-black-butler-black-butler-3-terza-ristampa.html', 'https://comics.panini.it/store/pub_ita_it/mmaan024-it-manga-angel-tsubasa-e-hotaru-n-1.html', 'https://comics.panini.it/store/pub_ita_it/myume014-it-yume-romantika-clock-6.html', 'https://comics.panini.it/store/pub_ita_it/mpurp013-it-collana-purple-la-fortezza-dell-apocalisse-10.html', 'https://comics.panini.it/store/pub_ita_it/mcamn127-it-capolavori-manga-bamboo-blade-7.html', 'https://comics.panini.it/store/pub_ita_it/muniv129-it-manga-universe-manga-universe-tokyo-esp-14.html', 'https://comics.panini.it/store/pub_ita_it/mincu003-it-incubo-incubi-a-occhi-aperti-n-3.html', 'https://comics.panini.it/store/pub_ita_it/mglam003-it-glam-soul-reviver-n-3.html', 'https://comics.panini.it/store/pub_ita_it/mmaki036-it-manga-kiss-per-colpa-tua-mi-batte-il-cuore-n-5.html', 'https://comics.panini.it/store/pub_ita_it/mmasa030-it-manga-saga-manga-saga-n-30.html', 'https://comics.panini.it/store/pub_ita_it/mknsi012isbnr-it-knights-of-sidonia-knights-of-sidonia-12-prima-ristampa.html', 'https://comics.panini.it/store/pub_ita_it/mhuxh006r3-it-hunter-x-hunter-hunter-x-hunter-6-terza-ristampa.html', 'https://comics.panini.it/store/pub_ita_it/mlovc018isbn-it-lovely-complex-lovely-complex-sequel.html', 'https://comics.panini.it/store/pub_ita_it/mganz010-it-gantz-riedizione-gantz-10-riedizione.html', 'https://comics.panini.it/store/pub_ita_it/mplpi027-it-planet-pink-clover-in-love-n-2.html', 'https://comics.panini.it/store/pub_ita_it/msoil005isbnr-it-soil-soil-5-prima-ristampa.html', 'https://comics.panini.it/store/pub_ita_it/mmaex034-it-manga-extra-kerberos-in-the-silver-rain-n-1.html', 'https://comics.panini.it/store/pub_ita_it/mblea021r3-it-bleach-fullmetal-alchemist-11-terza-ristampa.html', 'https://comics.panini.it/store/pub_ita_it/mlupe006-it-lupin-iii-lupin-iii-6.html', 'https://comics.panini.it/store/pub_ita_it/mfmal011r3-it-fullmetal-alchemist-fullmetal-alchemist-11-terza-ristamp.html', 'https://comics.panini.it/store/pub_ita_it/mmabl031r-it-manga-blade-akame-ga-kill-r-prima-ristampa.html', 'https://comics.panini.it/store/pub_ita_it/mhuxh014isbnr2-it-hunter-x-hunter-hunter-x-hunter-14-seconda-ristampa.html', 'https://comics.panini.it/store/pub_ita_it/mdnbl001isbnr3-it-death-note-black-edition-death-note-1-black-edition-terza.html', 'https://comics.panini.it/store/pub_ita_it/mnaro004isbnr2-it-romanzo-di-naruto-naruto-la-ggenda-dei-ninja-coraggiosi.html', 'https://comics.panini.it/store/pub_ita_it/mkeni031-it-history-strongest-disciple-ken-kenichi-n-31.html', 'https://comics.panini.it/store/pub_ita_it/mmsun111-it-manga-sun-manga-sun-vanilla-fiction-8.html', 'https://comics.panini.it/store/pub_ita_it/msoil004isbnr-it-soil-soil-4-prima-ristampa.html', 'https://comics.panini.it/store/pub_ita_it/mnats016isbn-it-natsume-jujin-cho-natsume-jujin-cho-n-16.html', 'https://comics.panini.it/store/pub_ita_it/mmahe025-it-manga-heart-liselotte-e-la-foresta-delle-streghe-n-4.html', 'https://comics.panini.it/store/pub_ita_it/mbene027isbnr2-it-berserk-collection-serie-nera-berserk-collection-serie-ner.html', 'https://comics.panini.it/store/pub_ita_it/mgnar065-it-naruto-gold-naruto-gold-n-65.html', 'https://comics.panini.it/store/pub_ita_it/msaku019-it-sakura-otaku-teacher-n-3.html', 'https://comics.panini.it/store/pub_ita_it/mmabl036-it-manga-blade-akame-ga-kill-n-9.html', 'https://comics.panini.it/store/pub_ita_it/mgnar065isbn-it-naruto-gold-manga-gold-naruto-gold-deluxe-n-65-libro-isb.html', 'https://comics.panini.it/store/pub_ita_it/m23sc007isbn-it-i-miei-23-schiavi-i-miei-23-schiavi-n-7.html', 'https://comics.panini.it/store/pub_ita_it/mskda032isbn-it-sket-dance-sket-dance-n-32.html', 'https://comics.panini.it/store/pub_ita_it/mmico011-it-manga-icon-maoyu-il-re-dei-demoni-e-l-eroe-11.html', 'https://comics.panini.it/store/pub_ita_it/mmafi030-it-manga-fight-assassination-classroom-n-15.html', 'https://comics.panini.it/store/pub_ita_it/mmmoo013-it-manga-moon-ogni-nostro-venerdi-n-6.html', 'https://comics.panini.it/store/pub_ita_it/mblea070-it-bleach-bleach-n-70.html', 'https://comics.panini.it/store/pub_ita_it/mmalo148-it-manga-love-bugie-d-amore-n-18.html', 'https://comics.panini.it/store/pub_ita_it/mlusu017isbn-it-l-usuraio-passa-in-libreria-l-usuraio-passa-in-libr-n-1.html', 'https://comics.panini.it/store/pub_ita_it/mghst004-it-gost-la-torre-fantasma-n-4.html', 'https://comics.panini.it/store/pub_ita_it/makum021-it-resident-evil-akuma-magical-girl-of-the-end-9.html', 'https://comics.panini.it/store/pub_ita_it/manhe078-it-angel-heart-angel-heart-nuova-serie-12.html', 'https://comics.panini.it/store/pub_ita_it/mgema019-it-generation-manga-l-attacco-dei-giganti-n-19.html', 'https://comics.panini.it/store/pub_ita_it/maras013-it-collana-arashi-ex-ken-owari-no-seraph-6.html', 'https://comics.panini.it/store/pub_ita_it/mgoku011isbn-it-gokukoku-no-brinhyldr-gokukoku-no-brinhyldr-n-11.html', 'https://comics.panini.it/store/pub_ita_it/mmiem124-it-mille-emozioni-zen-zen-1.html', 'https://comics.panini.it/store/pub_ita_it/mnaru002r5-it-naruto-il-mito-naruto-il-mito-2-quinta-ristampa.html', 'https://comics.panini.it/store/pub_ita_it/mhotd011isbn-it-hot-detective-tsubaki-hot-detective-tsubaki-n-11.html', 'https://comics.panini.it/store/pub_ita_it/mlebe020isbn-it-letter-bee-letter-bee-n-20.html', 'https://comics.panini.it/store/pub_ita_it/mkeni030-it-history-strongest-disciple-ken-kenichi-n-30.html', 'https://comics.panini.it/store/pub_ita_it/mmons001isbnr3-it-monster-monster-1-terza-ristampa.html', 'https://comics.panini.it/store/pub_ita_it/mmasn069-it-manga-storie-nuova-serie-manga-storie-nuova-serie-ultimo.html', 'https://comics.panini.it/store/pub_ita_it/mhuxh001r4-it-hunter-x-hunter-hunter-x-hunter-1-quarta-ristampa.html', 'https://comics.panini.it/store/pub_ita_it/mmasho008r-it-manga-shock-attacco-dei-giganti-birth-fo-rivaille-2-prim.html', 'https://comics.panini.it/store/pub_ita_it/mcopl154-it-collana-planet-yugo-dolce-primo-amore-n-6.html', 'https://comics.panini.it/store/pub_ita_it/mmred007-it-red-il-filo-rosso-n-7.html', 'https://comics.panini.it/store/pub_ita_it/mmasho012-it-manga-shock-manga-shock-l-attacco-dei-giganti-before-th.html', 'https://comics.panini.it/store/pub_ita_it/mviga001isbnr-it-chi-vita-da-gatto-chi-vita-da-gatto-1-prima-ristampa.html', 'https://comics.panini.it/store/pub_ita_it/maher013-it-manga-hero-attacco-a-scuola-coi-giganti-n-3.html', 'https://comics.panini.it/store/pub_ita_it/mganz003r-it-gantz-riedizione-gantz-3-prima-ristampa.html', 'https://comics.panini.it/store/pub_ita_it/mlaro014-it-lanterne-rosse-dragon-jam-10.html', 'https://comics.panini.it/store/pub_ita_it/mblbu018r-it-black-butler-black-butler-18.html', 'https://comics.panini.it/store/pub_ita_it/mkoda009-it-kodama-kodama-inuyashiki-5.html', 'https://comics.panini.it/store/pub_ita_it/mgble061-it-bleach-golden-bleach-golden-n-61.html', 'https://comics.panini.it/store/pub_ita_it/msoil009isbn-it-soil-soil-n-9.html', 'https://comics.panini.it/store/pub_ita_it/mganz009-it-gantz-riedizione-gantz-9-riedizione.html', 'https://comics.panini.it/store/pub_ita_it/mabar001isbnr-it-abara-abara-1-prima-ristampa.html', 'https://comics.panini.it/store/pub_ita_it/mplai021-it-planet-ai-one-week-friends-n-3.html', 'https://comics.panini.it/store/pub_ita_it/mganz002r-it-gantz-riedizione-gantz-2-prima-ristampa.html', 'https://comics.panini.it/store/pub_ita_it/mgble061isbn-it-bleach-golden-manga-gold-bleach-gold-deluxe-n-61.html', 'https://comics.panini.it/store/pub_ita_it/mlupe005-it-lupin-iii-lupin-iii-5.html', 'https://comics.panini.it/store/pub_ita_it/mmagi034isbn-it-manga-giants-manga-giants-n-34.html', 'https://comics.panini.it/store/pub_ita_it/mmasho012-it-manga-shock-manga-shock-l-attacco-dei-giganti-before-th.html', 'https://comics.panini.it/store/pub_ita_it/malde010isbn-it-alita-deluxe-tbd.html', 'https://comics.panini.it/store/pub_ita_it/mpurp012-it-collana-purple-la-fortezza-dell-apocalisse-9.html', 'https://comics.panini.it/store/pub_ita_it/mcamn126-it-capolavori-manga-bamboo-blade-6.html', 'https://comics.panini.it/store/pub_ita_it/mplsh075-it-planet-manga-presenta-planet-manga-presenta-tk-crow-6.html', 'https://comics.panini.it/store/pub_ita_it/mbtoo019isbn-it-btoom-btoom-n-19.html', 'https://comics.panini.it/store/pub_ita_it/mmaon026-it-manga-one-onepunch-man-n-5.html', 'https://comics.panini.it/store/pub_ita_it/mmala008-it-manga-land-tokko-zero-n-2.html', 'https://comics.panini.it/store/pub_ita_it/mmaki035-it-manga-kiss-per-colpa-tua-mi-batte-il-cuore-n-4.html', 'https://comics.panini.it/store/pub_ita_it/mglam002-it-glam-glamorous-killers-n-2.html', 'https://comics.panini.it/store/pub_ita_it/mmasa029-it-manga-saga-manga-saga-n-29.html', 'https://comics.panini.it/store/pub_ita_it/mincu002-it-incubo-incubi-a-occhi-aperti-n-2.html', 'https://comics.panini.it/store/pub_ita_it/mmasho007r-it-manga-shock-l-attacco-dei-giganti-birth-of-rivaille-1-pr.html', 'https://comics.panini.it/store/pub_ita_it/mkeni029-it-history-strongest-disciple-ken-kenichi-n-29.html', 'https://comics.panini.it/store/pub_ita_it/mganz001r-it-gantz-riedizione-gantz-nuova-edizione-1-prima-ristampa.html', 'https://comics.panini.it/store/pub_ita_it/mgema014r-it-generation-manga-l-attacco-dei-giganti-14-prima-ristampa.html', 'https://comics.panini.it/store/pub_ita_it/mblea041r2-it-bleach.html', 'https://comics.panini.it/store/pub_ita_it/mbtoo001isbnr-it-btoom.html', 'https://comics.panini.it/store/pub_ita_it/mnaru020r2-it-naruto-il-mito-naruto-il-mito-n-20-lib-ago-07.html', 'https://comics.panini.it/store/pub_ita_it/mplpi026-it-planet-pink-clover-in-love-n-1.html', 'https://comics.panini.it/store/pub_ita_it/mbene018isbnr2-it-berserk-collection-serie-nera.html', 'https://comics.panini.it/store/pub_ita_it/mmegu017isbn-it-all-rounder-meguru-all-rounder-meguru-n-17.html', 'https://comics.panini.it/store/pub_ita_it/mmsup024r3-it-manga-superstar-d-gray-man-5-terza-ristampa.html', 'https://comics.panini.it/store/pub_ita_it/mbene012isbnr2-it-berserk-collection-serie-nera-berserk-collection-serie-ner.html', 'https://comics.panini.it/store/pub_ita_it/msoil002isbnr-it-soil-soil-2-prima-ristampa.html', 'https://comics.panini.it/store/pub_ita_it/mtali010isbn-it-il-talismano-passa-a-libreria-il-talismano-10-libro-isbn.html', 'https://comics.panini.it/store/pub_ita_it/mknsi011isbnr-it-knights-of-sidonia-knights-of-sidonia-11-prima-ristampa.html', 'https://comics.panini.it/store/pub_ita_it/mblat004isbn-it-blame-blame-n-4.html', 'https://comics.panini.it/store/pub_ita_it/mhepr011isbn-it-heaven-s-prison-heaven-s-prison-n-11.html', 'https://comics.panini.it/store/pub_ita_it/mlovc017isbn-it-lovely-complex-lovely-complex-n-17.html', 'https://comics.panini.it/store/pub_ita_it/m23sc006isbn-it-i-miei-23-schiavi.html', 'https://comics.panini.it/store/pub_ita_it/mpten039isbn-it-prince-of-tennis-prince-of-tennis-n-39.html', 'https://comics.panini.it/store/pub_ita_it/mnaru047r-it-naruto-il-mito-naruto-il-mito-47-prima-ristampa.html', 'https://comics.panini.it/store/pub_ita_it/mlupe004-it-lupin-iii-lupin-iii-4.html', 'https://comics.panini.it/store/pub_ita_it/mmico010-it-manga-icon-maoyu-il-re-dei-demoni-e-l-eroe-10.html', 'https://comics.panini.it/store/pub_ita_it/mganz008-it-gantz-riedizione-gantz-8-riedizione.html', 'https://comics.panini.it/store/pub_ita_it/mlusu016isbn-it-l-usuraio-passa-in-libreria-l-usuraio-16.html', 'https://comics.panini.it/store/pub_ita_it/mgnar064-it-naruto-gold-naruto-gold-n-64.html', 'https://comics.panini.it/store/pub_ita_it/mmale176-it-manga-legend-manga-legend-saint-seiya-saintia-sho-5.html', 'https://comics.panini.it/store/pub_ita_it/mshik013-it-shikabane-hime-la-princepessa-cadavere-n-13.html', 'https://comics.panini.it/store/pub_ita_it/mloja022-it-kanoko-parole-d-amore-8.html', 'https://comics.panini.it/store/pub_ita_it/mgnar064isbn-it-naruto-gold-manga-gold-naruto-gold-deluxe-n-64-libro-isb.html', 'https://comics.panini.it/store/pub_ita_it/mmabl035-it-manga-blade-l-usuraio-19.html', 'https://comics.panini.it/store/pub_ita_it/msaku018-it-sakura-otaku-teacher-n-2.html', 'https://comics.panini.it/store/pub_ita_it/mfire007-it-manga-fire-manga-fire-1-sister-devil-7.html', 'https://comics.panini.it/store/pub_ita_it/mmafi029-it-manga-fight-assassination-classroom-n-14.html', 'https://comics.panini.it/store/pub_ita_it/maras012-it-seraph-of-the-end.html', 'https://comics.panini.it/store/pub_ita_it/mghst003-it-gost-la-torre-fantasma-n-3.html', 'https://comics.panini.it/store/pub_ita_it/makum020-it-magical-girl-of-the-end.html', 'https://comics.panini.it/store/pub_ita_it/mmaon025-it-manga-one-onepunch-man-n-4.html', 'https://comics.panini.it/store/pub_ita_it/msenk006-it-senki-senki-la-leggenda-di-arslan-4.html', 'https://comics.panini.it/store/pub_ita_it/mmmoo012-it-manga-moon-ogni-nostro-venerdi-n-5.html', 'https://comics.panini.it/store/pub_ita_it/myume013-it-yume-romantika-clock-5.html', 'https://comics.panini.it/store/pub_ita_it/mmiem123-it-mille-emozioni-il-fiore-millenario-10.html', 'https://comics.panini.it/store/pub_ita_it/mgoku010isbn-it-gokukoku-no-brinhyldr-gokukoku-no-brinhyldr-n-10.html', 'https://comics.panini.it/store/pub_ita_it/mmahe024-it-manga-heart-liselotte-e-la-foresta-delle-streghe-n-3.html', 'https://comics.panini.it/store/pub_ita_it/mdnbl004isbnr-it-death-note-black-edition-death-note-black-edition-4-libro.html', 'https://comics.panini.it/store/pub_ita_it/mskda031isbn-it-sket-dance-sket-dance-n-31.html', 'https://comics.panini.it/store/pub_ita_it/makid005r2-it-akira-collection.html', 'https://comics.panini.it/store/pub_ita_it/mlovc016isbn-it-lovely-complex-lovely-complex-n-16.html', 'https://comics.panini.it/store/pub_ita_it/m20cb002isbnr4-it-20th-century-boys.html', 'https://comics.panini.it/store/pub_ita_it/mmill011isbn-it-il-fiore-millenario-libreria-il-fiore-millenario-lib-n.html', 'https://comics.panini.it/store/pub_ita_it/mplai001r-it-planet-ai-hiokoy-1-libro-isbn-prima-ristampa.html', 'https://comics.panini.it/store/pub_ita_it/mkeni028-it-history-strongest-disciple-ken-kenichi-n-28.html', 'https://comics.panini.it/store/pub_ita_it/makid006r2-it-akira-collection.html', 'https://comics.panini.it/store/pub_ita_it/mmasn068-it-manga-storie-nuova-serie-fullmetal-panic-zero.html', 'https://comics.panini.it/store/pub_ita_it/mnote004r5-it-death-note-death-note-4-libro-isbn-quinta-ristampa.html', 'https://comics.panini.it/store/pub_ita_it/mcopl153-it-dolce-primo-amore.html', 'https://comics.panini.it/store/pub_ita_it/mnote001r9-it-death-note-death-note-1-libro-isbn-nona-ristampa.html', 'https://comics.panini.it/store/pub_ita_it/mmabl029r-it-manga-blade-akame-ga-kill-2-libro-isbn-prima-ristampa.html', 'https://comics.panini.it/store/pub_ita_it/mgata003r-it-gangsta-gangsta-3-libro-isbn-prima-ristampa.html', 'https://comics.panini.it/store/pub_ita_it/mgema007r2-it-generation-manga-attacco-dei-giganti-7-libro-isbn-second.html', 'https://comics.panini.it/store/pub_ita_it/mplai020-it-planet-ai-one-week-friends-n-2.html', 'https://comics.panini.it/store/pub_ita_it/mmgno104-it-manga-graphic-novel-ao-no-exorcist-16.html', 'https://comics.panini.it/store/pub_ita_it/mgble060isbn-it-bleach-golden-manga-gold-bleach-gold-deluxe-n-60.html', 'https://comics.panini.it/store/pub_ita_it/m23sc001isbnr-it-i-miei-23-schiavi.html', 'https://comics.panini.it/store/pub_ita_it/mnaru046r-it-naruto-il-mito-naruto-il-mito-46-libro-isbn-prima-ristam.html', 'https://comics.panini.it/store/pub_ita_it/mmafi018r-it-manga-fight-assassination-classroom-3-libro-isbn-prima-r.html', 'https://comics.panini.it/store/pub_ita_it/mmabl030r-it-manga-blade-akame-ga-kill-3-libro-isbn-prima-ristampa.html', 'https://comics.panini.it/store/pub_ita_it/mlupe003-it-lupin-iii-lupin-iii-3.html', 'https://comics.panini.it/store/pub_ita_it/mgata009-it-gangsta-gangsta-n-9.html', 'https://comics.panini.it/store/pub_ita_it/mpurp011-it-collana-purple-la-fortezza-dell-apocalisse-8.html', 'https://comics.panini.it/store/pub_ita_it/mgema008r2-it-generation-manga-attacco-dei-giganti-8-libro-isbn-second.html', 'https://comics.panini.it/store/pub_ita_it/mohoh012isbn-it-oh-ohku-ooku-le-stanze-proibite-n-12.html', 'https://comics.panini.it/store/pub_ita_it/marat024isbn-it-la-leggenda-di-arata.html', 'https://comics.panini.it/store/pub_ita_it/maher012-it-attacco-a-scuola-con-i-giganti.html', 'https://comics.panini.it/store/pub_ita_it/mganz007-it-gantz-riedizione-gantz-7-riedizione.html', 'https://comics.panini.it/store/pub_ita_it/mgble060-it-bleach-golden-bleach-golden-n-60.html', 'https://comics.panini.it/store/pub_ita_it/mmaon024-it-manga-one-onepunch-man-n-3.html', 'https://comics.panini.it/store/pub_ita_it/mblea069-it-bleach.html', 'https://comics.panini.it/store/pub_ita_it/mmala007-it-manga-land-tokko-zero-n-1.html', 'https://comics.panini.it/store/pub_ita_it/mcamn125-it-soul-eater-not.html', 'https://comics.panini.it/store/pub_ita_it/mmaki034-it-manga-kiss-per-colpa-tua-mi-batte-il-cuore-n-3.html', 'https://comics.panini.it/store/pub_ita_it/mblbu022-it-black-butler-il-maggiordomo-diabolico.html', 'https://comics.panini.it/store/pub_ita_it/mglam001-it-glam-glamorous-killers-n-1.html', 'https://comics.panini.it/store/pub_ita_it/mincu001-it-incubo-incubi-a-occhi-aperti-n-1.html', 'https://comics.panini.it/store/pub_ita_it/mnaru066-it-naruto-il-mito-naruto-il-mito-n-66.html', 'https://comics.panini.it/store/pub_ita_it/mmasa028-it-manga-saga-bastard-n-28.html', 'https://comics.panini.it/store/pub_ita_it/mmsup113-it-manga-superstar-la-scienza-immaginaria-de-l-attacco-dei-gi.html', 'https://comics.panini.it/store/pub_ita_it/mabes008-it-biorg-trinity.html', 'https://comics.panini.it/store/pub_ita_it/mevnc002r-it-evangelion-new-collection-neon-genesis-evangelion-2-prima.html', 'https://comics.panini.it/store/pub_ita_it/mmafi017r-it-manga-fight-assassination-classroom-2-prima-ristampa.html', 'https://comics.panini.it/store/pub_ita_it/mrund008-it-run-day-burst-run-day-burst-n-8.html', 'https://comics.panini.it/store/pub_ita_it/mkeni027-it-history-strongest-disciple-ken-kenichi-n-27.html', 'https://comics.panini.it/store/pub_ita_it/mmred006-it-red-il-filo-rosso-n-6.html', 'https://comics.panini.it/store/pub_ita_it/mnote007r4-it-death-note-death-note-n-7-lib-ott-07.html', 'https://comics.panini.it/store/pub_ita_it/m23sc005isbn-it-i-miei-23-schiavi.html', 'https://comics.panini.it/store/pub_ita_it/mblea037r2-it-bleach.html', 'https://comics.panini.it/store/pub_ita_it/mnote003r6-it-death-note-death-note-3-sesta-ristampa.html', 'https://comics.panini.it/store/pub_ita_it/m20cb016isbnr2-it-20th-century-boys.html', 'https://comics.panini.it/store/pub_ita_it/mmagi033isbn-it-manga-giants-manga-giants-n-33.html', 'https://comics.panini.it/store/pub_ita_it/msomn008-it-somnia-somnia-seconda-serie-vol-4.html', 'https://comics.panini.it/store/pub_ita_it/mplpi025-it-planet-pink-ali-di-farfalla-n-11.html', 'https://comics.panini.it/store/pub_ita_it/mlovc015isbn-it-lovely-complex-lovely-complex-n-15.html', 'https://comics.panini.it/store/pub_ita_it/mplfa024-it-gate-7-natsume-degli-spiriti-15.html', 'https://comics.panini.it/store/pub_ita_it/mfmal007r3-it-fullmetal-alchemist-fullmetal-alchemist-7-terza-ristampa.html', 'https://comics.panini.it/store/pub_ita_it/m21cb001isbnr2-it-21st-century-boys.html', 'https://comics.panini.it/store/pub_ita_it/mmara024-it-manga-rainbow-marmalade-boy-little-n-4.html', 'https://comics.panini.it/store/pub_ita_it/mmaso023-it-manga-sound-la-spada-e-la-mente-5.html', 'https://comics.panini.it/store/pub_ita_it/msote011isbn-it-soten-no-ken-soten-no-ken-n-11.html', 'https://comics.panini.it/store/pub_ita_it/mlupe002-it-lupin-iii-lupin-iii-2.html', 'https://comics.panini.it/store/pub_ita_it/mgnar063isbn-it-naruto-gold-manga-gold-naruto-gold-deluxe-n-63-libro-isb.html', 'https://comics.panini.it/store/pub_ita_it/mganz006-it-gantz-riedizione-gantz-6-riedizione.html', 'https://comics.panini.it/store/pub_ita_it/msaku017-it-sakura-otaku-teacher-n-1.html', 'https://comics.panini.it/store/pub_ita_it/mmico009-it-manga-icon-maoyu-il-re-dei-demoni-e-l-eroe-9.html', 'https://comics.panini.it/store/pub_ita_it/mkoda008-it-kodama-kodama-inuyashiki-4.html', 'https://comics.panini.it/store/pub_ita_it/mexos008isbn-it-exoskull-rei-exoskull-rei-n-8.html', 'https://comics.panini.it/store/pub_ita_it/mgnar063-it-naruto-gold-naruto-gold-n-63.html', 'https://comics.panini.it/store/pub_ita_it/msoil008isbn-it-soil-soil-n-8.html', 'https://comics.panini.it/store/pub_ita_it/mghst002-it-gost-la-torre-fantasma-n-2.html', 'https://comics.panini.it/store/pub_ita_it/makum019-it-magical-girl-of-the-end.html', 'https://comics.panini.it/store/pub_ita_it/mmmoo011-it-manga-moon-ogni-nostro-venerdi-n-4.html', 'https://comics.panini.it/store/pub_ita_it/mmabl034-it-manga-blade-l-usuraio-18.html', 'https://comics.panini.it/store/pub_ita_it/myume012-it-yume-romantika-clock-4.html', 'https://comics.panini.it/store/pub_ita_it/mgema018-it-generation-manga-l-attacco-dei-giganti-n-18.html', 'https://comics.panini.it/store/pub_ita_it/mmaex033-it-manga-extra-tra-i-raggi-del-sole-n-3.html', 'https://comics.panini.it/store/pub_ita_it/mmafi028-it-manga-fight-assassination-classroom-n-3.html', 'https://comics.panini.it/store/pub_ita_it/maras011-it-seraph-of-the-end.html', 'https://comics.panini.it/store/pub_ita_it/mbtoo018isbn-it-btoom.html', 'https://comics.panini.it/store/pub_ita_it/mmiem122-it-mille-emozioni-il-fiore-millenario-9.html', 'https://comics.panini.it/store/pub_ita_it/mgign006isbn-it-giganti-attack-on-titans-lost-girls.html', 'https://comics.panini.it/store/pub_ita_it/mmaze023-it-manga-zero-maken-ki-n-15.html', 'https://comics.panini.it/store/pub_ita_it/mtali009isbn-it-il-talismano-passa-a-libreria-il-talismano-9.html', 'https://comics.panini.it/store/pub_ita_it/mclub007isbnr2-it-host-club-amore-in-affitto.html', 'https://comics.panini.it/store/pub_ita_it/mzone006isbn-it-zone-00-zone-00-13.html', 'https://comics.panini.it/store/pub_ita_it/mpten038isbn-it-prince-of-tennis-prince-of-tennis-n-38.html', 'https://comics.panini.it/store/pub_ita_it/mlovc014isbn-it-lovely-complex-lovely-complex-n-14.html', 'https://comics.panini.it/store/pub_ita_it/mtani004isbnr-it-taniguchi-collection-taniguchi-collection-4-gourmet-pri.html', 'https://comics.panini.it/store/pub_ita_it/maadv020-it-trinity-seven-l-accademia-delle-sette-streghe.html', 'https://comics.panini.it/store/pub_ita_it/mbene002isbnr3-it-berserk-collection-serie-nera.html', 'https://comics.panini.it/store/pub_ita_it/mcopl152-it-dolce-primo-amore.html', 'https://comics.panini.it/store/pub_ita_it/mgata002r-it-gangsta-gangsta-2-primaristampa.html', 'https://comics.panini.it/store/pub_ita_it/mkeni026-it-history-strongest-disciple-ken-kenichi-n-26.html', 'https://comics.panini.it/store/pub_ita_it/mbene037isbn-it-berserk-collection-serie-nera.html', 'https://comics.panini.it/store/pub_ita_it/mmale160r-it-manga-legend-i-cavalieri-dello-zodiaco-lost-canvas-extra-7.html', 'https://comics.panini.it/store/pub_ita_it/muniv094r-it-manga-universe-black-lagoon-9-primaristampa.html', 'https://comics.panini.it/store/pub_ita_it/mbene003isbnr3-it-berserk-collection-serie-nera.html', 'https://comics.panini.it/store/pub_ita_it/mmale157r-it-manga-legend-i-cavalieri-dello-zodiaco-lost-canvas-extra-4.html', 'https://comics.panini.it/store/pub_ita_it/mknsi015isbn-it-knights-of-sidonia-knights-of-sidonia-n-15.html', 'https://comics.panini.it/store/pub_ita_it/mganz005-it-gantz-riedizione-gantz-5-riedizione.html', 'https://comics.panini.it/store/pub_ita_it/mgble059-it-bleach-golden-bleach-golden-n-59.html', 'https://comics.panini.it/store/pub_ita_it/mmale175-it-manga-legend-manga-legend-saint-seiya-saintia-sho-4.html', 'https://comics.panini.it/store/pub_ita_it/mpurp010-it-collana-purple-la-fortezza-dell-apocalisse-7.html', 'https://comics.panini.it/store/pub_ita_it/mmali021-it-manga-life-manga-life-silver-spoon-13.html', 'https://comics.panini.it/store/pub_ita_it/mshik012-it-shikabane-hime-la-princepessa-cadavere-n-12.html', 'https://comics.panini.it/store/pub_ita_it/mloja021-it-kanoko-parole-d-amore-7.html', 'https://comics.panini.it/store/pub_ita_it/mfmal023r2-it-fullmetal-alchemist-fullmetal-alchemist-23-seconda-ristam.html', 'https://comics.panini.it/store/pub_ita_it/mmasho011-it-manga-shock-attacco-dei-giganti-spinoff-before-the-fall.html', 'https://comics.panini.it/store/pub_ita_it/mkoda005r-it-kodama-inuyashiki-1-prima-ristampa.html', 'https://comics.panini.it/store/pub_ita_it/maher011-it-attacco-a-scuola-con-i-giganti.html', 'https://comics.panini.it/store/pub_ita_it/maras008r-it-seraph-of-the-end.html', 'https://comics.panini.it/store/pub_ita_it/mevnc014-it-evangelion-new-collection-neon-genesis-evangelion-n-14.html', 'https://comics.panini.it/store/pub_ita_it/mmarz011isbn-it-un-marzo-da-leoni-un-marzo-da-leoni-n-11-libro-isbn.html', 'https://comics.panini.it/store/pub_ita_it/mfmal004r4-it-fullmetal-alchemist-fullmetal-alchemist-4-quarta-ristampa.html', 'https://comics.panini.it/store/pub_ita_it/mgble059isbn-it-bleach-golden-manga-gold-bleach-gold-deluxe-n-59.html', 'https://comics.panini.it/store/pub_ita_it/mblea028r3-it-bleach.html', 'https://comics.panini.it/store/pub_ita_it/mmabl028r-it-manga-blade-akame-ga-kill-1-prima-ristampa.html', 'https://comics.panini.it/store/pub_ita_it/mgema006r2-it-generation-manga-l-attacco-dei-giganti-6-seconda-ristampa.html', 'https://comics.panini.it/store/pub_ita_it/mplai019-it-planet-ai-one-week-friends-n-1.html', 'https://comics.panini.it/store/pub_ita_it/mplut001isbnr2-it-pluto-pluto-1-seconda-ristampa.html', 'https://comics.panini.it/store/pub_ita_it/mmala006-it-manga-land-tokko-2-phantom-hunter.html', 'https://comics.panini.it/store/pub_ita_it/mcamn124-it-soul-eater-not.html', 'https://comics.panini.it/store/pub_ita_it/muniv128-it-manga-universe-manga-universe-tokyo-esp-13.html', 'https://comics.panini.it/store/pub_ita_it/mplma125-it-planet-manga-planet-manga-naruto-72.html', 'https://comics.panini.it/store/pub_ita_it/mplsh074-it-planet-manga-presenta-planet-manga-presenta-tk-crow-6.html', 'https://comics.panini.it/store/pub_ita_it/mmcod027-it-manga-code-blood-lad-14.html', 'https://comics.panini.it/store/pub_ita_it/mfire006-it-manga-fire-manga-fire-1-sister-devil-6.html', 'https://comics.panini.it/store/pub_ita_it/mmaon022-it-manga-one-onepunch-man-n-1.html', 'https://comics.panini.it/store/pub_ita_it/mmabl033-it-manga-blade-l-usuraio-17.html', 'https://comics.panini.it/store/pub_ita_it/mnaru065-it-naruto-il-mito-naruto-il-mito-n-65.html', 'https://comics.panini.it/store/pub_ita_it/mmaki033-it-manga-kiss-manga-kiss-n-33.html', 'https://comics.panini.it/store/pub_ita_it/muniv076r2-it-manga-universe-manga-universe-76-lib-dic-07.html', 'https://comics.panini.it/store/pub_ita_it/mmasn067-it-manga-storie-nuova-serie-fullmetal-panic-zero.html', 'https://comics.panini.it/store/pub_ita_it/mblea017r3-it-bleach.html', 'https://comics.panini.it/store/pub_ita_it/m20cb015isbnr2-it-20th-century-boys.html', 'https://comics.panini.it/store/pub_ita_it/mhuxh020r2-it-hunter-x-hunter-hunterxhunter-n-20-lib-nov-07.html', 'https://comics.panini.it/store/pub_ita_it/mkeni025-it-history-strongest-disciple-ken-kenichi-n-25.html', 'https://comics.panini.it/store/pub_ita_it/mblea018r3-it-bleach.html', 'https://comics.panini.it/store/pub_ita_it/m20cb003isbnr4-it-20th-century-boys.html', 'https://comics.panini.it/store/pub_ita_it/m23sc004isbn-it-i-miei-23-schiavi.html', 'https://comics.panini.it/store/pub_ita_it/mma20038r2-it-manga-2000-dorohedoro-libro-isbn-seconda-ristampa.html', 'https://comics.panini.it/store/pub_ita_it/mlovc013isbn-it-lovely-complex-lovely-complex-n-13.html', 'https://comics.panini.it/store/pub_ita_it/mplsh032r-it-planet-manga-presenta-bakuman-n-6.html', 'https://comics.panini.it/store/pub_ita_it/mmafi027-it-manga-fight-assassination-classroom-n-2.html', 'https://comics.panini.it/store/pub_ita_it/msenk005-it-senki-senki-la-leggenda-di-arslan-3.html', 'https://comics.panini.it/store/pub_ita_it/mgign005isbn-it-giganti-l-attacco-dei-giganti-the-harsh-mistress-of-the.html', 'https://comics.panini.it/store/pub_ita_it/m20cb013isbnr2-it-20th-century-boys.html', 'https://comics.panini.it/store/pub_ita_it/mlovc012isbn-it-lovely-complex-lovely-complex-n-12.html', 'https://comics.panini.it/store/pub_ita_it/mganz003-it-gantz-riedizione-gantz-3-riedizione.html', 'https://comics.panini.it/store/pub_ita_it/m20cb014isbnr2-it-20th-century-boys.html', 'https://comics.panini.it/store/pub_ita_it/mkeni024-it-history-strongest-disciple-ken-kenichi-n-24.html', 'https://comics.panini.it/store/pub_ita_it/mplsh030r-it-planet-manga-presenta-planet-manga-pres-30-lib-no-10.html', 'https://comics.panini.it/store/pub_ita_it/mfire005-it-manga-fire-manga-fire-1-sister-devil-5.html', 'https://comics.panini.it/store/pub_ita_it/mmsup112-it-manga-superstar-naruto-kizuna-fanbook-chin-no-maki.html', 'https://comics.panini.it/store/pub_ita_it/mmasho010-it-manga-shock-attacco-dei-giganti-spinoff-before-the-fall.html', 'https://comics.panini.it/store/pub_ita_it/mlovc011isbn-it-lovely-complex-lovely-complex-n-11.html', 'https://comics.panini.it/store/pub_ita_it/mvaco031isbnr-it-vagabond-collection-vagabond-collection-n-31.html', 'https://comics.panini.it/store/pub_ita_it/mvaco032isbnr-it-vagabond-collection-vagabond-collection-n-32.html', 'https://comics.panini.it/store/pub_ita_it/mblea026r2-it-bleach.html', 'https://comics.panini.it/store/pub_ita_it/mspwo001isbnr-it-spice-and-wolf-spice-and-wolf-n-1.html', 'https://comics.panini.it/store/pub_ita_it/mvade006r-it-vampire-knight-deluxe-vampire-knight-deluxe-n-6-g-10.html', 'https://comics.panini.it/store/pub_ita_it/mmsup052r2-it-manga-superstar-manga-sup-52-lib-marz-09.html', 'https://comics.panini.it/store/pub_ita_it/mdoro015isbnr-it-dorohedoro-dorohedoro-n-15.html', 'https://comics.panini.it/store/pub_ita_it/mblea015r3-it-bleach.html', 'https://comics.panini.it/store/pub_ita_it/mblea013r3-it-bleach.html', 'https://comics.panini.it/store/pub_ita_it/mblea039r2-it-bleach.html', 'https://comics.panini.it/store/pub_ita_it/mkeni022-it-history-strongest-disciple-ken-kenichi-n-22.html', 'https://comics.panini.it/store/pub_ita_it/meman002isbn-it-emanon-i-viaggi-di-emanon.html', 'https://comics.panini.it/store/pub_ita_it/mlovc010isbn-it-lovely-complex-lovely-complex-n-10.html', 'https://comics.panini.it/store/pub_ita_it/mmale173-it-manga-legend-manga-legend-saint-seiya-saintia-sho-3.html', 'https://comics.panini.it/store/pub_ita_it/mblea014r3-it-bleach.html', 'https://comics.panini.it/store/pub_ita_it/mmasho009-it-manga-shock-attacco-dei-giganti-spinoff-before-the-fall.html', 'https://comics.panini.it/store/pub_ita_it/mfire004-it-manga-fire-manga-fire-1-sister-devil-4.html', 'https://comics.panini.it/store/pub_ita_it/mabes007-it-biorg-trinity.html', 'https://comics.panini.it/store/pub_ita_it/mmiya002isbnr-it-artbook-miyazaki-kiki-artbook-ghibli-totoro-prima-rist.html', 'https://comics.panini.it/store/pub_ita_it/mma20073r2-it-manga-2000-manga-2000-n-73-doro-6-ott-06.html', 'https://comics.panini.it/store/pub_ita_it/mlovc009isbn-it-lovely-complex-lovely-complex-n-9.html', 'https://comics.panini.it/store/pub_ita_it/mblea006r3-it-bleach.html', 'https://comics.panini.it/store/pub_ita_it/mvaco030isbnr-it-vagabond-collection-vagabond-collection-n-30-se-10.html', 'https://comics.panini.it/store/pub_ita_it/mmsup111-it-manga-superstar-naruto-kizuna-fanbook-ten-no-maki.html', 'https://comics.panini.it/store/pub_ita_it/mgign004isbn-it-giganti-l-attacco-dei-giganti-queen-of-the-isolated-city.html', 'https://comics.panini.it/store/pub_ita_it/mtrig001isbnr3-it-trigun-trigun-n-1-terza-ristampa.html', 'https://comics.panini.it/store/pub_ita_it/mtrig002isbnr2-it-trigun-trigun-n-2-seconda-ristampa.html', 'https://comics.panini.it/store/pub_ita_it/mmafi025-it-manga-fight-garouden-n-25.html', 'https://comics.panini.it/store/pub_ita_it/mplma124-it-planet-manga-naruto-71.html', 'https://comics.panini.it/store/pub_ita_it/mnois001isbn-it-noise-noise-n-1.html', 'https://comics.panini.it/store/pub_ita_it/mgaku001isbnr-it-blame-gakuen-blame-academy-isbn-nov-09-rist.html', 'https://comics.panini.it/store/pub_ita_it/mmaze021-it-manga-zero-maken-ki-13.html', 'https://comics.panini.it/store/pub_ita_it/mlovc008isbn-it-lovely-complex-lovely-complex-n-8.html', 'https://comics.panini.it/store/pub_ita_it/mblea019r3-it-bleach.html', 'https://comics.panini.it/store/pub_ita_it/mcowb003isbnr-it-cowboy-bebop.html', 'https://comics.panini.it/store/pub_ita_it/mlovc007isbn-it-lovely-complex-lovely-complex-n-7.html', 'https://comics.panini.it/store/pub_ita_it/mblea027r2-it-bleach.html', 'https://comics.panini.it/store/pub_ita_it/mabes006-it-biorg-trinity.html', 'https://comics.panini.it/store/pub_ita_it/mkeni018-it-history-strongest-disciple-ken-kenichi-n-18.html', 'https://comics.panini.it/store/pub_ita_it/mmale171-it-manga-legend-manga-legend-saint-seiya-saintia-sho-2.html', 'https://comics.panini.it/store/pub_ita_it/mmaki002r2-it-manga-kiss-maid-n-1.html', 'https://comics.panini.it/store/pub_ita_it/mlovc006isbn-it-lovely-complex-lovely-complex-n-6.html', 'https://comics.panini.it/store/pub_ita_it/mshima012isbn-it-shimauma-zebra-11.html', 'https://comics.panini.it/store/pub_ita_it/mblea038r2-it-bleach.html', 'https://comics.panini.it/store/pub_ita_it/mblar003isbnr-it-blame-ultimate-deluxe-collection.html', 'https://comics.panini.it/store/pub_ita_it/mblea023r3-it-bleach.html', 'https://comics.panini.it/store/pub_ita_it/mmabr005isbn-it-marmalade-boy-riedizione-marmalade-boy-riedizione-n-5.html', 'https://comics.panini.it/store/pub_ita_it/mlovc005isbn-it-lovely-complex-lovely-complex-n-5.html', 'https://comics.panini.it/store/pub_ita_it/mshima011isbn-it-shimauma-zebra-10.html', 'https://comics.panini.it/store/pub_ita_it/mkeni017-it-history-strongest-disciple-ken-kenichi-n-17.html', 'https://comics.panini.it/store/pub_ita_it/mabes005-it-biorg-trinity.html', 'https://comics.panini.it/store/pub_ita_it/mcamn120-it-soul-eater-not.html', 'https://comics.panini.it/store/pub_ita_it/mcowb002isbnr-it-cowboy-bebop.html', 'https://comics.panini.it/store/pub_ita_it/mlovc004isbn-it-lovely-complex-lovely-complex-n-4.html', 'https://comics.panini.it/store/pub_ita_it/mmabr004isbn-it-marmalade-boy-riedizione-marmalade-boy-riedizione-n-4.html', 'https://comics.panini.it/store/pub_ita_it/mkeni016-it-history-strongest-disciple-ken-kenichi-n-16.html', 'https://comics.panini.it/store/pub_ita_it/mmsup074r-it-manga-superstar-d-grayman-20-prima-ristampa.html', 'https://comics.panini.it/store/pub_ita_it/mshima010isbn-it-shimauma-zebra-9.html', 'https://comics.panini.it/store/pub_ita_it/mmgno101-it-manga-graphic-novel-manga-graphic-novel-n-101.html', 'https://comics.panini.it/store/pub_ita_it/mcowb001isbnr-it-cowboy-bebop.html', 'https://comics.panini.it/store/pub_ita_it/mmasho006-it-manga-shock-attacco-dei-giganti-spinoff-before-the-fall.html', 'https://comics.panini.it/store/pub_ita_it/mfire001-it-manga-fire-manga-fire-1-sister-devil-1.html', 'https://comics.panini.it/store/pub_ita_it/mplma123-it-planet-manga-naruto-70.html', 'https://comics.panini.it/store/pub_ita_it/mvaco024isbnr-it-vagabond-collection-vagabond-deluxe-n-24-giu-08.html', 'https://comics.panini.it/store/pub_ita_it/mnaru035r-it-naruto-il-mito-naruto-il-mito-n-35-lib-mag-09.html', 'https://comics.panini.it/store/pub_ita_it/mnaru031r-it-naruto-il-mito-naruto-il-mito-n-31-lib-set-08.html', 'https://comics.panini.it/store/pub_ita_it/mvaco025isbnr-it-vagabond-collection-vagabond-deluxe-n-25-isbn.html', 'https://comics.panini.it/store/pub_ita_it/mnaru036r-it-naruto-il-mito-naruto-il-mito-n-36-lib-lu-09.html', 'https://comics.panini.it/store/pub_ita_it/mlovc003isbn-it-lovely-complex-lovely-complex-n-3.html', 'https://comics.panini.it/store/pub_ita_it/mblea040r2-it-bleach.html', 'https://comics.panini.it/store/pub_ita_it/mshima009isbn-it-shimauma-zebra-8.html', 'https://comics.panini.it/store/pub_ita_it/mkeni015-it-history-strongest-disciple-ken-kenichi-n-15.html', 'https://comics.panini.it/store/pub_ita_it/mplai014-it-planet-ai-hibi-chocho-n-2.html', 'https://comics.panini.it/store/pub_ita_it/mabes004-it-biorg-trinity.html', 'https://comics.panini.it/store/pub_ita_it/mcamn119-it-soul-eater-not.html', 'https://comics.panini.it/store/pub_ita_it/mmala002-it-manga-land-gigantomachia.html', 'https://comics.panini.it/store/pub_ita_it/mnaru023r2-it-naruto-il-mito-naruto-il-mito-n-23-lib-ott-07.html', 'https://comics.panini.it/store/pub_ita_it/mlovc002isbn-it-lovely-complex-lovely-complex-n-2.html', 'https://comics.panini.it/store/pub_ita_it/mblea022r3-it-bleach.html', 'https://comics.panini.it/store/pub_ita_it/mnaru027r-it-naruto-il-mito-naruto-il-mito-n-27-lib-feb-08.html', 'https://comics.panini.it/store/pub_ita_it/mblea016r3-it-bleach.html', 'https://comics.panini.it/store/pub_ita_it/mblno001isbn-it-blanc-et-noir.html', 'https://comics.panini.it/store/pub_ita_it/mmaze019-it-manga-zero-maken-ki-11.html', 'https://comics.panini.it/store/pub_ita_it/mkeni014-it-history-strongest-disciple-ken-kenichi-n-14.html', 'https://comics.panini.it/store/pub_ita_it/mshima008isbn-it-shimauma-zebra-7.html', 'https://comics.panini.it/store/pub_ita_it/mmasho005-it-manga-shock-manga-shock-5.html', 'https://comics.panini.it/store/pub_ita_it/mmabr001isbn-it-marmalade-boy-riedizione-marmalade-boy-riedizione-n-1.html', 'https://comics.panini.it/store/pub_ita_it/mkega022-it-ken-gaiden-ken-la-leggenda-juza-2.html', 'https://comics.panini.it/store/pub_ita_it/mshima007isbn-it-shimauma-zebra-6.html', 'https://comics.panini.it/store/pub_ita_it/mgign003isbn-it-giganti-giganti-n-3.html', 'https://comics.panini.it/store/pub_ita_it/mkeni013-it-history-strongest-disciple-ken-kenichi-n-13.html', 'https://comics.panini.it/store/pub_ita_it/msomn002isbn-it-somnia-somnia-deluxe-n-2.html', 'https://comics.panini.it/store/pub_ita_it/mplma122-it-planet-manga-naruto-69.html', 'https://comics.panini.it/store/pub_ita_it/mabes003-it-biorg-trinity.html', 'https://comics.panini.it/store/pub_ita_it/mcamn118-it-soul-eater-not.html', 'https://comics.panini.it/store/pub_ita_it/mtanb008isbn-it-ten-no-taka-tanig-coll-gs-taniguchi-collection-17-tr.html', 'https://comics.panini.it/store/pub_ita_it/mgign001isbnr-it-giganti-l-attacco-dei-giganti-before-the-fall-romanzo-n.html', 'https://comics.panini.it/store/pub_ita_it/mblea005r3-it-bleach.html', 'https://comics.panini.it/store/pub_ita_it/mshima006isbn-it-shimauma-zebra-5.html', 'https://comics.panini.it/store/pub_ita_it/mkeni012-it-history-strongest-disciple-ken-kenichi-n-12.html', 'https://comics.panini.it/store/pub_ita_it/mkega021-it-ken-gaiden-ken-la-leggenda-juza-1.html', 'https://comics.panini.it/store/pub_ita_it/mmali015-it-manga-life-silver-spoon-12.html', 'https://comics.panini.it/store/pub_ita_it/mmasho004-it-manga-shock-manga-shock-4.html', 'https://comics.panini.it/store/pub_ita_it/mvaco027isbnr-it-vagabond-collection-vagab-collection-n-27-giu-09.html', 'https://comics.panini.it/store/pub_ita_it/mvaco026isbnr-it-vagabond-collection-vagabond-collection-n-26-fe-09.html', 'https://comics.panini.it/store/pub_ita_it/mkeni011-it-history-strongest-disciple-ken-kenichi-n-11.html', 'https://comics.panini.it/store/pub_ita_it/mkega020-it-ken-gaiden-ken-la-leggenda-jyagi-2.html', 'https://comics.panini.it/store/pub_ita_it/mshima005isbn-it-shimauma-shimauma-n-5.html', 'https://comics.panini.it/store/pub_ita_it/mabes002-it-biorg-trinity.html', 'https://comics.panini.it/store/pub_ita_it/mcamn117-it-soul-eater-not.html', 'https://comics.panini.it/store/pub_ita_it/mplai013-it-planet-ai-hibi-chocho-n-1.html', 'https://comics.panini.it/store/pub_ita_it/mkeni010-it-history-strongest-disciple-ken-history-strongest-disciple.html', 'https://comics.panini.it/store/pub_ita_it/maadv011-it-trinity-seven-l-accademia-delle-sette-streghe.html', 'https://comics.panini.it/store/pub_ita_it/marho001isbn-it-lightning-pop.html', 'https://comics.panini.it/store/pub_ita_it/mtanb007isbn-it-ten-no-taka-tanig-coll-gs-taniguchi-collection-troubl.html', 'https://comics.panini.it/store/pub_ita_it/mbtoo014isbn-it-btoom-btoom-n-14.html', 'https://comics.panini.it/store/pub_ita_it/mmaze017-it-manga-zero-maken-ki-n-9.html', 'https://comics.panini.it/store/pub_ita_it/mkaku002isbn-it-il-destino-di-kakugo-reloaded-il-destino-di-kakugo-rel-n-2.html', 'https://comics.panini.it/store/pub_ita_it/mmali014-it-manga-life-silver-spoon-n-11.html', 'https://comics.panini.it/store/pub_ita_it/mkega019-it-ken-gaiden-ken-gaiden-n-19.html', 'https://comics.panini.it/store/pub_ita_it/mplma121-it-planet-manga-naruto-n-68.html', 'https://comics.panini.it/store/pub_ita_it/mgign002isbn-it-giganti-giganti-n-2.html', 'https://comics.panini.it/store/pub_ita_it/mblea048r-it-bleach.html', 'https://comics.panini.it/store/pub_ita_it/mvaco028isbnr-it-vagabond-collection-vagabond-coll-n-28-ott-09.html', 'https://comics.panini.it/store/pub_ita_it/mmale158r-it-manga-legend-manga-legend-saint-seya-lc-spinoff-5.html', 'https://comics.panini.it/store/pub_ita_it/mmgno053r-it-manga-graphic-novel-manga-g-novel-53-lib-nov-08.html', 'https://comics.panini.it/store/pub_ita_it/mkeni009-it-history-strongest-disciple-ken-history-strongest-disciple.html', 'https://comics.panini.it/store/pub_ita_it/mspwo010isbn-it-spice-and-wolf-spice-and-wolf-n-10.html', 'https://comics.panini.it/store/pub_ita_it/mkega018-it-ken-gaiden-ken-gaiden-n-18.html', 'https://comics.panini.it/store/pub_ita_it/mshima003isbn-it-shimauma-shimauma-n-3.html', 'https://comics.panini.it/store/pub_ita_it/mmasho002-it-manga-shock-manga-shock-2.html', 'https://comics.panini.it/store/pub_ita_it/mabes001-it-biorg-trinity.html', 'https://comics.panini.it/store/pub_ita_it/mcamn116-it-soul-eater-not.html', 'https://comics.panini.it/store/pub_ita_it/mhide001isbnr-it-hideout-hideout-prima-ristampa.html', 'https://comics.panini.it/store/pub_ita_it/mvaco029isbnr-it-vagabond-collection-vagabond-deluxe-n-29-prima-ristampa.html', 'https://comics.panini.it/store/pub_ita_it/mblea047r-it-bleach.html', 'https://comics.panini.it/store/pub_ita_it/mmgno071r2-it-manga-graphic-novel-real-9-prima-ristampa.html', 'https://comics.panini.it/store/pub_ita_it/mmaze016-it-manga-zero-maken-ki-n-8.html', 'https://comics.panini.it/store/pub_ita_it/mkeni008-it-history-strongest-disciple-ken-history-strongest-disciple.html', 'https://comics.panini.it/store/pub_ita_it/mmali013-it-manga-life-silver-spoon-n-11.html', 'https://comics.panini.it/store/pub_ita_it/mtanb006isbn-it-ten-no-taka-tanig-coll-gs-taniguchi-collection-troubl.html', 'https://comics.panini.it/store/pub_ita_it/mblea062-it-bleach.html', 'https://comics.panini.it/store/pub_ita_it/mkega017-it-ken-gaiden-ken-gaiden-n-17.html', 'https://comics.panini.it/store/pub_ita_it/mmaki028-it-manga-kiss-junai-no-ririsu-n-2.html', 'https://comics.panini.it/store/pub_ita_it/mcamn115-it-soul-eater-super-guide-book.html', 'https://comics.panini.it/store/pub_ita_it/mkeni007-it-history-strongest-disciple-ken-history-strongest-disciple.html', 'https://comics.panini.it/store/pub_ita_it/mblea046r-it-bleach.html', 'https://comics.panini.it/store/pub_ita_it/mplma120-it-planet-manga-naruto-n-67.html', 'https://comics.panini.it/store/pub_ita_it/mkega016-it-ken-gaiden-ken-gaiden-n-16.html', 'https://comics.panini.it/store/pub_ita_it/mvade019-it-vampire-knight-deluxe-vampire-knight-deluxe-n-19.html', 'https://comics.panini.it/store/pub_ita_it/mmaze015-it-manga-zero-maken-ki-n-7.html', 'https://comics.panini.it/store/pub_ita_it/mmali012-it-manga-life-silver-spoon-n-10.html', 'https://comics.panini.it/store/pub_ita_it/mtanb005isbn-it-ten-no-taka-tanig-coll-gs-taniguchi-collection-troubl.html', 'https://comics.panini.it/store/pub_ita_it/mkeni006-it-history-strongest-disciple-ken-history-strongest-disciple.html', 'https://comics.panini.it/store/pub_ita_it/mkega015-it-ken-gaiden-ken-gaiden-n-15.html', 'https://comics.panini.it/store/pub_ita_it/mplai012-it-planet-ai-hiyokoi-n-12.html', 'https://comics.panini.it/store/pub_ita_it/mhomu012isbnr-it-homunculus-homunculus-12-prima-ristampa.html', 'https://comics.panini.it/store/pub_ita_it/mganr002isbn-it-gantz-romanzi-gantz-romanzi-n-2.html', 'https://comics.panini.it/store/pub_ita_it/mhuxh018isbnr2-it-hunter-x-hunter-hunter-x-hunter-18-seconda-ristampa.html', 'https://comics.panini.it/store/pub_ita_it/mblea031r2-it-bleach.html', 'https://comics.panini.it/store/pub_ita_it/mbiog003isbn-it-biomega-ultimate-deluxe-collection.html', 'https://comics.panini.it/store/pub_ita_it/mkeni005-it-history-strongest-disciple-ken-history-strongest-disciple.html', 'https://comics.panini.it/store/pub_ita_it/mvaga056-it-vagabond-vagabond-n-56.html', 'https://comics.panini.it/store/pub_ita_it/maadv008-it-trinity-seven-l-accademia-delle-sette-streghe.html', 'https://comics.panini.it/store/pub_ita_it/mkega014-it-ken-gaiden-ken-gaiden-n-14.html', 'https://comics.panini.it/store/pub_ita_it/mblea044r-it-bleach.html', 'https://comics.panini.it/store/pub_ita_it/mtanb004isbn-it-ten-no-taka-tanig-coll-gs-taniguchi-collection-giant-s.html', 'https://comics.panini.it/store/pub_ita_it/mmaze014-it-manga-zero-maken-ki-n-6.html', 'https://comics.panini.it/store/pub_ita_it/mnaru021r2-it-naruto-il-mito-naruto-il-mito-21-seconda-ristampa.html', 'https://comics.panini.it/store/pub_ita_it/mbtoo013isbn-it-btoom.html', 'https://comics.panini.it/store/pub_ita_it/mspwo009isbn-it-spice-and-wolf-spice-and-wolf-n-9.html', 'https://comics.panini.it/store/pub_ita_it/mkeni004-it-history-strongest-disciple-ken-history-strongest-disciple.html', 'https://comics.panini.it/store/pub_ita_it/makun007isbn-it-i-fiori-del-male.html', 'https://comics.panini.it/store/pub_ita_it/mmgno096-it-manga-graphic-novel-manga-graphic-novel-n-96.html', 'https://comics.panini.it/store/pub_ita_it/mplma119-it-planet-manga-naruto-n-66.html', 'https://comics.panini.it/store/pub_ita_it/maadv007-it-trinity-seven-l-accademia-delle-sette-streghe.html', 'https://comics.panini.it/store/pub_ita_it/mkeni003-it-history-strongest-disciple-ken-history-strongest-disciple.html', 'https://comics.panini.it/store/pub_ita_it/mplai011-it-planet-ai-hiyokoi-n-11.html', 'https://comics.panini.it/store/pub_ita_it/mplsh024r2-it-planet-manga-presenta-bakuman-2-seconda-ristampa.html', 'https://comics.panini.it/store/pub_ita_it/mkega012-it-ken-gaiden-ken-gaiden-n-12.html', 'https://comics.panini.it/store/pub_ita_it/mtanb003isbn-it-ten-no-taka-tanig-coll-gs-trouble-is-my-business-1.html', 'https://comics.panini.it/store/pub_ita_it/mkeni002-it-history-strongest-disciple-ken-history-strongest-disciple.html', 'https://comics.panini.it/store/pub_ita_it/mcamn078r3-it-soul-eater.html', 'https://comics.panini.it/store/pub_ita_it/mblea008r3-it-bleach.html', 'https://comics.panini.it/store/pub_ita_it/mkega011-it-ken-gaiden-ken-gaiden-n-11.html', 'https://comics.panini.it/store/pub_ita_it/mnaru039r-it-naruto-il-mito-naruto-il-mito-39.html', 'https://comics.panini.it/store/pub_ita_it/mkeni001-it-history-strongest-disciple-ken-history-strongest-disciple.html', 'https://comics.panini.it/store/pub_ita_it/mkega010-it-ken-gaiden-ken-gaiden-n-10.html', 'https://comics.panini.it/store/pub_ita_it/mplai010-it-planet-ai-hiyokoi-n-10.html', 'https://comics.panini.it/store/pub_ita_it/mbtoo012isbn-it-btoom.html', 'https://comics.panini.it/store/pub_ita_it/mplma118-it-planet-manga-naruto-n-65.html', 'https://comics.panini.it/store/pub_ita_it/mmaze012-it-manga-zero-maken-ki-n-4.html', 'https://comics.panini.it/store/pub_ita_it/msomn003-it-somnia-somnia-n-3.html', 'https://comics.panini.it/store/pub_ita_it/mcamn104r-it-soul-eater.html', 'https://comics.panini.it/store/pub_ita_it/mplfa009-it-gate-7-green-blood-n-4.html', 'https://comics.panini.it/store/pub_ita_it/mdoro014isbnr-it-dorohedoro-dorohedoro-14-prima-ristampa.html', 'https://comics.panini.it/store/pub_ita_it/mmaki026-it-manga-kiss-maid-n-17.html', 'https://comics.panini.it/store/pub_ita_it/mvade018-it-vampire-knight-deluxe-vampire-knight-deluxe-n-18.html', 'https://comics.panini.it/store/pub_ita_it/mnaru033r-it-naruto-il-mito-naruto-il-mito-33-prima-ristampa.html', 'https://comics.panini.it/store/pub_ita_it/mkega009-it-ken-gaiden-ken-gaiden-n-9.html', 'https://comics.panini.it/store/pub_ita_it/mplfa008-it-gate-7-green-blood-n-3.html', 'https://comics.panini.it/store/pub_ita_it/mmsup071r-it-manga-superstar-d-gray-man-19-prima-ristampa.html', 'https://comics.panini.it/store/pub_ita_it/mnaru029r-it-naruto-il-mito-naruto-il-mito-29-prima-ristampa.html', 'https://comics.panini.it/store/pub_ita_it/mnaru030r-it-naruto-il-mito-naruto-il-mito-30-prima-ristampa.html', 'https://comics.panini.it/store/pub_ita_it/mblea045r-it-bleach.html', 'https://comics.panini.it/store/pub_ita_it/mblea042r-it-bleach.html', 'https://comics.panini.it/store/pub_ita_it/mdewo006isbnr-it-deadman-wonderland-deadman-wonderland-6-prima-ristampa.html', 'https://comics.panini.it/store/pub_ita_it/mvaga054-it-vagabond-vagabond-n-54.html', 'https://comics.panini.it/store/pub_ita_it/mplai009-it-planet-ai-hiyokoi-n-9.html', 'https://comics.panini.it/store/pub_ita_it/mganr001isbn-it-gantz-romanzi-gantz-romanzi-n-1.html', 'https://comics.panini.it/store/pub_ita_it/mmgno083r-it-manga-graphic-novel-blue-exorcist-5-prima-ristampa.html', 'https://comics.panini.it/store/pub_ita_it/mmgno061r-it-manga-graphic-novel-real-8-prima-ristampa.html', 'https://comics.panini.it/store/pub_ita_it/mhuxh024r-it-hunter-x-hunter-hunter-x-hunter-24-prima-ristampa.html', 'https://comics.panini.it/store/pub_ita_it/mnaru028r-it-naruto-il-mito-naruto-il-mito-28-prima-ristampa.html', 'https://comics.panini.it/store/pub_ita_it/mkega008-it-ken-gaiden-ken-gaiden-n-8.html', 'https://comics.panini.it/store/pub_ita_it/mmaze011-it-manga-zero-maken-ki-n-3.html', 'https://comics.panini.it/store/pub_ita_it/mplfa007-it-gate-7-gate-7-n-5.html', 'https://comics.panini.it/store/pub_ita_it/mmede009isbn-it-eden-riproposta-eden-riproposta-n-9.html', 'https://comics.panini.it/store/pub_ita_it/mmali008-it-manga-life-silver-spoon-n-8.html', 'https://comics.panini.it/store/pub_ita_it/msomn002-it-somnia-somnia-n-2.html', 'https://comics.panini.it/store/pub_ita_it/mbtoo011isbn-it-btoom.html', 'https://comics.panini.it/store/pub_ita_it/mcamn113-it-soul-eater.html', 'https://comics.panini.it/store/pub_ita_it/mhoku027-it-hokuto-no-ken-hokuto-no-ken-n-27.html', 'https://comics.panini.it/store/pub_ita_it/mkega007-it-ken-gaiden-ken-gaiden-7.html', 'https://comics.panini.it/store/pub_ita_it/mcamn084r2-it-soul-eater.html', 'https://comics.panini.it/store/pub_ita_it/mnaru055-it-naruto-il-mito-naruto-il-mito-n-55.html', 'https://comics.panini.it/store/pub_ita_it/mcamn082r2-it-soul-eater.html', 'https://comics.panini.it/store/pub_ita_it/mhoku026-it-hokuto-no-ken-hokuto-no-ken-n-26.html', 'https://comics.panini.it/store/pub_ita_it/mplfa006-it-gate-7-green-blood-n-2.html', 'https://comics.panini.it/store/pub_ita_it/mhoku025-it-hokuto-no-ken-hokuto-no-ken-n-25.html', 'https://comics.panini.it/store/pub_ita_it/mhoku024-it-hokuto-no-ken-hokuto-no-ken-n-24.html', 'https://comics.panini.it/store/pub_ita_it/mplai008-it-planet-ai-hiyokoi-n-8.html', 'https://comics.panini.it/store/pub_ita_it/mhoku023-it-hokuto-no-ken-hokuto-no-ken-n-23.html', 'https://comics.panini.it/store/pub_ita_it/mtanb002isbn-it-ten-no-taka-tanig-coll-gs-taniguchi-collection-big-k.html', 'https://comics.panini.it/store/pub_ita_it/mkega006-it-ken-gaiden-ken-gaiden-6.html', 'https://comics.panini.it/store/pub_ita_it/mplma117-it-planet-manga-naruto-n-64.html', 'https://comics.panini.it/store/pub_ita_it/mhoku022-it-hokuto-no-ken-hokuto-no-ken-n-22.html', 'https://comics.panini.it/store/pub_ita_it/mplsh063-it-planet-manga-presenta-bakuman-character-book.html', 'https://comics.panini.it/store/pub_ita_it/mmsup026r2-it-manga-superstar-dgray-man-7-libro-isbn-seconda-ristampa.html', 'https://comics.panini.it/store/pub_ita_it/mhoku021-it-hokuto-no-ken-hokuto-no-ken-n-21.html', 'https://comics.panini.it/store/pub_ita_it/mmede008isbn-it-eden-riproposta-eden-riproposta-n-8.html', 'https://comics.panini.it/store/pub_ita_it/mplfa005-it-gate-7-green-blood-n-1.html', 'https://comics.panini.it/store/pub_ita_it/mhoku020-it-hokuto-no-ken-hokuto-no-ken-n-20.html', 'https://comics.panini.it/store/pub_ita_it/mbtoo010isbn-it-btoom-btoom-n-10.html', 'https://comics.panini.it/store/pub_ita_it/mmali007-it-manga-life-silver-spoon-n-7.html', 'https://comics.panini.it/store/pub_ita_it/mhoku019-it-hokuto-no-ken-hokuto-no-ken-n-19.html', 'https://comics.panini.it/store/pub_ita_it/mhoku018-it-hokuto-no-ken-hokuto-no-ken-n-18.html', 'https://comics.panini.it/store/pub_ita_it/mkega005-it-ken-gaiden-ken-gaiden-5.html', 'https://comics.panini.it/store/pub_ita_it/mhoku017-it-hokuto-no-ken-hokuto-no-ken-n-17.html', 'https://comics.panini.it/store/pub_ita_it/mcamn100r-it-soul-eater.html', 'https://comics.panini.it/store/pub_ita_it/mhuxh025r-it-hunter-x-hunter-hunter-x-hunter-n-25-lib-di-08.html', 'https://comics.panini.it/store/pub_ita_it/mhuxh023r-it-hunter-x-hunter-hunter-x-hunter-n-23-lug-08.html', 'https://comics.panini.it/store/pub_ita_it/mcamn098r-it-soul-eater.html', 'https://comics.panini.it/store/pub_ita_it/mhoku016-it-hokuto-no-ken-hokuto-no-ken-n-16.html', 'https://comics.panini.it/store/pub_ita_it/mvade004r-it-vampire-knight-deluxe-vampire-knight-lib-n-4-feb-10.html', 'https://comics.panini.it/store/pub_ita_it/mhoku015-it-hokuto-no-ken-hokuto-no-ken-15.html', 'https://comics.panini.it/store/pub_ita_it/mmsup023r3-it-manga-superstar-manga-superstar-n-23-ott-06.html', 'https://comics.panini.it/store/pub_ita_it/mdoro013isbnr-it-dorohedoro-dorohedoro-n-13-isbn-ago-10.html', 'https://comics.panini.it/store/pub_ita_it/mplai007-it-planet-ai-hiyokoi-n-7.html', 'https://comics.panini.it/store/pub_ita_it/mhoku014-it-hokuto-no-ken-hokuto-no-ken-14.html', 'https://comics.panini.it/store/pub_ita_it/mkega004-it-ken-gaiden-ken-gaiden-4.html', 'https://comics.panini.it/store/pub_ita_it/mhoku013-it-hokuto-no-ken-hokuto-no-ken-13.html', 'https://comics.panini.it/store/pub_ita_it/mmede007isbn-it-eden-riproposta-eden-riproposta-n-7.html', 'https://comics.panini.it/store/pub_ita_it/mcamn096r-it-soul-eater.html', 'https://comics.panini.it/store/pub_ita_it/mbtoo009isbn-it-btoom.html', 'https://comics.panini.it/store/pub_ita_it/mnori002isbnr-it-noritaka-noritaka-n-2.html', 'https://comics.panini.it/store/pub_ita_it/mhoku012-it-hokuto-no-ken-hokuto-no-ken-12.html', 'https://comics.panini.it/store/pub_ita_it/mhoku011-it-hokuto-no-ken-hokuto-no-ken-11.html', 'https://comics.panini.it/store/pub_ita_it/mmali006-it-manga-life-silver-spoon-n-6.html', 'https://comics.panini.it/store/pub_ita_it/mvade017-it-vampire-knight-deluxe-vampire-knight-deluxe-n-17.html', 'https://comics.panini.it/store/pub_ita_it/mdoro012isbnr-it-dorohedoro-dorohedoro-n-12-isbn-giu-10.html', 'https://comics.panini.it/store/pub_ita_it/mnaru054-it-naruto-il-mito-naruto-il-mito-n-54.html', 'https://comics.panini.it/store/pub_ita_it/mkega003-it-ken-gaiden-ken-gaiden-3.html', 'https://comics.panini.it/store/pub_ita_it/mplma116-it-planet-manga-naruto-n-63.html', 'https://comics.panini.it/store/pub_ita_it/mmaki024-it-manga-kiss-maid-n-15.html', 'https://comics.panini.it/store/pub_ita_it/mmsup022r3-it-manga-superstar-manga-sup-22-d-gray-3-set-06.html', 'https://comics.panini.it/store/pub_ita_it/mvade003r-it-vampire-knight-deluxe-vampire-knight-deluxe-3-dic-09.html', 'https://comics.panini.it/store/pub_ita_it/mplai006-it-planet-ai-hiyokoi-n-6.html', 'https://comics.panini.it/store/pub_ita_it/mkega002-it-ken-gaiden-ken-gaiden-2.html', 'https://comics.panini.it/store/pub_ita_it/mmede006isbn-it-eden-riproposta-eden-riproposta-n-6.html', 'https://comics.panini.it/store/pub_ita_it/mbtoo008isbn-it-btoom-btoom-n-8.html', 'https://comics.panini.it/store/pub_ita_it/mcamn094r-it-soul-eater.html', 'https://comics.panini.it/store/pub_ita_it/mmali005-it-manga-life-silver-spoon-n-5.html', 'https://comics.panini.it/store/pub_ita_it/mhoku002-it-hokuto-no-ken-hokuto-no-ken-2.html', 'https://comics.panini.it/store/pub_ita_it/mmgno092-it-manga-graphic-novel-real-12.html', 'https://comics.panini.it/store/pub_ita_it/mkega001-it-ken-gaiden-ken-gaiden-1.html', 'https://comics.panini.it/store/pub_ita_it/mplsh060-it-planet-manga-presenta-bakuman-n-20.html', 'https://comics.panini.it/store/pub_ita_it/mmaki023-it-manga-kiss-maid-n-14.html', 'https://comics.panini.it/store/pub_ita_it/mplsh006r-it-planet-manga-presenta-planet-manga-6-lib-nov-08.html', 'https://comics.panini.it/store/pub_ita_it/mplai005-it-planet-ai-hiyokoi-n-5.html', 'https://comics.panini.it/store/pub_ita_it/mmede005isbn-it-eden-riproposta-eden-riproposta-n-5.html', 'https://comics.panini.it/store/pub_ita_it/mvaco011isbnr-it-vagabond-collection-vagabond-delux-n-11-isbn-fe-05.html', 'https://comics.panini.it/store/pub_ita_it/mcity031isbn-it-city-hunter-complete-edition.html', 'https://comics.panini.it/store/pub_ita_it/mbtoo007isbn-it-btoom.html', 'https://comics.panini.it/store/pub_ita_it/mmali004-it-manga-life-silver-spoon-n-4.html', 'https://comics.panini.it/store/pub_ita_it/mtanb001isbn-it-ten-no-taka-tanig-coll-gs-ten-no-taka-tanig-coll-gia.html', 'https://comics.panini.it/store/pub_ita_it/mplsh058-it-planet-manga-presenta-bakuman-n-19.html', 'https://comics.panini.it/store/pub_ita_it/mmsup038r3-it-manga-superstar-manga-superstar-n-38-lib-gen08.html', 'https://comics.panini.it/store/pub_ita_it/mcity030isbn-it-city-hunter-complete-edition.html', 'https://comics.panini.it/store/pub_ita_it/mmaki022-it-manga-kiss-maid-n-13.html', 'https://comics.panini.it/store/pub_ita_it/mvaco022isbnr-it-vagabond-collection-vagabond-deluxe-n-22-ott-07.html', 'https://comics.panini.it/store/pub_ita_it/mvaco023isbnr-it-vagabond-collection-vagabond-deluxe-n-23-feb-08.html', 'https://comics.panini.it/store/pub_ita_it/mplai004-it-planet-ai-hiyokoi-n-4.html', 'https://comics.panini.it/store/pub_ita_it/mpepi001isbn-it-pepita-pepita.html', 'https://comics.panini.it/store/pub_ita_it/mnaro003isbn-it-romanzo-di-naruto-naruto-romanzo-ninja-clash-in-the-land.html', 'https://comics.panini.it/store/pub_ita_it/mbtoo006isbn-it-btoom.html', 'https://comics.panini.it/store/pub_ita_it/mcity029isbn-it-city-hunter-complete-edition.html', 'https://comics.panini.it/store/pub_ita_it/mmede004isbn-it-eden-riproposta-eden-riproposta-n-4.html', 'https://comics.panini.it/store/pub_ita_it/mvade016-it-vampire-knight-deluxe-vampire-knight-deluxe-n-16.html', 'https://comics.panini.it/store/pub_ita_it/mmsup027r2-it-manga-superstar-manga-superstar-n-27-feb-07.html', 'https://comics.panini.it/store/pub_ita_it/mmali003-it-manga-life-silver-spoon-n-3.html', 'https://comics.panini.it/store/pub_ita_it/mmgno091-it-manga-graphic-novel-ao-no-exorcist-9.html', 'https://comics.panini.it/store/pub_ita_it/mmaki021-it-manga-kiss-maid-n-12.html', 'https://comics.panini.it/store/pub_ita_it/mvaco013isbnr-it-vagabond-collection-vagabond-delux-n-13-isbn-ap-05.html', 'https://comics.panini.it/store/pub_ita_it/mvaco014isbnr-it-vagabond-collection-vagabond-delux-n-14-isbn-ma-05.html', 'https://comics.panini.it/store/pub_ita_it/mbtoo005isbn-it-btoom.html', 'https://comics.panini.it/store/pub_ita_it/mvaco009isbnr-it-vagabond-collection-vagabond-delux-n-9-isbn-dic-04.html', 'https://comics.panini.it/store/pub_ita_it/mplsh056-it-planet-manga-presenta-bakuman-n-18.html', 'https://comics.panini.it/store/pub_ita_it/mmsup020r3-it-manga-superstar-manga-superstar-n-20-lug-06.html', 'https://comics.panini.it/store/pub_ita_it/mvaco012isbnr-it-vagabond-collection-vagabond-delux-n-12-isbn-ma-05.html', 'https://comics.panini.it/store/pub_ita_it/mmsup025r2-it-manga-superstar-manga-superstars-n-25-dic-06.html', 'https://comics.panini.it/store/pub_ita_it/mvaco020isbnr-it-vagabond-collection-vagabond-delux-n-20-isbn-no-05.html', 'https://comics.panini.it/store/pub_ita_it/mplma114-it-planet-manga-naruto-n-61.html', 'https://comics.panini.it/store/pub_ita_it/mmede003isbn-it-eden-riproposta-eden-riproposta-n-3.html', 'https://comics.panini.it/store/pub_ita_it/mcamn111-it-soul-eater.html', 'https://comics.panini.it/store/pub_ita_it/mmali002-it-manga-life-silver-spoon-n-2.html', 'https://comics.panini.it/store/pub_ita_it/mmsup021r3-it-manga-superstar-manga-superstar-n-21-ago-06.html', 'https://comics.panini.it/store/pub_ita_it/mmaki020-it-manga-kiss-maid-n-11.html', 'https://comics.panini.it/store/pub_ita_it/mcity026isbn-it-city-hunter-complete-edition.html', 'https://comics.panini.it/store/pub_ita_it/mvaco008isbnr-it-vagabond-collection-vagabond-delux-n-8-isbn-nov-04.html', 'https://comics.panini.it/store/pub_ita_it/mplsh054-it-planet-manga-presenta-bakuman-n-17.html', 'https://comics.panini.it/store/pub_ita_it/mdoro011isbnr-it-dorohedoro-dorohedoro-n-11-dic-09.html', 'https://comics.panini.it/store/pub_ita_it/mvaco010isbnr-it-vagabond-collection-vagabond-delux-n-10-isbn-ge-05.html', 'https://comics.panini.it/store/pub_ita_it/mblea055-it-bleach.html', 'https://comics.panini.it/store/pub_ita_it/mmali001-it-manga-life-silver-spoon-n-1.html', 'https://comics.panini.it/store/pub_ita_it/mmgno051r-it-manga-graphic-novel-manga-graphic-novel-51-ago-08.html', 'https://comics.panini.it/store/pub_ita_it/mmede002isbn-it-eden-riproposta-eden-riproposta-n-2.html', 'https://comics.panini.it/store/pub_ita_it/mblbu014-it-black-butler-il-maggiordomo-diabolico.html', 'https://comics.panini.it/store/pub_ita_it/mvaco018isbnr-it-vagabond-collection-vagabond-delux-n-18-isbn-se-05.html', 'https://comics.panini.it/store/pub_ita_it/mbtoo002isbn-it-btoom.html', 'https://comics.panini.it/store/pub_ita_it/mvaco019isbnr-it-vagabond-collection-vagabond-delux-n-19-isbn-ot-05.html', 'https://comics.panini.it/store/pub_ita_it/mmsup058r-it-manga-superstar-manga-superstar-58-nov-09.html', 'https://comics.panini.it/store/pub_ita_it/mdoro010isbnr-it-dorohedoro-dorohedoro-isbn-n-10-ott-09.html', 'https://comics.panini.it/store/pub_ita_it/myoco003isbn-it-yoshizumi-collection-deluxe-yoshizumi-collection-deluxe-n.html', 'https://comics.panini.it/store/pub_ita_it/mmgno090-it-manga-graphic-novel-ao-no-exorcist-8.html', 'https://comics.panini.it/store/pub_ita_it/mnaro002isbn-it-romanzo-di-naruto-naruto-romanzo-protect-the-waterfall-v.html', 'https://comics.panini.it/store/pub_ita_it/mmgno042r-it-manga-graphic-novel-manga-gr-novel-real-6-ago-07.html', 'https://comics.panini.it/store/pub_ita_it/mdoro009isbnr-it-dorohedoro-dorohedoro-n-9-isbn-ott-08.html', 'https://comics.panini.it/store/pub_ita_it/mvaco016isbnr-it-vagabond-collection-vagabond-delux-n-16-isbn-lu-05.html', 'https://comics.panini.it/store/pub_ita_it/mplsh052-it-planet-manga-presenta-bakuman-n-16.html', 'https://comics.panini.it/store/pub_ita_it/mcity024isbn-it-city-hunter-complete-edition.html', 'https://comics.panini.it/store/pub_ita_it/mvaco017isbnr-it-vagabond-collection-vagabond-delux-n-17-isbn-ag-05.html', 'https://comics.panini.it/store/pub_ita_it/mspwo007isbn-it-spice-and-wolf-spice-and-wolf-n-7.html', 'https://comics.panini.it/store/pub_ita_it/mmsup091-it-manga-superstar-d-gray-man-n-23.html', 'https://comics.panini.it/store/pub_ita_it/myoco002isbn-it-yoshizumi-collection-deluxe-yoshizumi-collection-deluxe-n.html', 'https://comics.panini.it/store/pub_ita_it/mblea054-it-bleach.html', 'https://comics.panini.it/store/pub_ita_it/mvaco015isbnr-it-vagabond-collection-vagabond-delux-n-15-isbn-gi-05.html', 'https://comics.panini.it/store/pub_ita_it/mvaco006isbnr-it-vagabond-collection-vagabond-delux-n-6-isbn-set-04.html', 'https://comics.panini.it/store/pub_ita_it/mvaco005isbnr-it-vagabond-collection-vagabond-delux-n-5-isbn-ago-04.html', 'https://comics.panini.it/store/pub_ita_it/mvaco021isbnr-it-vagabond-collection-vagabond-deluxe-n-21-isbn-g-07.html', 'https://comics.panini.it/store/pub_ita_it/mblbu013-it-black-butler-il-maggiordomo-diabolico.html', 'https://comics.panini.it/store/pub_ita_it/myoco001isbn-it-yoshizumi-collection-deluxe-yoshizumi-collection-deluxe-n.html', 'https://comics.panini.it/store/pub_ita_it/mvade015-it-vampire-knight-deluxe-vampire-knight-deluxe-n-15.html', 'https://comics.panini.it/store/pub_ita_it/mcamn109-it-soul-eater.html', 'https://comics.panini.it/store/pub_ita_it/mmaki018-it-manga-kiss-maid-n-9.html', 'https://comics.panini.it/store/pub_ita_it/mblbu005r-it-black-butler-il-maggiordomo-diabolico.html', 'https://comics.panini.it/store/pub_ita_it/mblbu004r-it-black-butler-il-maggiordomo-diabolico.html', 'https://comics.panini.it/store/pub_ita_it/mplsh050-it-planet-manga-presenta-bakuman-n-15.html', 'https://comics.panini.it/store/pub_ita_it/mblar005isbn-it-blame-ultimate-deluxe-collection.html', 'https://comics.panini.it/store/pub_ita_it/mblea053-it-bleach.html', 'https://comics.panini.it/store/pub_ita_it/mplma112-it-planet-manga-naruto-n-59.html', 'https://comics.panini.it/store/pub_ita_it/mblbu012-it-black-butler-il-maggiordomo-diabolico.html', 'https://comics.panini.it/store/pub_ita_it/mcity021isbn-it-city-hunter-complete-edition.html', 'https://comics.panini.it/store/pub_ita_it/mblbu007r-it-black-butler-black-butler-n-7-rist-mag-2012.html', 'https://comics.panini.it/store/pub_ita_it/mmgno087-it-manga-graphic-novel-real-11.html', 'https://comics.panini.it/store/pub_ita_it/mcamn108-it-soul-eater.html', 'https://comics.panini.it/store/pub_ita_it/mmaki016-it-manga-kiss-maid-n-8.html', 'https://comics.panini.it/store/pub_ita_it/mcity020isbn-it-city-hunter-complete-edition.html', 'https://comics.panini.it/store/pub_ita_it/mplsh048-it-planet-manga-presenta-bakuman-n-14.html', 'https://comics.panini.it/store/pub_ita_it/mblea052-it-bleach.html', 'https://comics.panini.it/store/pub_ita_it/mplma111-it-planet-manga-naruto-n-58.html', 'https://comics.panini.it/store/pub_ita_it/mma20084r-it-manga-2000-manga-2000-84-lib-ott-07.html', 'https://comics.panini.it/store/pub_ita_it/mma20075r-it-manga-2000-manga-2000-n-75-lib-dic-06.html', 'https://comics.panini.it/store/pub_ita_it/mma20073r-it-manga-2000-manga-2000-n-73-doro-6-ott-06.html', 'https://comics.panini.it/store/pub_ita_it/mvaco007isbnr-it-vagabond-collection-vagabond-delux-n-7-isbn-ott-04.html', 'https://comics.panini.it/store/pub_ita_it/mblbu011-it-black-butler-il-maggiordomo-diabolico.html', 'https://comics.panini.it/store/pub_ita_it/mmsup086-it-manga-superstar-d-gray-man-n-22.html', 'https://comics.panini.it/store/pub_ita_it/mcity019isbn-it-city-hunter-complete-edition.html', 'https://comics.panini.it/store/pub_ita_it/mspwo006isbn-it-spice-and-wolf-spice-and-wolf-n-6.html', 'https://comics.panini.it/store/pub_ita_it/mmsup048r-it-manga-superstar-manga-superstars-48-lib-nov-08.html', 'https://comics.panini.it/store/pub_ita_it/mvade014-it-vampire-knight-deluxe-vampire-knight-deluxe-n-14.html', 'https://comics.panini.it/store/pub_ita_it/mmsup050r-it-manga-superstar-manga-supertar-50-lib-genn-09.html', 'https://comics.panini.it/store/pub_ita_it/mcamn107-it-soul-eater.html', 'https://comics.panini.it/store/pub_ita_it/mmaki014-it-manga-kiss-maid-n-7.html', 'https://comics.panini.it/store/pub_ita_it/mplsh046-it-planet-manga-presenta-bakuman-n-13.html', 'https://comics.panini.it/store/pub_ita_it/mmgno028r-it-manga-graphic-novel-manga-graph-novel-28-real-5.html', 'https://comics.panini.it/store/pub_ita_it/mcity018isbn-it-city-hunter-complete-edition.html', 'https://comics.panini.it/store/pub_ita_it/muniv085r-it-manga-universe-manga-universe-85-gen-09.html', 'https://comics.panini.it/store/pub_ita_it/mspwo005isbn-it-spice-and-wolf-spice-and-wolf-n-5.html', 'https://comics.panini.it/store/pub_ita_it/mblea051-it-bleach.html', 'https://comics.panini.it/store/pub_ita_it/mplma110-it-planet-manga-naruto-n-57.html', 'https://comics.panini.it/store/pub_ita_it/mtani010isbn-it-taniguchi-collection-taniguchi-collection-n-10-garouden.html', 'https://comics.panini.it/store/pub_ita_it/mblbu010-it-black-butler-il-maggiordomo-diabolico.html', 'https://comics.panini.it/store/pub_ita_it/muniv082r-it-manga-universe-manga-universe-82-lib-giu-08.html', 'https://comics.panini.it/store/pub_ita_it/mspwo004isbn-it-spice-and-wolf-spice-and-wolf-n-4.html', 'https://comics.panini.it/store/pub_ita_it/mmgno017r-it-manga-graphic-novel-real-4.html', 'https://comics.panini.it/store/pub_ita_it/mcity017isbn-it-city-hunter-complete-edition.html', 'https://comics.panini.it/store/pub_ita_it/mvade013-it-vampire-knight-deluxe-vampire-knight-deluxe-n-13.html', 'https://comics.panini.it/store/pub_ita_it/mplsh028r-it-planet-manga-presenta-planet-manga-pres-28-lib-se-10.html', 'https://comics.panini.it/store/pub_ita_it/mcamn092r-it-soul-eater.html', 'https://comics.panini.it/store/pub_ita_it/muniv081r-it-manga-universe-manga-universe-n-81-lib-mag-08.html', 'https://comics.panini.it/store/pub_ita_it/mcamn090r-it-soul-eater.html', 'https://comics.panini.it/store/pub_ita_it/mplsh044-it-planet-manga-presenta-bakuman-n-12.html', 'https://comics.panini.it/store/pub_ita_it/mcamn106-it-soul-eater.html', 'https://comics.panini.it/store/pub_ita_it/mblea050-it-bleach.html', 'https://comics.panini.it/store/pub_ita_it/mplma109-it-planet-manga-naruto-n-56.html', 'https://comics.panini.it/store/pub_ita_it/mcity016isbn-it-city-hunter-complete-edition.html', 'https://comics.panini.it/store/pub_ita_it/mmgno012r-it-manga-graphic-novel-manga-graphic-novel-12-ott-04.html', 'https://comics.panini.it/store/pub_ita_it/mmgno013r-it-manga-graphic-novel-manga-graphic-novel-13-nov-04.html', 'https://comics.panini.it/store/pub_ita_it/mtrix015isbnl-it-triage-x-triage-x-15-lito-promo.html', 'https://comics.panini.it/store/pub_ita_it/mblbu009-it-black-butler-il-maggiordomo-diabolico.html', 'https://comics.panini.it/store/pub_ita_it/mmgno011r-it-manga-graphic-novel-manga-graphic-novel-11-ago-04.html', 'https://comics.panini.it/store/pub_ita_it/mmsup044r-it-manga-superstar-dgray-man-rist-1-manga-superstar-44-lib.html', 'https://comics.panini.it/store/pub_ita_it/mcity015isbn-it-city-hunter-complete-edition.html', 'https://comics.panini.it/store/pub_ita_it/muniv080r-it-manga-universe-manga-universe-80-lib-apr-08.html', 'https://comics.panini.it/store/pub_ita_it/mplsh042-it-planet-manga-presenta-bakuman-n-11.html', 'https://comics.panini.it/store/pub_ita_it/mcity014isbn-it-city-hunter-complete-edition.html', 'https://comics.panini.it/store/pub_ita_it/mplma108-it-planet-manga-naruto-n-55.html', 'https://comics.panini.it/store/pub_ita_it/mmasn046-it-manga-storie-nuova-serie-fanbook-vampire-knight.html', 'https://comics.panini.it/store/pub_ita_it/martb001isbnr-it-all-color-but-the-black.html', 'https://comics.panini.it/store/pub_ita_it/mhuxh021r-it-hunter-x-hunter-hunter-x-hunter-n-21-gen-08.html', 'https://comics.panini.it/store/pub_ita_it/mcity013isbn-it-city-hunter-complete-edition.html', 'https://comics.panini.it/store/pub_ita_it/mblbu006-it-black-butler-il-maggiordomo-diabolico.html', 'https://comics.panini.it/store/pub_ita_it/mplsh040-it-planet-manga-presenta-bakuman-n-10.html', 'https://comics.panini.it/store/pub_ita_it/mplsh026r-it-planet-manga-presenta-planet-mang-pres-26-lug-10.html', 'https://comics.panini.it/store/pub_ita_it/mmaki008-it-manga-kiss-maid-n-4.html', 'https://comics.panini.it/store/pub_ita_it/mplma107-it-planet-manga-naruto-n-54.html', 'https://comics.panini.it/store/pub_ita_it/mcity012isbn-it-city-hunter-complete-edition.html', 'https://comics.panini.it/store/pub_ita_it/mmsup054r-it-manga-superstar-manga-superstar-54-lib-mag-09.html', 'https://comics.panini.it/store/pub_ita_it/muniv079r-it-manga-universe-manga-universe-79-lib-mar-08.html', 'https://comics.panini.it/store/pub_ita_it/mcity001isbnr-it-city-hunter-complete-edition.html', 'https://comics.panini.it/store/pub_ita_it/mcity011isbn-it-city-hunter-complete-edition.html', 'https://comics.panini.it/store/pub_ita_it/mvade012-it-vampire-knight-deluxe-vampire-knight-deluxe-n-12.html', 'https://comics.panini.it/store/pub_ita_it/mplsh038-it-planet-manga-presenta-bakuman-n-9.html', 'https://comics.panini.it/store/pub_ita_it/mcity010isbn-it-city-hunter-complete-edition.html', 'https://comics.panini.it/store/pub_ita_it/mcity009isbn-it-city-hunter-complete-edition.html', 'https://comics.panini.it/store/pub_ita_it/mvano001isbnr-it-vampire-knight-novel-vampire-knight-novel-1-mag-11.html', 'https://comics.panini.it/store/pub_ita_it/mcity008isbn-it-city-hunter-complete-edition.html', 'https://comics.panini.it/store/pub_ita_it/mvade011-it-vampire-knight-deluxe-vampire-knight-deluxe-n-11.html', 'https://comics.panini.it/store/pub_ita_it/mcity007isbn-it-city-hunter-complete-edition.html', 'https://comics.panini.it/store/pub_ita_it/mplsh034-it-planet-manga-presenta-bakuman-n-7.html', 'https://comics.panini.it/store/pub_ita_it/mcity006isbn-it-city-hunter-complete-edition.html', 'https://comics.panini.it/store/pub_ita_it/mplma101-it-planet-manga-planet-manga-n-101-lib-lug-10.html', 'https://comics.panini.it/store/pub_ita_it/mvade009-it-vampire-knight-deluxe-vampire-knight-deluxe-n-9-lib.html', 'https://comics.panini.it/store/pub_ita_it/mblea024r-it-bleach.html', 'https://comics.panini.it/store/pub_ita_it/mvade007-it-vampire-knight-deluxe-vampire-knig-deluxe-n-7-ag-10.html', 'https://comics.panini.it/store/pub_ita_it/mcity004isbn-it-city-hunter-complete-edition.html', 'https://comics.panini.it/store/pub_ita_it/mplma102-it-planet-manga-planet-manga-n-102-lib-sett-10.html', 'https://comics.panini.it/store/pub_ita_it/mvade010-it-vampire-knight-deluxe-vampire-knight-deluxe-n-10.html', 'https://comics.panini.it/store/pub_ita_it/mvade008-it-vampire-knight-deluxe-vampire-knight-deln-8-ott-10.html', 'https://comics.panini.it/store/pub_ita_it/mplma103-it-planet-manga-naruto-n-50.html', 'https://comics.panini.it/store/pub_ita_it/mvani005isbnr-it-vampire-night-vampire-night-n-5-rist-ago-09.html', 'https://comics.panini.it/store/pub_ita_it/mplma099-it-planet-manga-planet-manga-n-99-lib-gen-10.html', 'https://comics.panini.it/store/pub_ita_it/mvani004isbnr-it-vampire-night-vampire-night-n-4-rist-ago-09.html', 'https://comics.panini.it/store/pub_ita_it/mbeco032-it-berserk-collection.html', 'https://comics.panini.it/store/pub_ita_it/mplma092-it-planet-manga-planet-manga-92-lib-ott-08.html', 'https://comics.panini.it/store/pub_ita_it/mplsh107-it-planet-manga-presenta-planet-manga-presenta-saint-seiya-e.html', 'https://comics.panini.it/store/pub_ita_it/mplma089-it-planet-manga-planet-manga-89-lib-apr-08.html', 'https://comics.panini.it/store/pub_ita_it/mplma090-it-planet-manga-planet-manga-90-lib-giu-08.html', 'https://comics.panini.it/store/pub_ita_it/mnaru011r4-it-naruto-il-mito-naruto-il-mito-11-quarta-ristampa-isbn.html']\n"
          ],
          "name": "stdout"
        }
      ]
    },
    {
      "cell_type": "code",
      "metadata": {
        "id": "twheyvYGItMG",
        "colab_type": "code",
        "colab": {
          "base_uri": "https://localhost:8080/",
          "height": 137,
          "referenced_widgets": [
            "a6ecab7d43ff449a998e4316f054af85",
            "ed2a7f480e384e2fa1a4dc3742307223",
            "f6ff062fb87c4a3e9fc8043e307459b7",
            "d863c8844dce4d19a69308c7901de894",
            "b7b519b64781481793a6d6a638358603",
            "4f980f4e1fb74ec393c652ff82c778f4",
            "74950251869b4e8f891c9b1d4a95946b",
            "409d2d203bff4a3496b68098629a4d40"
          ]
        },
        "outputId": "05a45c83-915f-46ee-dc26-74ab8e028999"
      },
      "source": [
        "dettaglio_fumetto = []\n",
        "\n",
        "for fumetto in tqdm(lista_marvel):\n",
        "  try:\n",
        "    time.sleep(1)\n",
        "    chrome_options=webdriver.ChromeOptions()\n",
        "    chrome_options.add_argument('--headless')\n",
        "    chrome_options.add_argument('--no-sandbox')\n",
        "    chrome_options.add_argument('--disable-dev-shm-usage')\n",
        "    wd = webdriver.Chrome('chromedriver',options=chrome_options)\n",
        "    wd.get(fumetto)\n",
        "    test = (wd.find_elements_by_css_selector(\"#img_01\"))\n",
        "    dettaglio_fumetto.append({\n",
        "                            'url' : fumetto,\n",
        "                            \"url_immagini\" : test[0].get_attribute(\"src\")})\n",
        "    wd.close()\n",
        "  except Exception as e:\n",
        "    dettaglio_fumetto.append({\n",
        "                            'url' : fumetto,\n",
        "                            \"url_immagini\" : None})\n",
        "    wd.close()\n",
        "#pprint.pprint(dettaglio_fumetto)"
      ],
      "execution_count": null,
      "outputs": [
        {
          "output_type": "stream",
          "text": [
            "/usr/local/lib/python3.6/dist-packages/ipykernel_launcher.py:3: TqdmDeprecationWarning: This function will be removed in tqdm==5.0.0\n",
            "Please use `tqdm.notebook.tqdm` instead of `tqdm.tqdm_notebook`\n",
            "  This is separate from the ipykernel package so we can avoid doing imports until\n"
          ],
          "name": "stderr"
        },
        {
          "output_type": "display_data",
          "data": {
            "application/vnd.jupyter.widget-view+json": {
              "model_id": "a6ecab7d43ff449a998e4316f054af85",
              "version_minor": 0,
              "version_major": 2
            },
            "text/plain": [
              "HBox(children=(FloatProgress(value=0.0, max=999.0), HTML(value='')))"
            ]
          },
          "metadata": {
            "tags": []
          }
        },
        {
          "output_type": "stream",
          "text": [
            "\n"
          ],
          "name": "stdout"
        }
      ]
    },
    {
      "cell_type": "code",
      "metadata": {
        "id": "GadjoOv2XeCV",
        "colab_type": "code",
        "colab": {}
      },
      "source": [
        "dflink = pd.DataFrame(dettaglio_fumetto)"
      ],
      "execution_count": null,
      "outputs": []
    },
    {
      "cell_type": "code",
      "metadata": {
        "id": "m6wNwv0JYIuj",
        "colab_type": "code",
        "colab": {
          "base_uri": "https://localhost:8080/",
          "height": 204
        },
        "outputId": "91edf877-1fd9-4845-b6a6-e0cc2f4356a4"
      },
      "source": [
        "dflink.head()"
      ],
      "execution_count": null,
      "outputs": [
        {
          "output_type": "execute_result",
          "data": {
            "text/html": [
              "<div>\n",
              "<style scoped>\n",
              "    .dataframe tbody tr th:only-of-type {\n",
              "        vertical-align: middle;\n",
              "    }\n",
              "\n",
              "    .dataframe tbody tr th {\n",
              "        vertical-align: top;\n",
              "    }\n",
              "\n",
              "    .dataframe thead th {\n",
              "        text-align: right;\n",
              "    }\n",
              "</style>\n",
              "<table border=\"1\" class=\"dataframe\">\n",
              "  <thead>\n",
              "    <tr style=\"text-align: right;\">\n",
              "      <th></th>\n",
              "      <th>url</th>\n",
              "      <th>url_immagini</th>\n",
              "    </tr>\n",
              "  </thead>\n",
              "  <tbody>\n",
              "    <tr>\n",
              "      <th>0</th>\n",
              "      <td>https://comics.panini.it/store/pub_ita_it/mmco...</td>\n",
              "      <td>https://comics.panini.it/store/media/catalog/p...</td>\n",
              "    </tr>\n",
              "    <tr>\n",
              "      <th>1</th>\n",
              "      <td>https://comics.panini.it/store/pub_ita_it/mmie...</td>\n",
              "      <td>https://comics.panini.it/store/media/catalog/p...</td>\n",
              "    </tr>\n",
              "    <tr>\n",
              "      <th>2</th>\n",
              "      <td>https://comics.panini.it/store/pub_ita_it/mara...</td>\n",
              "      <td>https://comics.panini.it/store/media/catalog/p...</td>\n",
              "    </tr>\n",
              "    <tr>\n",
              "      <th>3</th>\n",
              "      <td>https://comics.panini.it/store/pub_ita_it/mdea...</td>\n",
              "      <td>https://comics.panini.it/store/media/catalog/p...</td>\n",
              "    </tr>\n",
              "    <tr>\n",
              "      <th>4</th>\n",
              "      <td>https://comics.panini.it/store/pub_ita_it/mshi...</td>\n",
              "      <td>https://comics.panini.it/store/media/catalog/p...</td>\n",
              "    </tr>\n",
              "  </tbody>\n",
              "</table>\n",
              "</div>"
            ],
            "text/plain": [
              "                                                 url                                       url_immagini\n",
              "0  https://comics.panini.it/store/pub_ita_it/mmco...  https://comics.panini.it/store/media/catalog/p...\n",
              "1  https://comics.panini.it/store/pub_ita_it/mmie...  https://comics.panini.it/store/media/catalog/p...\n",
              "2  https://comics.panini.it/store/pub_ita_it/mara...  https://comics.panini.it/store/media/catalog/p...\n",
              "3  https://comics.panini.it/store/pub_ita_it/mdea...  https://comics.panini.it/store/media/catalog/p...\n",
              "4  https://comics.panini.it/store/pub_ita_it/mshi...  https://comics.panini.it/store/media/catalog/p..."
            ]
          },
          "metadata": {
            "tags": []
          },
          "execution_count": 35
        }
      ]
    },
    {
      "cell_type": "code",
      "metadata": {
        "id": "ir1_T4jIqudT",
        "colab_type": "code",
        "colab": {
          "base_uri": "https://localhost:8080/",
          "height": 122
        },
        "outputId": "68d605cd-01c0-4efa-934c-13327a673060"
      },
      "source": [
        "#ESEGUIRE SOLO UNA VOLTA \n",
        "from google.colab import files\n",
        "from google.colab import drive\n",
        "drive.mount('drive')"
      ],
      "execution_count": null,
      "outputs": [
        {
          "output_type": "stream",
          "text": [
            "Go to this URL in a browser: https://accounts.google.com/o/oauth2/auth?client_id=947318989803-6bn6qk8qdgf4n4g3pfee6491hc0brc4i.apps.googleusercontent.com&redirect_uri=urn%3aietf%3awg%3aoauth%3a2.0%3aoob&scope=email%20https%3a%2f%2fwww.googleapis.com%2fauth%2fdocs.test%20https%3a%2f%2fwww.googleapis.com%2fauth%2fdrive%20https%3a%2f%2fwww.googleapis.com%2fauth%2fdrive.photos.readonly%20https%3a%2f%2fwww.googleapis.com%2fauth%2fpeopleapi.readonly&response_type=code\n",
            "\n",
            "Enter your authorization code:\n",
            "··········\n",
            "Mounted at drive\n"
          ],
          "name": "stdout"
        }
      ]
    },
    {
      "cell_type": "code",
      "metadata": {
        "id": "eI3_thCwq3YS",
        "colab_type": "code",
        "colab": {}
      },
      "source": [
        "dflink.to_csv(\"drive/My Drive/df_Planet_Manga_img_terzii1000.csv\",index=False,header=True,sep=\"\\t\")"
      ],
      "execution_count": null,
      "outputs": []
    },
    {
      "cell_type": "code",
      "metadata": {
        "id": "IboLkx5drsGK",
        "colab_type": "code",
        "colab": {}
      },
      "source": [
        ""
      ],
      "execution_count": null,
      "outputs": []
    }
  ]
}