{
  "nbformat": 4,
  "nbformat_minor": 0,
  "metadata": {
    "colab": {
      "name": "Marvel_img.ipynb",
      "provenance": [],
      "collapsed_sections": []
    },
    "kernelspec": {
      "name": "python3",
      "display_name": "Python 3"
    }
  },
  "cells": [
    {
      "cell_type": "code",
      "metadata": {
        "id": "qQFJKgGbVkxi",
        "colab_type": "code",
        "colab": {
          "base_uri": "https://localhost:8080/",
          "height": 521
        },
        "outputId": "07487163-bf09-4fb2-b83a-86f7584ddaae"
      },
      "source": [
        "!pip install selenium\n",
        "!apt-get update\n",
        "!apt install chromium-chromedriver\n",
        "!cp /usr/lib/chromium-browser/chromedriver /usr/bin\n"
      ],
      "execution_count": null,
      "outputs": [
        {
          "output_type": "stream",
          "text": [
            "Requirement already satisfied: selenium in /usr/local/lib/python3.6/dist-packages (3.141.0)\n",
            "Requirement already satisfied: urllib3 in /usr/local/lib/python3.6/dist-packages (from selenium) (1.24.3)\n",
            "Hit:1 https://cloud.r-project.org/bin/linux/ubuntu bionic-cran35/ InRelease\n",
            "Ign:2 https://developer.download.nvidia.com/compute/cuda/repos/ubuntu1804/x86_64  InRelease\n",
            "Get:3 http://security.ubuntu.com/ubuntu bionic-security InRelease [88.7 kB]\n",
            "Ign:4 https://developer.download.nvidia.com/compute/machine-learning/repos/ubuntu1804/x86_64  InRelease\n",
            "Hit:5 http://ppa.launchpad.net/graphics-drivers/ppa/ubuntu bionic InRelease\n",
            "Hit:6 https://developer.download.nvidia.com/compute/cuda/repos/ubuntu1804/x86_64  Release\n",
            "Hit:7 http://archive.ubuntu.com/ubuntu bionic InRelease\n",
            "Hit:8 https://developer.download.nvidia.com/compute/machine-learning/repos/ubuntu1804/x86_64  Release\n",
            "Get:9 http://archive.ubuntu.com/ubuntu bionic-updates InRelease [88.7 kB]\n",
            "Get:10 http://ppa.launchpad.net/marutter/c2d4u3.5/ubuntu bionic InRelease [15.4 kB]\n",
            "Get:11 http://archive.ubuntu.com/ubuntu bionic-backports InRelease [74.6 kB]\n",
            "Get:14 http://security.ubuntu.com/ubuntu bionic-security/universe amd64 Packages [892 kB]\n",
            "Get:15 http://security.ubuntu.com/ubuntu bionic-security/main amd64 Packages [1,067 kB]\n",
            "Get:16 http://ppa.launchpad.net/marutter/c2d4u3.5/ubuntu bionic/main Sources [1,864 kB]\n",
            "Get:17 http://archive.ubuntu.com/ubuntu bionic-updates/main amd64 Packages [1,362 kB]\n",
            "Get:18 http://archive.ubuntu.com/ubuntu bionic-updates/universe amd64 Packages [1,421 kB]\n",
            "Get:19 http://ppa.launchpad.net/marutter/c2d4u3.5/ubuntu bionic/main amd64 Packages [900 kB]\n",
            "Fetched 7,774 kB in 4s (2,084 kB/s)\n",
            "Reading package lists... Done\n",
            "Reading package lists... Done\n",
            "Building dependency tree       \n",
            "Reading state information... Done\n",
            "chromium-chromedriver is already the newest version (84.0.4147.105-0ubuntu0.18.04.1).\n",
            "The following package was automatically installed and is no longer required:\n",
            "  libnvidia-common-440\n",
            "Use 'apt autoremove' to remove it.\n",
            "0 upgraded, 0 newly installed, 0 to remove and 71 not upgraded.\n",
            "cp: '/usr/lib/chromium-browser/chromedriver' and '/usr/bin/chromedriver' are the same file\n"
          ],
          "name": "stdout"
        }
      ]
    },
    {
      "cell_type": "code",
      "metadata": {
        "id": "PdwUSRtmWVQN",
        "colab_type": "code",
        "colab": {}
      },
      "source": [
        "import sys\n",
        "sys.path.insert(0,'/usr/lib/chromium-browser/chromedriver')\n",
        "from selenium import webdriver\n",
        "from tqdm import tqdm_notebook as tqdm\n",
        "import pandas as pd\n",
        "import json\n",
        "import pprint\n",
        "import time\n"
      ],
      "execution_count": null,
      "outputs": []
    },
    {
      "cell_type": "code",
      "metadata": {
        "id": "75p0acXMWwON",
        "colab_type": "code",
        "colab": {}
      },
      "source": [
        "chrome_options=webdriver.ChromeOptions()\n",
        "chrome_options.add_argument('--headless')\n",
        "chrome_options.add_argument('--no-sandbox')\n",
        "chrome_options.add_argument('--disable-dev-shm-usage')\n",
        "wd = webdriver.Chrome('chromedriver',options=chrome_options)"
      ],
      "execution_count": null,
      "outputs": []
    },
    {
      "cell_type": "code",
      "metadata": {
        "id": "fqdozQJsWfjb",
        "colab_type": "code",
        "colab": {}
      },
      "source": [
        "wd.get(\"https://comics.panini.it/store/pub_ita_it/magazines/cmc-m.html?dir=desc&order=pnn_data_uscita\")"
      ],
      "execution_count": null,
      "outputs": []
    },
    {
      "cell_type": "code",
      "metadata": {
        "id": "bTW-i9C_o8TL",
        "colab_type": "code",
        "colab": {}
      },
      "source": [
        "lista_marvel = []\n",
        "for i in range(91, 109):\n",
        "  try:\n",
        "    test = []\n",
        "    time.sleep(3)\n",
        "    chrome_options=webdriver.ChromeOptions()\n",
        "    chrome_options.add_argument('--headless')\n",
        "    chrome_options.add_argument('--no-sandbox')\n",
        "    chrome_options.add_argument('--disable-dev-shm-usage')\n",
        "    wd = webdriver.Chrome('chromedriver',options=chrome_options)\n",
        "    wd.get(f\"https://comics.panini.it/store/pub_ita_it/magazines/comics.html?dir=desc&order=pnn_data_uscita&p={i}\")\n",
        "    test = wd.find_elements_by_css_selector(\"div.col-md-9 > h3 > a\")\n",
        "    for y in range(len(test)):\n",
        "      lista_marvel.append(test[y].get_attribute(\"href\"))\n",
        "  except Exception as e:\n",
        "    continue\n",
        "    "
      ],
      "execution_count": null,
      "outputs": []
    },
    {
      "cell_type": "code",
      "metadata": {
        "id": "bGX76rGUqWEr",
        "colab_type": "code",
        "colab": {
          "base_uri": "https://localhost:8080/",
          "height": 34
        },
        "outputId": "7cff3031-4976-4cdf-8842-dffc6023e7d4"
      },
      "source": [
        "print(len(lista_marvel)) "
      ],
      "execution_count": null,
      "outputs": [
        {
          "output_type": "stream",
          "text": [
            "450\n"
          ],
          "name": "stdout"
        }
      ]
    },
    {
      "cell_type": "code",
      "metadata": {
        "id": "y3pFDRWSwink",
        "colab_type": "code",
        "colab": {
          "base_uri": "https://localhost:8080/",
          "height": 54
        },
        "outputId": "7209396d-f574-4745-ce5a-24d3bdfb9597"
      },
      "source": [
        "print(lista_marvel)"
      ],
      "execution_count": null,
      "outputs": [
        {
          "output_type": "stream",
          "text": [
            "['https://comics.panini.it/store/pub_ita_it/mmnom001isbn-it-midnight-nation-omnibus-midnight-nation-omnibus-n-1.html', 'https://comics.panini.it/store/pub_ita_it/mlegi001isbn-it-100-cc-je-suis-legion-100-cc-je-suis-legion.html', 'https://comics.panini.it/store/pub_ita_it/mtrat040-it-tutto-ratman-tutto-ratman-n-40.html', 'https://comics.panini.it/store/pub_ita_it/mtrat018isbnr-it-tutto-ratman-new-ristampa-tutto-ratman-n-18.html', 'https://comics.panini.it/store/pub_ita_it/mtrat019isbnr-it-tutto-ratman-new-ristampa-tutto-ratman-n-19.html', 'https://comics.panini.it/store/pub_ita_it/msaco007isbn-it-savage-sword-of-conan-savage-sword-of-conan-n-7.html', 'https://comics.panini.it/store/pub_ita_it/mmyst004isbn-it-xiii-mystery-xiii-mystery-n-4.html', 'https://comics.panini.it/store/pub_ita_it/mtrat039-it-tutto-ratman-tutto-ratman-n-39.html', 'https://comics.panini.it/store/pub_ita_it/msaco006isbn-it-savage-sword-of-conan-savage-sword-of-conan-n-6.html', 'https://comics.panini.it/store/pub_ita_it/mtred005isbn-it-100-cc-xiii-100-cc-xiii-n-5.html', 'https://comics.panini.it/store/pub_ita_it/mtrat038-it-tutto-ratman-tutto-ratman-n-38.html', 'https://comics.panini.it/store/pub_ita_it/mtrat037-it-tutto-ratman-tutto-ratman-n-37.html', 'https://comics.panini.it/store/pub_ita_it/mtrat016isbnr-it-tutto-ratman-new-ristampa-tutto-ratman-n-16.html', 'https://comics.panini.it/store/pub_ita_it/mtred004isbn-it-100-cc-xiii-100-cc-xiii-n-4.html', 'https://comics.panini.it/store/pub_ita_it/mtrat035-it-tutto-ratman-tutto-ratman-n-35-lib-ago-10.html', 'https://comics.panini.it/store/pub_ita_it/mmyst001isbn-it-xiii-mystery-xiii-mystery-vol-1-la-mangusta.html', 'https://comics.panini.it/store/pub_ita_it/mtrat022r-it-tutto-ratman-tutto-ratman-n-22-rist-nov-10.html', 'https://comics.panini.it/store/pub_ita_it/mtred002isbn-it-100-cc-xiii-xiii-vol-2-riedizione-set-10.html', 'https://comics.panini.it/store/pub_ita_it/mtrat036-it-tutto-ratman-tutto-ratman-n-36-lib-nov-10.html', 'https://comics.panini.it/store/pub_ita_it/mmyst002isbn-it-xiii-mystery-xiii-mystery-vol-2-irina.html', 'https://comics.panini.it/store/pub_ita_it/mtrat023r-it-tutto-ratman-tut-rat-man-n-23-1-ris-02-11.html', 'https://comics.panini.it/store/pub_ita_it/mtred003isbn-it-100-cc-xiii-xiii-vol-3-la-sentenza-dic-10.html', 'https://comics.panini.it/store/pub_ita_it/mtrat021r-it-tutto-ratman-tutto-ratman-n-21-rist-nov-10.html', 'https://comics.panini.it/store/pub_ita_it/mtrat032-it-tutto-ratman-tutto-ratman-n-32-lib-lug-09.html', 'https://comics.panini.it/store/pub_ita_it/mvasc001isbn-it-vasco-comics-vasco-comics-n-1-isbn-nov-08.html', 'https://comics.panini.it/store/pub_ita_it/mmnom001isbn-it-midnight-nation-omnibus-midnight-nation-omnibus-n-1.html', 'https://comics.panini.it/store/pub_ita_it/mlegi001isbn-it-100-cc-je-suis-legion-100-cc-je-suis-legion.html', 'https://comics.panini.it/store/pub_ita_it/mtrat040-it-tutto-ratman-tutto-ratman-n-40.html', 'https://comics.panini.it/store/pub_ita_it/mtrat018isbnr-it-tutto-ratman-new-ristampa-tutto-ratman-n-18.html', 'https://comics.panini.it/store/pub_ita_it/mtrat019isbnr-it-tutto-ratman-new-ristampa-tutto-ratman-n-19.html', 'https://comics.panini.it/store/pub_ita_it/msaco007isbn-it-savage-sword-of-conan-savage-sword-of-conan-n-7.html', 'https://comics.panini.it/store/pub_ita_it/mmyst004isbn-it-xiii-mystery-xiii-mystery-n-4.html', 'https://comics.panini.it/store/pub_ita_it/mtrat039-it-tutto-ratman-tutto-ratman-n-39.html', 'https://comics.panini.it/store/pub_ita_it/msaco006isbn-it-savage-sword-of-conan-savage-sword-of-conan-n-6.html', 'https://comics.panini.it/store/pub_ita_it/mtred005isbn-it-100-cc-xiii-100-cc-xiii-n-5.html', 'https://comics.panini.it/store/pub_ita_it/mtrat038-it-tutto-ratman-tutto-ratman-n-38.html', 'https://comics.panini.it/store/pub_ita_it/mtrat037-it-tutto-ratman-tutto-ratman-n-37.html', 'https://comics.panini.it/store/pub_ita_it/mtrat016isbnr-it-tutto-ratman-new-ristampa-tutto-ratman-n-16.html', 'https://comics.panini.it/store/pub_ita_it/mtred004isbn-it-100-cc-xiii-100-cc-xiii-n-4.html', 'https://comics.panini.it/store/pub_ita_it/mtrat035-it-tutto-ratman-tutto-ratman-n-35-lib-ago-10.html', 'https://comics.panini.it/store/pub_ita_it/mmyst001isbn-it-xiii-mystery-xiii-mystery-vol-1-la-mangusta.html', 'https://comics.panini.it/store/pub_ita_it/mtrat022r-it-tutto-ratman-tutto-ratman-n-22-rist-nov-10.html', 'https://comics.panini.it/store/pub_ita_it/mtred002isbn-it-100-cc-xiii-xiii-vol-2-riedizione-set-10.html', 'https://comics.panini.it/store/pub_ita_it/mtrat036-it-tutto-ratman-tutto-ratman-n-36-lib-nov-10.html', 'https://comics.panini.it/store/pub_ita_it/mmyst002isbn-it-xiii-mystery-xiii-mystery-vol-2-irina.html', 'https://comics.panini.it/store/pub_ita_it/mtrat023r-it-tutto-ratman-tut-rat-man-n-23-1-ris-02-11.html', 'https://comics.panini.it/store/pub_ita_it/mtred003isbn-it-100-cc-xiii-xiii-vol-3-la-sentenza-dic-10.html', 'https://comics.panini.it/store/pub_ita_it/mtrat021r-it-tutto-ratman-tutto-ratman-n-21-rist-nov-10.html', 'https://comics.panini.it/store/pub_ita_it/mtrat032-it-tutto-ratman-tutto-ratman-n-32-lib-lug-09.html', 'https://comics.panini.it/store/pub_ita_it/mvasc001isbn-it-vasco-comics-vasco-comics-n-1-isbn-nov-08.html', 'https://comics.panini.it/store/pub_ita_it/mmnom001isbn-it-midnight-nation-omnibus-midnight-nation-omnibus-n-1.html', 'https://comics.panini.it/store/pub_ita_it/mlegi001isbn-it-100-cc-je-suis-legion-100-cc-je-suis-legion.html', 'https://comics.panini.it/store/pub_ita_it/mtrat040-it-tutto-ratman-tutto-ratman-n-40.html', 'https://comics.panini.it/store/pub_ita_it/mtrat018isbnr-it-tutto-ratman-new-ristampa-tutto-ratman-n-18.html', 'https://comics.panini.it/store/pub_ita_it/mtrat019isbnr-it-tutto-ratman-new-ristampa-tutto-ratman-n-19.html', 'https://comics.panini.it/store/pub_ita_it/msaco007isbn-it-savage-sword-of-conan-savage-sword-of-conan-n-7.html', 'https://comics.panini.it/store/pub_ita_it/mmyst004isbn-it-xiii-mystery-xiii-mystery-n-4.html', 'https://comics.panini.it/store/pub_ita_it/mtrat039-it-tutto-ratman-tutto-ratman-n-39.html', 'https://comics.panini.it/store/pub_ita_it/msaco006isbn-it-savage-sword-of-conan-savage-sword-of-conan-n-6.html', 'https://comics.panini.it/store/pub_ita_it/mtred005isbn-it-100-cc-xiii-100-cc-xiii-n-5.html', 'https://comics.panini.it/store/pub_ita_it/mtrat038-it-tutto-ratman-tutto-ratman-n-38.html', 'https://comics.panini.it/store/pub_ita_it/mtrat037-it-tutto-ratman-tutto-ratman-n-37.html', 'https://comics.panini.it/store/pub_ita_it/mtrat016isbnr-it-tutto-ratman-new-ristampa-tutto-ratman-n-16.html', 'https://comics.panini.it/store/pub_ita_it/mtred004isbn-it-100-cc-xiii-100-cc-xiii-n-4.html', 'https://comics.panini.it/store/pub_ita_it/mtrat035-it-tutto-ratman-tutto-ratman-n-35-lib-ago-10.html', 'https://comics.panini.it/store/pub_ita_it/mmyst001isbn-it-xiii-mystery-xiii-mystery-vol-1-la-mangusta.html', 'https://comics.panini.it/store/pub_ita_it/mtrat022r-it-tutto-ratman-tutto-ratman-n-22-rist-nov-10.html', 'https://comics.panini.it/store/pub_ita_it/mtred002isbn-it-100-cc-xiii-xiii-vol-2-riedizione-set-10.html', 'https://comics.panini.it/store/pub_ita_it/mtrat036-it-tutto-ratman-tutto-ratman-n-36-lib-nov-10.html', 'https://comics.panini.it/store/pub_ita_it/mmyst002isbn-it-xiii-mystery-xiii-mystery-vol-2-irina.html', 'https://comics.panini.it/store/pub_ita_it/mtrat023r-it-tutto-ratman-tut-rat-man-n-23-1-ris-02-11.html', 'https://comics.panini.it/store/pub_ita_it/mtred003isbn-it-100-cc-xiii-xiii-vol-3-la-sentenza-dic-10.html', 'https://comics.panini.it/store/pub_ita_it/mtrat021r-it-tutto-ratman-tutto-ratman-n-21-rist-nov-10.html', 'https://comics.panini.it/store/pub_ita_it/mtrat032-it-tutto-ratman-tutto-ratman-n-32-lib-lug-09.html', 'https://comics.panini.it/store/pub_ita_it/mvasc001isbn-it-vasco-comics-vasco-comics-n-1-isbn-nov-08.html', 'https://comics.panini.it/store/pub_ita_it/mmnom001isbn-it-midnight-nation-omnibus-midnight-nation-omnibus-n-1.html', 'https://comics.panini.it/store/pub_ita_it/mlegi001isbn-it-100-cc-je-suis-legion-100-cc-je-suis-legion.html', 'https://comics.panini.it/store/pub_ita_it/mtrat040-it-tutto-ratman-tutto-ratman-n-40.html', 'https://comics.panini.it/store/pub_ita_it/mtrat018isbnr-it-tutto-ratman-new-ristampa-tutto-ratman-n-18.html', 'https://comics.panini.it/store/pub_ita_it/mtrat019isbnr-it-tutto-ratman-new-ristampa-tutto-ratman-n-19.html', 'https://comics.panini.it/store/pub_ita_it/msaco007isbn-it-savage-sword-of-conan-savage-sword-of-conan-n-7.html', 'https://comics.panini.it/store/pub_ita_it/mmyst004isbn-it-xiii-mystery-xiii-mystery-n-4.html', 'https://comics.panini.it/store/pub_ita_it/mtrat039-it-tutto-ratman-tutto-ratman-n-39.html', 'https://comics.panini.it/store/pub_ita_it/msaco006isbn-it-savage-sword-of-conan-savage-sword-of-conan-n-6.html', 'https://comics.panini.it/store/pub_ita_it/mtred005isbn-it-100-cc-xiii-100-cc-xiii-n-5.html', 'https://comics.panini.it/store/pub_ita_it/mtrat038-it-tutto-ratman-tutto-ratman-n-38.html', 'https://comics.panini.it/store/pub_ita_it/mtrat037-it-tutto-ratman-tutto-ratman-n-37.html', 'https://comics.panini.it/store/pub_ita_it/mtrat016isbnr-it-tutto-ratman-new-ristampa-tutto-ratman-n-16.html', 'https://comics.panini.it/store/pub_ita_it/mtred004isbn-it-100-cc-xiii-100-cc-xiii-n-4.html', 'https://comics.panini.it/store/pub_ita_it/mtrat035-it-tutto-ratman-tutto-ratman-n-35-lib-ago-10.html', 'https://comics.panini.it/store/pub_ita_it/mmyst001isbn-it-xiii-mystery-xiii-mystery-vol-1-la-mangusta.html', 'https://comics.panini.it/store/pub_ita_it/mtrat022r-it-tutto-ratman-tutto-ratman-n-22-rist-nov-10.html', 'https://comics.panini.it/store/pub_ita_it/mtred002isbn-it-100-cc-xiii-xiii-vol-2-riedizione-set-10.html', 'https://comics.panini.it/store/pub_ita_it/mtrat036-it-tutto-ratman-tutto-ratman-n-36-lib-nov-10.html', 'https://comics.panini.it/store/pub_ita_it/mmyst002isbn-it-xiii-mystery-xiii-mystery-vol-2-irina.html', 'https://comics.panini.it/store/pub_ita_it/mtrat023r-it-tutto-ratman-tut-rat-man-n-23-1-ris-02-11.html', 'https://comics.panini.it/store/pub_ita_it/mtred003isbn-it-100-cc-xiii-xiii-vol-3-la-sentenza-dic-10.html', 'https://comics.panini.it/store/pub_ita_it/mtrat021r-it-tutto-ratman-tutto-ratman-n-21-rist-nov-10.html', 'https://comics.panini.it/store/pub_ita_it/mtrat032-it-tutto-ratman-tutto-ratman-n-32-lib-lug-09.html', 'https://comics.panini.it/store/pub_ita_it/mvasc001isbn-it-vasco-comics-vasco-comics-n-1-isbn-nov-08.html', 'https://comics.panini.it/store/pub_ita_it/mmnom001isbn-it-midnight-nation-omnibus-midnight-nation-omnibus-n-1.html', 'https://comics.panini.it/store/pub_ita_it/mlegi001isbn-it-100-cc-je-suis-legion-100-cc-je-suis-legion.html', 'https://comics.panini.it/store/pub_ita_it/mtrat040-it-tutto-ratman-tutto-ratman-n-40.html', 'https://comics.panini.it/store/pub_ita_it/mtrat018isbnr-it-tutto-ratman-new-ristampa-tutto-ratman-n-18.html', 'https://comics.panini.it/store/pub_ita_it/mtrat019isbnr-it-tutto-ratman-new-ristampa-tutto-ratman-n-19.html', 'https://comics.panini.it/store/pub_ita_it/msaco007isbn-it-savage-sword-of-conan-savage-sword-of-conan-n-7.html', 'https://comics.panini.it/store/pub_ita_it/mmyst004isbn-it-xiii-mystery-xiii-mystery-n-4.html', 'https://comics.panini.it/store/pub_ita_it/mtrat039-it-tutto-ratman-tutto-ratman-n-39.html', 'https://comics.panini.it/store/pub_ita_it/msaco006isbn-it-savage-sword-of-conan-savage-sword-of-conan-n-6.html', 'https://comics.panini.it/store/pub_ita_it/mtred005isbn-it-100-cc-xiii-100-cc-xiii-n-5.html', 'https://comics.panini.it/store/pub_ita_it/mtrat038-it-tutto-ratman-tutto-ratman-n-38.html', 'https://comics.panini.it/store/pub_ita_it/mtrat037-it-tutto-ratman-tutto-ratman-n-37.html', 'https://comics.panini.it/store/pub_ita_it/mtrat016isbnr-it-tutto-ratman-new-ristampa-tutto-ratman-n-16.html', 'https://comics.panini.it/store/pub_ita_it/mtred004isbn-it-100-cc-xiii-100-cc-xiii-n-4.html', 'https://comics.panini.it/store/pub_ita_it/mtrat035-it-tutto-ratman-tutto-ratman-n-35-lib-ago-10.html', 'https://comics.panini.it/store/pub_ita_it/mmyst001isbn-it-xiii-mystery-xiii-mystery-vol-1-la-mangusta.html', 'https://comics.panini.it/store/pub_ita_it/mtrat022r-it-tutto-ratman-tutto-ratman-n-22-rist-nov-10.html', 'https://comics.panini.it/store/pub_ita_it/mtred002isbn-it-100-cc-xiii-xiii-vol-2-riedizione-set-10.html', 'https://comics.panini.it/store/pub_ita_it/mtrat036-it-tutto-ratman-tutto-ratman-n-36-lib-nov-10.html', 'https://comics.panini.it/store/pub_ita_it/mmyst002isbn-it-xiii-mystery-xiii-mystery-vol-2-irina.html', 'https://comics.panini.it/store/pub_ita_it/mtrat023r-it-tutto-ratman-tut-rat-man-n-23-1-ris-02-11.html', 'https://comics.panini.it/store/pub_ita_it/mtred003isbn-it-100-cc-xiii-xiii-vol-3-la-sentenza-dic-10.html', 'https://comics.panini.it/store/pub_ita_it/mtrat021r-it-tutto-ratman-tutto-ratman-n-21-rist-nov-10.html', 'https://comics.panini.it/store/pub_ita_it/mtrat032-it-tutto-ratman-tutto-ratman-n-32-lib-lug-09.html', 'https://comics.panini.it/store/pub_ita_it/mvasc001isbn-it-vasco-comics-vasco-comics-n-1-isbn-nov-08.html', 'https://comics.panini.it/store/pub_ita_it/mmnom001isbn-it-midnight-nation-omnibus-midnight-nation-omnibus-n-1.html', 'https://comics.panini.it/store/pub_ita_it/mlegi001isbn-it-100-cc-je-suis-legion-100-cc-je-suis-legion.html', 'https://comics.panini.it/store/pub_ita_it/mtrat040-it-tutto-ratman-tutto-ratman-n-40.html', 'https://comics.panini.it/store/pub_ita_it/mtrat018isbnr-it-tutto-ratman-new-ristampa-tutto-ratman-n-18.html', 'https://comics.panini.it/store/pub_ita_it/mtrat019isbnr-it-tutto-ratman-new-ristampa-tutto-ratman-n-19.html', 'https://comics.panini.it/store/pub_ita_it/msaco007isbn-it-savage-sword-of-conan-savage-sword-of-conan-n-7.html', 'https://comics.panini.it/store/pub_ita_it/mmyst004isbn-it-xiii-mystery-xiii-mystery-n-4.html', 'https://comics.panini.it/store/pub_ita_it/mtrat039-it-tutto-ratman-tutto-ratman-n-39.html', 'https://comics.panini.it/store/pub_ita_it/msaco006isbn-it-savage-sword-of-conan-savage-sword-of-conan-n-6.html', 'https://comics.panini.it/store/pub_ita_it/mtred005isbn-it-100-cc-xiii-100-cc-xiii-n-5.html', 'https://comics.panini.it/store/pub_ita_it/mtrat038-it-tutto-ratman-tutto-ratman-n-38.html', 'https://comics.panini.it/store/pub_ita_it/mtrat037-it-tutto-ratman-tutto-ratman-n-37.html', 'https://comics.panini.it/store/pub_ita_it/mtrat016isbnr-it-tutto-ratman-new-ristampa-tutto-ratman-n-16.html', 'https://comics.panini.it/store/pub_ita_it/mtred004isbn-it-100-cc-xiii-100-cc-xiii-n-4.html', 'https://comics.panini.it/store/pub_ita_it/mtrat035-it-tutto-ratman-tutto-ratman-n-35-lib-ago-10.html', 'https://comics.panini.it/store/pub_ita_it/mmyst001isbn-it-xiii-mystery-xiii-mystery-vol-1-la-mangusta.html', 'https://comics.panini.it/store/pub_ita_it/mtrat022r-it-tutto-ratman-tutto-ratman-n-22-rist-nov-10.html', 'https://comics.panini.it/store/pub_ita_it/mtred002isbn-it-100-cc-xiii-xiii-vol-2-riedizione-set-10.html', 'https://comics.panini.it/store/pub_ita_it/mtrat036-it-tutto-ratman-tutto-ratman-n-36-lib-nov-10.html', 'https://comics.panini.it/store/pub_ita_it/mmyst002isbn-it-xiii-mystery-xiii-mystery-vol-2-irina.html', 'https://comics.panini.it/store/pub_ita_it/mtrat023r-it-tutto-ratman-tut-rat-man-n-23-1-ris-02-11.html', 'https://comics.panini.it/store/pub_ita_it/mtred003isbn-it-100-cc-xiii-xiii-vol-3-la-sentenza-dic-10.html', 'https://comics.panini.it/store/pub_ita_it/mtrat021r-it-tutto-ratman-tutto-ratman-n-21-rist-nov-10.html', 'https://comics.panini.it/store/pub_ita_it/mtrat032-it-tutto-ratman-tutto-ratman-n-32-lib-lug-09.html', 'https://comics.panini.it/store/pub_ita_it/mvasc001isbn-it-vasco-comics-vasco-comics-n-1-isbn-nov-08.html', 'https://comics.panini.it/store/pub_ita_it/mmnom001isbn-it-midnight-nation-omnibus-midnight-nation-omnibus-n-1.html', 'https://comics.panini.it/store/pub_ita_it/mlegi001isbn-it-100-cc-je-suis-legion-100-cc-je-suis-legion.html', 'https://comics.panini.it/store/pub_ita_it/mtrat040-it-tutto-ratman-tutto-ratman-n-40.html', 'https://comics.panini.it/store/pub_ita_it/mtrat018isbnr-it-tutto-ratman-new-ristampa-tutto-ratman-n-18.html', 'https://comics.panini.it/store/pub_ita_it/mtrat019isbnr-it-tutto-ratman-new-ristampa-tutto-ratman-n-19.html', 'https://comics.panini.it/store/pub_ita_it/msaco007isbn-it-savage-sword-of-conan-savage-sword-of-conan-n-7.html', 'https://comics.panini.it/store/pub_ita_it/mmyst004isbn-it-xiii-mystery-xiii-mystery-n-4.html', 'https://comics.panini.it/store/pub_ita_it/mtrat039-it-tutto-ratman-tutto-ratman-n-39.html', 'https://comics.panini.it/store/pub_ita_it/msaco006isbn-it-savage-sword-of-conan-savage-sword-of-conan-n-6.html', 'https://comics.panini.it/store/pub_ita_it/mtred005isbn-it-100-cc-xiii-100-cc-xiii-n-5.html', 'https://comics.panini.it/store/pub_ita_it/mtrat038-it-tutto-ratman-tutto-ratman-n-38.html', 'https://comics.panini.it/store/pub_ita_it/mtrat037-it-tutto-ratman-tutto-ratman-n-37.html', 'https://comics.panini.it/store/pub_ita_it/mtrat016isbnr-it-tutto-ratman-new-ristampa-tutto-ratman-n-16.html', 'https://comics.panini.it/store/pub_ita_it/mtred004isbn-it-100-cc-xiii-100-cc-xiii-n-4.html', 'https://comics.panini.it/store/pub_ita_it/mtrat035-it-tutto-ratman-tutto-ratman-n-35-lib-ago-10.html', 'https://comics.panini.it/store/pub_ita_it/mmyst001isbn-it-xiii-mystery-xiii-mystery-vol-1-la-mangusta.html', 'https://comics.panini.it/store/pub_ita_it/mtrat022r-it-tutto-ratman-tutto-ratman-n-22-rist-nov-10.html', 'https://comics.panini.it/store/pub_ita_it/mtred002isbn-it-100-cc-xiii-xiii-vol-2-riedizione-set-10.html', 'https://comics.panini.it/store/pub_ita_it/mtrat036-it-tutto-ratman-tutto-ratman-n-36-lib-nov-10.html', 'https://comics.panini.it/store/pub_ita_it/mmyst002isbn-it-xiii-mystery-xiii-mystery-vol-2-irina.html', 'https://comics.panini.it/store/pub_ita_it/mtrat023r-it-tutto-ratman-tut-rat-man-n-23-1-ris-02-11.html', 'https://comics.panini.it/store/pub_ita_it/mtred003isbn-it-100-cc-xiii-xiii-vol-3-la-sentenza-dic-10.html', 'https://comics.panini.it/store/pub_ita_it/mtrat021r-it-tutto-ratman-tutto-ratman-n-21-rist-nov-10.html', 'https://comics.panini.it/store/pub_ita_it/mtrat032-it-tutto-ratman-tutto-ratman-n-32-lib-lug-09.html', 'https://comics.panini.it/store/pub_ita_it/mvasc001isbn-it-vasco-comics-vasco-comics-n-1-isbn-nov-08.html', 'https://comics.panini.it/store/pub_ita_it/mmnom001isbn-it-midnight-nation-omnibus-midnight-nation-omnibus-n-1.html', 'https://comics.panini.it/store/pub_ita_it/mlegi001isbn-it-100-cc-je-suis-legion-100-cc-je-suis-legion.html', 'https://comics.panini.it/store/pub_ita_it/mtrat040-it-tutto-ratman-tutto-ratman-n-40.html', 'https://comics.panini.it/store/pub_ita_it/mtrat018isbnr-it-tutto-ratman-new-ristampa-tutto-ratman-n-18.html', 'https://comics.panini.it/store/pub_ita_it/mtrat019isbnr-it-tutto-ratman-new-ristampa-tutto-ratman-n-19.html', 'https://comics.panini.it/store/pub_ita_it/msaco007isbn-it-savage-sword-of-conan-savage-sword-of-conan-n-7.html', 'https://comics.panini.it/store/pub_ita_it/mmyst004isbn-it-xiii-mystery-xiii-mystery-n-4.html', 'https://comics.panini.it/store/pub_ita_it/mtrat039-it-tutto-ratman-tutto-ratman-n-39.html', 'https://comics.panini.it/store/pub_ita_it/msaco006isbn-it-savage-sword-of-conan-savage-sword-of-conan-n-6.html', 'https://comics.panini.it/store/pub_ita_it/mtred005isbn-it-100-cc-xiii-100-cc-xiii-n-5.html', 'https://comics.panini.it/store/pub_ita_it/mtrat038-it-tutto-ratman-tutto-ratman-n-38.html', 'https://comics.panini.it/store/pub_ita_it/mtrat037-it-tutto-ratman-tutto-ratman-n-37.html', 'https://comics.panini.it/store/pub_ita_it/mtrat016isbnr-it-tutto-ratman-new-ristampa-tutto-ratman-n-16.html', 'https://comics.panini.it/store/pub_ita_it/mtred004isbn-it-100-cc-xiii-100-cc-xiii-n-4.html', 'https://comics.panini.it/store/pub_ita_it/mtrat035-it-tutto-ratman-tutto-ratman-n-35-lib-ago-10.html', 'https://comics.panini.it/store/pub_ita_it/mmyst001isbn-it-xiii-mystery-xiii-mystery-vol-1-la-mangusta.html', 'https://comics.panini.it/store/pub_ita_it/mtrat022r-it-tutto-ratman-tutto-ratman-n-22-rist-nov-10.html', 'https://comics.panini.it/store/pub_ita_it/mtred002isbn-it-100-cc-xiii-xiii-vol-2-riedizione-set-10.html', 'https://comics.panini.it/store/pub_ita_it/mtrat036-it-tutto-ratman-tutto-ratman-n-36-lib-nov-10.html', 'https://comics.panini.it/store/pub_ita_it/mmyst002isbn-it-xiii-mystery-xiii-mystery-vol-2-irina.html', 'https://comics.panini.it/store/pub_ita_it/mtrat023r-it-tutto-ratman-tut-rat-man-n-23-1-ris-02-11.html', 'https://comics.panini.it/store/pub_ita_it/mtred003isbn-it-100-cc-xiii-xiii-vol-3-la-sentenza-dic-10.html', 'https://comics.panini.it/store/pub_ita_it/mtrat021r-it-tutto-ratman-tutto-ratman-n-21-rist-nov-10.html', 'https://comics.panini.it/store/pub_ita_it/mtrat032-it-tutto-ratman-tutto-ratman-n-32-lib-lug-09.html', 'https://comics.panini.it/store/pub_ita_it/mvasc001isbn-it-vasco-comics-vasco-comics-n-1-isbn-nov-08.html', 'https://comics.panini.it/store/pub_ita_it/mmnom001isbn-it-midnight-nation-omnibus-midnight-nation-omnibus-n-1.html', 'https://comics.panini.it/store/pub_ita_it/mlegi001isbn-it-100-cc-je-suis-legion-100-cc-je-suis-legion.html', 'https://comics.panini.it/store/pub_ita_it/mtrat040-it-tutto-ratman-tutto-ratman-n-40.html', 'https://comics.panini.it/store/pub_ita_it/mtrat018isbnr-it-tutto-ratman-new-ristampa-tutto-ratman-n-18.html', 'https://comics.panini.it/store/pub_ita_it/mtrat019isbnr-it-tutto-ratman-new-ristampa-tutto-ratman-n-19.html', 'https://comics.panini.it/store/pub_ita_it/msaco007isbn-it-savage-sword-of-conan-savage-sword-of-conan-n-7.html', 'https://comics.panini.it/store/pub_ita_it/mmyst004isbn-it-xiii-mystery-xiii-mystery-n-4.html', 'https://comics.panini.it/store/pub_ita_it/mtrat039-it-tutto-ratman-tutto-ratman-n-39.html', 'https://comics.panini.it/store/pub_ita_it/msaco006isbn-it-savage-sword-of-conan-savage-sword-of-conan-n-6.html', 'https://comics.panini.it/store/pub_ita_it/mtred005isbn-it-100-cc-xiii-100-cc-xiii-n-5.html', 'https://comics.panini.it/store/pub_ita_it/mtrat038-it-tutto-ratman-tutto-ratman-n-38.html', 'https://comics.panini.it/store/pub_ita_it/mtrat037-it-tutto-ratman-tutto-ratman-n-37.html', 'https://comics.panini.it/store/pub_ita_it/mtrat016isbnr-it-tutto-ratman-new-ristampa-tutto-ratman-n-16.html', 'https://comics.panini.it/store/pub_ita_it/mtred004isbn-it-100-cc-xiii-100-cc-xiii-n-4.html', 'https://comics.panini.it/store/pub_ita_it/mtrat035-it-tutto-ratman-tutto-ratman-n-35-lib-ago-10.html', 'https://comics.panini.it/store/pub_ita_it/mmyst001isbn-it-xiii-mystery-xiii-mystery-vol-1-la-mangusta.html', 'https://comics.panini.it/store/pub_ita_it/mtrat022r-it-tutto-ratman-tutto-ratman-n-22-rist-nov-10.html', 'https://comics.panini.it/store/pub_ita_it/mtred002isbn-it-100-cc-xiii-xiii-vol-2-riedizione-set-10.html', 'https://comics.panini.it/store/pub_ita_it/mtrat036-it-tutto-ratman-tutto-ratman-n-36-lib-nov-10.html', 'https://comics.panini.it/store/pub_ita_it/mmyst002isbn-it-xiii-mystery-xiii-mystery-vol-2-irina.html', 'https://comics.panini.it/store/pub_ita_it/mtrat023r-it-tutto-ratman-tut-rat-man-n-23-1-ris-02-11.html', 'https://comics.panini.it/store/pub_ita_it/mtred003isbn-it-100-cc-xiii-xiii-vol-3-la-sentenza-dic-10.html', 'https://comics.panini.it/store/pub_ita_it/mtrat021r-it-tutto-ratman-tutto-ratman-n-21-rist-nov-10.html', 'https://comics.panini.it/store/pub_ita_it/mtrat032-it-tutto-ratman-tutto-ratman-n-32-lib-lug-09.html', 'https://comics.panini.it/store/pub_ita_it/mvasc001isbn-it-vasco-comics-vasco-comics-n-1-isbn-nov-08.html', 'https://comics.panini.it/store/pub_ita_it/mmnom001isbn-it-midnight-nation-omnibus-midnight-nation-omnibus-n-1.html', 'https://comics.panini.it/store/pub_ita_it/mlegi001isbn-it-100-cc-je-suis-legion-100-cc-je-suis-legion.html', 'https://comics.panini.it/store/pub_ita_it/mtrat040-it-tutto-ratman-tutto-ratman-n-40.html', 'https://comics.panini.it/store/pub_ita_it/mtrat018isbnr-it-tutto-ratman-new-ristampa-tutto-ratman-n-18.html', 'https://comics.panini.it/store/pub_ita_it/mtrat019isbnr-it-tutto-ratman-new-ristampa-tutto-ratman-n-19.html', 'https://comics.panini.it/store/pub_ita_it/msaco007isbn-it-savage-sword-of-conan-savage-sword-of-conan-n-7.html', 'https://comics.panini.it/store/pub_ita_it/mmyst004isbn-it-xiii-mystery-xiii-mystery-n-4.html', 'https://comics.panini.it/store/pub_ita_it/mtrat039-it-tutto-ratman-tutto-ratman-n-39.html', 'https://comics.panini.it/store/pub_ita_it/msaco006isbn-it-savage-sword-of-conan-savage-sword-of-conan-n-6.html', 'https://comics.panini.it/store/pub_ita_it/mtred005isbn-it-100-cc-xiii-100-cc-xiii-n-5.html', 'https://comics.panini.it/store/pub_ita_it/mtrat038-it-tutto-ratman-tutto-ratman-n-38.html', 'https://comics.panini.it/store/pub_ita_it/mtrat037-it-tutto-ratman-tutto-ratman-n-37.html', 'https://comics.panini.it/store/pub_ita_it/mtrat016isbnr-it-tutto-ratman-new-ristampa-tutto-ratman-n-16.html', 'https://comics.panini.it/store/pub_ita_it/mtred004isbn-it-100-cc-xiii-100-cc-xiii-n-4.html', 'https://comics.panini.it/store/pub_ita_it/mtrat035-it-tutto-ratman-tutto-ratman-n-35-lib-ago-10.html', 'https://comics.panini.it/store/pub_ita_it/mmyst001isbn-it-xiii-mystery-xiii-mystery-vol-1-la-mangusta.html', 'https://comics.panini.it/store/pub_ita_it/mtrat022r-it-tutto-ratman-tutto-ratman-n-22-rist-nov-10.html', 'https://comics.panini.it/store/pub_ita_it/mtred002isbn-it-100-cc-xiii-xiii-vol-2-riedizione-set-10.html', 'https://comics.panini.it/store/pub_ita_it/mtrat036-it-tutto-ratman-tutto-ratman-n-36-lib-nov-10.html', 'https://comics.panini.it/store/pub_ita_it/mmyst002isbn-it-xiii-mystery-xiii-mystery-vol-2-irina.html', 'https://comics.panini.it/store/pub_ita_it/mtrat023r-it-tutto-ratman-tut-rat-man-n-23-1-ris-02-11.html', 'https://comics.panini.it/store/pub_ita_it/mtred003isbn-it-100-cc-xiii-xiii-vol-3-la-sentenza-dic-10.html', 'https://comics.panini.it/store/pub_ita_it/mtrat021r-it-tutto-ratman-tutto-ratman-n-21-rist-nov-10.html', 'https://comics.panini.it/store/pub_ita_it/mtrat032-it-tutto-ratman-tutto-ratman-n-32-lib-lug-09.html', 'https://comics.panini.it/store/pub_ita_it/mvasc001isbn-it-vasco-comics-vasco-comics-n-1-isbn-nov-08.html', 'https://comics.panini.it/store/pub_ita_it/mmnom001isbn-it-midnight-nation-omnibus-midnight-nation-omnibus-n-1.html', 'https://comics.panini.it/store/pub_ita_it/mlegi001isbn-it-100-cc-je-suis-legion-100-cc-je-suis-legion.html', 'https://comics.panini.it/store/pub_ita_it/mtrat040-it-tutto-ratman-tutto-ratman-n-40.html', 'https://comics.panini.it/store/pub_ita_it/mtrat018isbnr-it-tutto-ratman-new-ristampa-tutto-ratman-n-18.html', 'https://comics.panini.it/store/pub_ita_it/mtrat019isbnr-it-tutto-ratman-new-ristampa-tutto-ratman-n-19.html', 'https://comics.panini.it/store/pub_ita_it/msaco007isbn-it-savage-sword-of-conan-savage-sword-of-conan-n-7.html', 'https://comics.panini.it/store/pub_ita_it/mmyst004isbn-it-xiii-mystery-xiii-mystery-n-4.html', 'https://comics.panini.it/store/pub_ita_it/mtrat039-it-tutto-ratman-tutto-ratman-n-39.html', 'https://comics.panini.it/store/pub_ita_it/msaco006isbn-it-savage-sword-of-conan-savage-sword-of-conan-n-6.html', 'https://comics.panini.it/store/pub_ita_it/mtred005isbn-it-100-cc-xiii-100-cc-xiii-n-5.html', 'https://comics.panini.it/store/pub_ita_it/mtrat038-it-tutto-ratman-tutto-ratman-n-38.html', 'https://comics.panini.it/store/pub_ita_it/mtrat037-it-tutto-ratman-tutto-ratman-n-37.html', 'https://comics.panini.it/store/pub_ita_it/mtrat016isbnr-it-tutto-ratman-new-ristampa-tutto-ratman-n-16.html', 'https://comics.panini.it/store/pub_ita_it/mtred004isbn-it-100-cc-xiii-100-cc-xiii-n-4.html', 'https://comics.panini.it/store/pub_ita_it/mtrat035-it-tutto-ratman-tutto-ratman-n-35-lib-ago-10.html', 'https://comics.panini.it/store/pub_ita_it/mmyst001isbn-it-xiii-mystery-xiii-mystery-vol-1-la-mangusta.html', 'https://comics.panini.it/store/pub_ita_it/mtrat022r-it-tutto-ratman-tutto-ratman-n-22-rist-nov-10.html', 'https://comics.panini.it/store/pub_ita_it/mtred002isbn-it-100-cc-xiii-xiii-vol-2-riedizione-set-10.html', 'https://comics.panini.it/store/pub_ita_it/mtrat036-it-tutto-ratman-tutto-ratman-n-36-lib-nov-10.html', 'https://comics.panini.it/store/pub_ita_it/mmyst002isbn-it-xiii-mystery-xiii-mystery-vol-2-irina.html', 'https://comics.panini.it/store/pub_ita_it/mtrat023r-it-tutto-ratman-tut-rat-man-n-23-1-ris-02-11.html', 'https://comics.panini.it/store/pub_ita_it/mtred003isbn-it-100-cc-xiii-xiii-vol-3-la-sentenza-dic-10.html', 'https://comics.panini.it/store/pub_ita_it/mtrat021r-it-tutto-ratman-tutto-ratman-n-21-rist-nov-10.html', 'https://comics.panini.it/store/pub_ita_it/mtrat032-it-tutto-ratman-tutto-ratman-n-32-lib-lug-09.html', 'https://comics.panini.it/store/pub_ita_it/mvasc001isbn-it-vasco-comics-vasco-comics-n-1-isbn-nov-08.html', 'https://comics.panini.it/store/pub_ita_it/mmnom001isbn-it-midnight-nation-omnibus-midnight-nation-omnibus-n-1.html', 'https://comics.panini.it/store/pub_ita_it/mlegi001isbn-it-100-cc-je-suis-legion-100-cc-je-suis-legion.html', 'https://comics.panini.it/store/pub_ita_it/mtrat040-it-tutto-ratman-tutto-ratman-n-40.html', 'https://comics.panini.it/store/pub_ita_it/mtrat018isbnr-it-tutto-ratman-new-ristampa-tutto-ratman-n-18.html', 'https://comics.panini.it/store/pub_ita_it/mtrat019isbnr-it-tutto-ratman-new-ristampa-tutto-ratman-n-19.html', 'https://comics.panini.it/store/pub_ita_it/msaco007isbn-it-savage-sword-of-conan-savage-sword-of-conan-n-7.html', 'https://comics.panini.it/store/pub_ita_it/mmyst004isbn-it-xiii-mystery-xiii-mystery-n-4.html', 'https://comics.panini.it/store/pub_ita_it/mtrat039-it-tutto-ratman-tutto-ratman-n-39.html', 'https://comics.panini.it/store/pub_ita_it/msaco006isbn-it-savage-sword-of-conan-savage-sword-of-conan-n-6.html', 'https://comics.panini.it/store/pub_ita_it/mtred005isbn-it-100-cc-xiii-100-cc-xiii-n-5.html', 'https://comics.panini.it/store/pub_ita_it/mtrat038-it-tutto-ratman-tutto-ratman-n-38.html', 'https://comics.panini.it/store/pub_ita_it/mtrat037-it-tutto-ratman-tutto-ratman-n-37.html', 'https://comics.panini.it/store/pub_ita_it/mtrat016isbnr-it-tutto-ratman-new-ristampa-tutto-ratman-n-16.html', 'https://comics.panini.it/store/pub_ita_it/mtred004isbn-it-100-cc-xiii-100-cc-xiii-n-4.html', 'https://comics.panini.it/store/pub_ita_it/mtrat035-it-tutto-ratman-tutto-ratman-n-35-lib-ago-10.html', 'https://comics.panini.it/store/pub_ita_it/mmyst001isbn-it-xiii-mystery-xiii-mystery-vol-1-la-mangusta.html', 'https://comics.panini.it/store/pub_ita_it/mtrat022r-it-tutto-ratman-tutto-ratman-n-22-rist-nov-10.html', 'https://comics.panini.it/store/pub_ita_it/mtred002isbn-it-100-cc-xiii-xiii-vol-2-riedizione-set-10.html', 'https://comics.panini.it/store/pub_ita_it/mtrat036-it-tutto-ratman-tutto-ratman-n-36-lib-nov-10.html', 'https://comics.panini.it/store/pub_ita_it/mmyst002isbn-it-xiii-mystery-xiii-mystery-vol-2-irina.html', 'https://comics.panini.it/store/pub_ita_it/mtrat023r-it-tutto-ratman-tut-rat-man-n-23-1-ris-02-11.html', 'https://comics.panini.it/store/pub_ita_it/mtred003isbn-it-100-cc-xiii-xiii-vol-3-la-sentenza-dic-10.html', 'https://comics.panini.it/store/pub_ita_it/mtrat021r-it-tutto-ratman-tutto-ratman-n-21-rist-nov-10.html', 'https://comics.panini.it/store/pub_ita_it/mtrat032-it-tutto-ratman-tutto-ratman-n-32-lib-lug-09.html', 'https://comics.panini.it/store/pub_ita_it/mvasc001isbn-it-vasco-comics-vasco-comics-n-1-isbn-nov-08.html', 'https://comics.panini.it/store/pub_ita_it/mmnom001isbn-it-midnight-nation-omnibus-midnight-nation-omnibus-n-1.html', 'https://comics.panini.it/store/pub_ita_it/mlegi001isbn-it-100-cc-je-suis-legion-100-cc-je-suis-legion.html', 'https://comics.panini.it/store/pub_ita_it/mtrat040-it-tutto-ratman-tutto-ratman-n-40.html', 'https://comics.panini.it/store/pub_ita_it/mtrat018isbnr-it-tutto-ratman-new-ristampa-tutto-ratman-n-18.html', 'https://comics.panini.it/store/pub_ita_it/mtrat019isbnr-it-tutto-ratman-new-ristampa-tutto-ratman-n-19.html', 'https://comics.panini.it/store/pub_ita_it/msaco007isbn-it-savage-sword-of-conan-savage-sword-of-conan-n-7.html', 'https://comics.panini.it/store/pub_ita_it/mmyst004isbn-it-xiii-mystery-xiii-mystery-n-4.html', 'https://comics.panini.it/store/pub_ita_it/mtrat039-it-tutto-ratman-tutto-ratman-n-39.html', 'https://comics.panini.it/store/pub_ita_it/msaco006isbn-it-savage-sword-of-conan-savage-sword-of-conan-n-6.html', 'https://comics.panini.it/store/pub_ita_it/mtred005isbn-it-100-cc-xiii-100-cc-xiii-n-5.html', 'https://comics.panini.it/store/pub_ita_it/mtrat038-it-tutto-ratman-tutto-ratman-n-38.html', 'https://comics.panini.it/store/pub_ita_it/mtrat037-it-tutto-ratman-tutto-ratman-n-37.html', 'https://comics.panini.it/store/pub_ita_it/mtrat016isbnr-it-tutto-ratman-new-ristampa-tutto-ratman-n-16.html', 'https://comics.panini.it/store/pub_ita_it/mtred004isbn-it-100-cc-xiii-100-cc-xiii-n-4.html', 'https://comics.panini.it/store/pub_ita_it/mtrat035-it-tutto-ratman-tutto-ratman-n-35-lib-ago-10.html', 'https://comics.panini.it/store/pub_ita_it/mmyst001isbn-it-xiii-mystery-xiii-mystery-vol-1-la-mangusta.html', 'https://comics.panini.it/store/pub_ita_it/mtrat022r-it-tutto-ratman-tutto-ratman-n-22-rist-nov-10.html', 'https://comics.panini.it/store/pub_ita_it/mtred002isbn-it-100-cc-xiii-xiii-vol-2-riedizione-set-10.html', 'https://comics.panini.it/store/pub_ita_it/mtrat036-it-tutto-ratman-tutto-ratman-n-36-lib-nov-10.html', 'https://comics.panini.it/store/pub_ita_it/mmyst002isbn-it-xiii-mystery-xiii-mystery-vol-2-irina.html', 'https://comics.panini.it/store/pub_ita_it/mtrat023r-it-tutto-ratman-tut-rat-man-n-23-1-ris-02-11.html', 'https://comics.panini.it/store/pub_ita_it/mtred003isbn-it-100-cc-xiii-xiii-vol-3-la-sentenza-dic-10.html', 'https://comics.panini.it/store/pub_ita_it/mtrat021r-it-tutto-ratman-tutto-ratman-n-21-rist-nov-10.html', 'https://comics.panini.it/store/pub_ita_it/mtrat032-it-tutto-ratman-tutto-ratman-n-32-lib-lug-09.html', 'https://comics.panini.it/store/pub_ita_it/mvasc001isbn-it-vasco-comics-vasco-comics-n-1-isbn-nov-08.html', 'https://comics.panini.it/store/pub_ita_it/mmnom001isbn-it-midnight-nation-omnibus-midnight-nation-omnibus-n-1.html', 'https://comics.panini.it/store/pub_ita_it/mlegi001isbn-it-100-cc-je-suis-legion-100-cc-je-suis-legion.html', 'https://comics.panini.it/store/pub_ita_it/mtrat040-it-tutto-ratman-tutto-ratman-n-40.html', 'https://comics.panini.it/store/pub_ita_it/mtrat018isbnr-it-tutto-ratman-new-ristampa-tutto-ratman-n-18.html', 'https://comics.panini.it/store/pub_ita_it/mtrat019isbnr-it-tutto-ratman-new-ristampa-tutto-ratman-n-19.html', 'https://comics.panini.it/store/pub_ita_it/msaco007isbn-it-savage-sword-of-conan-savage-sword-of-conan-n-7.html', 'https://comics.panini.it/store/pub_ita_it/mmyst004isbn-it-xiii-mystery-xiii-mystery-n-4.html', 'https://comics.panini.it/store/pub_ita_it/mtrat039-it-tutto-ratman-tutto-ratman-n-39.html', 'https://comics.panini.it/store/pub_ita_it/msaco006isbn-it-savage-sword-of-conan-savage-sword-of-conan-n-6.html', 'https://comics.panini.it/store/pub_ita_it/mtred005isbn-it-100-cc-xiii-100-cc-xiii-n-5.html', 'https://comics.panini.it/store/pub_ita_it/mtrat038-it-tutto-ratman-tutto-ratman-n-38.html', 'https://comics.panini.it/store/pub_ita_it/mtrat037-it-tutto-ratman-tutto-ratman-n-37.html', 'https://comics.panini.it/store/pub_ita_it/mtrat016isbnr-it-tutto-ratman-new-ristampa-tutto-ratman-n-16.html', 'https://comics.panini.it/store/pub_ita_it/mtred004isbn-it-100-cc-xiii-100-cc-xiii-n-4.html', 'https://comics.panini.it/store/pub_ita_it/mtrat035-it-tutto-ratman-tutto-ratman-n-35-lib-ago-10.html', 'https://comics.panini.it/store/pub_ita_it/mmyst001isbn-it-xiii-mystery-xiii-mystery-vol-1-la-mangusta.html', 'https://comics.panini.it/store/pub_ita_it/mtrat022r-it-tutto-ratman-tutto-ratman-n-22-rist-nov-10.html', 'https://comics.panini.it/store/pub_ita_it/mtred002isbn-it-100-cc-xiii-xiii-vol-2-riedizione-set-10.html', 'https://comics.panini.it/store/pub_ita_it/mtrat036-it-tutto-ratman-tutto-ratman-n-36-lib-nov-10.html', 'https://comics.panini.it/store/pub_ita_it/mmyst002isbn-it-xiii-mystery-xiii-mystery-vol-2-irina.html', 'https://comics.panini.it/store/pub_ita_it/mtrat023r-it-tutto-ratman-tut-rat-man-n-23-1-ris-02-11.html', 'https://comics.panini.it/store/pub_ita_it/mtred003isbn-it-100-cc-xiii-xiii-vol-3-la-sentenza-dic-10.html', 'https://comics.panini.it/store/pub_ita_it/mtrat021r-it-tutto-ratman-tutto-ratman-n-21-rist-nov-10.html', 'https://comics.panini.it/store/pub_ita_it/mtrat032-it-tutto-ratman-tutto-ratman-n-32-lib-lug-09.html', 'https://comics.panini.it/store/pub_ita_it/mvasc001isbn-it-vasco-comics-vasco-comics-n-1-isbn-nov-08.html', 'https://comics.panini.it/store/pub_ita_it/mmnom001isbn-it-midnight-nation-omnibus-midnight-nation-omnibus-n-1.html', 'https://comics.panini.it/store/pub_ita_it/mlegi001isbn-it-100-cc-je-suis-legion-100-cc-je-suis-legion.html', 'https://comics.panini.it/store/pub_ita_it/mtrat040-it-tutto-ratman-tutto-ratman-n-40.html', 'https://comics.panini.it/store/pub_ita_it/mtrat018isbnr-it-tutto-ratman-new-ristampa-tutto-ratman-n-18.html', 'https://comics.panini.it/store/pub_ita_it/mtrat019isbnr-it-tutto-ratman-new-ristampa-tutto-ratman-n-19.html', 'https://comics.panini.it/store/pub_ita_it/msaco007isbn-it-savage-sword-of-conan-savage-sword-of-conan-n-7.html', 'https://comics.panini.it/store/pub_ita_it/mmyst004isbn-it-xiii-mystery-xiii-mystery-n-4.html', 'https://comics.panini.it/store/pub_ita_it/mtrat039-it-tutto-ratman-tutto-ratman-n-39.html', 'https://comics.panini.it/store/pub_ita_it/msaco006isbn-it-savage-sword-of-conan-savage-sword-of-conan-n-6.html', 'https://comics.panini.it/store/pub_ita_it/mtred005isbn-it-100-cc-xiii-100-cc-xiii-n-5.html', 'https://comics.panini.it/store/pub_ita_it/mtrat038-it-tutto-ratman-tutto-ratman-n-38.html', 'https://comics.panini.it/store/pub_ita_it/mtrat037-it-tutto-ratman-tutto-ratman-n-37.html', 'https://comics.panini.it/store/pub_ita_it/mtrat016isbnr-it-tutto-ratman-new-ristampa-tutto-ratman-n-16.html', 'https://comics.panini.it/store/pub_ita_it/mtred004isbn-it-100-cc-xiii-100-cc-xiii-n-4.html', 'https://comics.panini.it/store/pub_ita_it/mtrat035-it-tutto-ratman-tutto-ratman-n-35-lib-ago-10.html', 'https://comics.panini.it/store/pub_ita_it/mmyst001isbn-it-xiii-mystery-xiii-mystery-vol-1-la-mangusta.html', 'https://comics.panini.it/store/pub_ita_it/mtrat022r-it-tutto-ratman-tutto-ratman-n-22-rist-nov-10.html', 'https://comics.panini.it/store/pub_ita_it/mtred002isbn-it-100-cc-xiii-xiii-vol-2-riedizione-set-10.html', 'https://comics.panini.it/store/pub_ita_it/mtrat036-it-tutto-ratman-tutto-ratman-n-36-lib-nov-10.html', 'https://comics.panini.it/store/pub_ita_it/mmyst002isbn-it-xiii-mystery-xiii-mystery-vol-2-irina.html', 'https://comics.panini.it/store/pub_ita_it/mtrat023r-it-tutto-ratman-tut-rat-man-n-23-1-ris-02-11.html', 'https://comics.panini.it/store/pub_ita_it/mtred003isbn-it-100-cc-xiii-xiii-vol-3-la-sentenza-dic-10.html', 'https://comics.panini.it/store/pub_ita_it/mtrat021r-it-tutto-ratman-tutto-ratman-n-21-rist-nov-10.html', 'https://comics.panini.it/store/pub_ita_it/mtrat032-it-tutto-ratman-tutto-ratman-n-32-lib-lug-09.html', 'https://comics.panini.it/store/pub_ita_it/mvasc001isbn-it-vasco-comics-vasco-comics-n-1-isbn-nov-08.html', 'https://comics.panini.it/store/pub_ita_it/mmnom001isbn-it-midnight-nation-omnibus-midnight-nation-omnibus-n-1.html', 'https://comics.panini.it/store/pub_ita_it/mlegi001isbn-it-100-cc-je-suis-legion-100-cc-je-suis-legion.html', 'https://comics.panini.it/store/pub_ita_it/mtrat040-it-tutto-ratman-tutto-ratman-n-40.html', 'https://comics.panini.it/store/pub_ita_it/mtrat018isbnr-it-tutto-ratman-new-ristampa-tutto-ratman-n-18.html', 'https://comics.panini.it/store/pub_ita_it/mtrat019isbnr-it-tutto-ratman-new-ristampa-tutto-ratman-n-19.html', 'https://comics.panini.it/store/pub_ita_it/msaco007isbn-it-savage-sword-of-conan-savage-sword-of-conan-n-7.html', 'https://comics.panini.it/store/pub_ita_it/mmyst004isbn-it-xiii-mystery-xiii-mystery-n-4.html', 'https://comics.panini.it/store/pub_ita_it/mtrat039-it-tutto-ratman-tutto-ratman-n-39.html', 'https://comics.panini.it/store/pub_ita_it/msaco006isbn-it-savage-sword-of-conan-savage-sword-of-conan-n-6.html', 'https://comics.panini.it/store/pub_ita_it/mtred005isbn-it-100-cc-xiii-100-cc-xiii-n-5.html', 'https://comics.panini.it/store/pub_ita_it/mtrat038-it-tutto-ratman-tutto-ratman-n-38.html', 'https://comics.panini.it/store/pub_ita_it/mtrat037-it-tutto-ratman-tutto-ratman-n-37.html', 'https://comics.panini.it/store/pub_ita_it/mtrat016isbnr-it-tutto-ratman-new-ristampa-tutto-ratman-n-16.html', 'https://comics.panini.it/store/pub_ita_it/mtred004isbn-it-100-cc-xiii-100-cc-xiii-n-4.html', 'https://comics.panini.it/store/pub_ita_it/mtrat035-it-tutto-ratman-tutto-ratman-n-35-lib-ago-10.html', 'https://comics.panini.it/store/pub_ita_it/mmyst001isbn-it-xiii-mystery-xiii-mystery-vol-1-la-mangusta.html', 'https://comics.panini.it/store/pub_ita_it/mtrat022r-it-tutto-ratman-tutto-ratman-n-22-rist-nov-10.html', 'https://comics.panini.it/store/pub_ita_it/mtred002isbn-it-100-cc-xiii-xiii-vol-2-riedizione-set-10.html', 'https://comics.panini.it/store/pub_ita_it/mtrat036-it-tutto-ratman-tutto-ratman-n-36-lib-nov-10.html', 'https://comics.panini.it/store/pub_ita_it/mmyst002isbn-it-xiii-mystery-xiii-mystery-vol-2-irina.html', 'https://comics.panini.it/store/pub_ita_it/mtrat023r-it-tutto-ratman-tut-rat-man-n-23-1-ris-02-11.html', 'https://comics.panini.it/store/pub_ita_it/mtred003isbn-it-100-cc-xiii-xiii-vol-3-la-sentenza-dic-10.html', 'https://comics.panini.it/store/pub_ita_it/mtrat021r-it-tutto-ratman-tutto-ratman-n-21-rist-nov-10.html', 'https://comics.panini.it/store/pub_ita_it/mtrat032-it-tutto-ratman-tutto-ratman-n-32-lib-lug-09.html', 'https://comics.panini.it/store/pub_ita_it/mvasc001isbn-it-vasco-comics-vasco-comics-n-1-isbn-nov-08.html', 'https://comics.panini.it/store/pub_ita_it/mmnom001isbn-it-midnight-nation-omnibus-midnight-nation-omnibus-n-1.html', 'https://comics.panini.it/store/pub_ita_it/mlegi001isbn-it-100-cc-je-suis-legion-100-cc-je-suis-legion.html', 'https://comics.panini.it/store/pub_ita_it/mtrat040-it-tutto-ratman-tutto-ratman-n-40.html', 'https://comics.panini.it/store/pub_ita_it/mtrat018isbnr-it-tutto-ratman-new-ristampa-tutto-ratman-n-18.html', 'https://comics.panini.it/store/pub_ita_it/mtrat019isbnr-it-tutto-ratman-new-ristampa-tutto-ratman-n-19.html', 'https://comics.panini.it/store/pub_ita_it/msaco007isbn-it-savage-sword-of-conan-savage-sword-of-conan-n-7.html', 'https://comics.panini.it/store/pub_ita_it/mmyst004isbn-it-xiii-mystery-xiii-mystery-n-4.html', 'https://comics.panini.it/store/pub_ita_it/mtrat039-it-tutto-ratman-tutto-ratman-n-39.html', 'https://comics.panini.it/store/pub_ita_it/msaco006isbn-it-savage-sword-of-conan-savage-sword-of-conan-n-6.html', 'https://comics.panini.it/store/pub_ita_it/mtred005isbn-it-100-cc-xiii-100-cc-xiii-n-5.html', 'https://comics.panini.it/store/pub_ita_it/mtrat038-it-tutto-ratman-tutto-ratman-n-38.html', 'https://comics.panini.it/store/pub_ita_it/mtrat037-it-tutto-ratman-tutto-ratman-n-37.html', 'https://comics.panini.it/store/pub_ita_it/mtrat016isbnr-it-tutto-ratman-new-ristampa-tutto-ratman-n-16.html', 'https://comics.panini.it/store/pub_ita_it/mtred004isbn-it-100-cc-xiii-100-cc-xiii-n-4.html', 'https://comics.panini.it/store/pub_ita_it/mtrat035-it-tutto-ratman-tutto-ratman-n-35-lib-ago-10.html', 'https://comics.panini.it/store/pub_ita_it/mmyst001isbn-it-xiii-mystery-xiii-mystery-vol-1-la-mangusta.html', 'https://comics.panini.it/store/pub_ita_it/mtrat022r-it-tutto-ratman-tutto-ratman-n-22-rist-nov-10.html', 'https://comics.panini.it/store/pub_ita_it/mtred002isbn-it-100-cc-xiii-xiii-vol-2-riedizione-set-10.html', 'https://comics.panini.it/store/pub_ita_it/mtrat036-it-tutto-ratman-tutto-ratman-n-36-lib-nov-10.html', 'https://comics.panini.it/store/pub_ita_it/mmyst002isbn-it-xiii-mystery-xiii-mystery-vol-2-irina.html', 'https://comics.panini.it/store/pub_ita_it/mtrat023r-it-tutto-ratman-tut-rat-man-n-23-1-ris-02-11.html', 'https://comics.panini.it/store/pub_ita_it/mtred003isbn-it-100-cc-xiii-xiii-vol-3-la-sentenza-dic-10.html', 'https://comics.panini.it/store/pub_ita_it/mtrat021r-it-tutto-ratman-tutto-ratman-n-21-rist-nov-10.html', 'https://comics.panini.it/store/pub_ita_it/mtrat032-it-tutto-ratman-tutto-ratman-n-32-lib-lug-09.html', 'https://comics.panini.it/store/pub_ita_it/mvasc001isbn-it-vasco-comics-vasco-comics-n-1-isbn-nov-08.html', 'https://comics.panini.it/store/pub_ita_it/mmnom001isbn-it-midnight-nation-omnibus-midnight-nation-omnibus-n-1.html', 'https://comics.panini.it/store/pub_ita_it/mlegi001isbn-it-100-cc-je-suis-legion-100-cc-je-suis-legion.html', 'https://comics.panini.it/store/pub_ita_it/mtrat040-it-tutto-ratman-tutto-ratman-n-40.html', 'https://comics.panini.it/store/pub_ita_it/mtrat018isbnr-it-tutto-ratman-new-ristampa-tutto-ratman-n-18.html', 'https://comics.panini.it/store/pub_ita_it/mtrat019isbnr-it-tutto-ratman-new-ristampa-tutto-ratman-n-19.html', 'https://comics.panini.it/store/pub_ita_it/msaco007isbn-it-savage-sword-of-conan-savage-sword-of-conan-n-7.html', 'https://comics.panini.it/store/pub_ita_it/mmyst004isbn-it-xiii-mystery-xiii-mystery-n-4.html', 'https://comics.panini.it/store/pub_ita_it/mtrat039-it-tutto-ratman-tutto-ratman-n-39.html', 'https://comics.panini.it/store/pub_ita_it/msaco006isbn-it-savage-sword-of-conan-savage-sword-of-conan-n-6.html', 'https://comics.panini.it/store/pub_ita_it/mtred005isbn-it-100-cc-xiii-100-cc-xiii-n-5.html', 'https://comics.panini.it/store/pub_ita_it/mtrat038-it-tutto-ratman-tutto-ratman-n-38.html', 'https://comics.panini.it/store/pub_ita_it/mtrat037-it-tutto-ratman-tutto-ratman-n-37.html', 'https://comics.panini.it/store/pub_ita_it/mtrat016isbnr-it-tutto-ratman-new-ristampa-tutto-ratman-n-16.html', 'https://comics.panini.it/store/pub_ita_it/mtred004isbn-it-100-cc-xiii-100-cc-xiii-n-4.html', 'https://comics.panini.it/store/pub_ita_it/mtrat035-it-tutto-ratman-tutto-ratman-n-35-lib-ago-10.html', 'https://comics.panini.it/store/pub_ita_it/mmyst001isbn-it-xiii-mystery-xiii-mystery-vol-1-la-mangusta.html', 'https://comics.panini.it/store/pub_ita_it/mtrat022r-it-tutto-ratman-tutto-ratman-n-22-rist-nov-10.html', 'https://comics.panini.it/store/pub_ita_it/mtred002isbn-it-100-cc-xiii-xiii-vol-2-riedizione-set-10.html', 'https://comics.panini.it/store/pub_ita_it/mtrat036-it-tutto-ratman-tutto-ratman-n-36-lib-nov-10.html', 'https://comics.panini.it/store/pub_ita_it/mmyst002isbn-it-xiii-mystery-xiii-mystery-vol-2-irina.html', 'https://comics.panini.it/store/pub_ita_it/mtrat023r-it-tutto-ratman-tut-rat-man-n-23-1-ris-02-11.html', 'https://comics.panini.it/store/pub_ita_it/mtred003isbn-it-100-cc-xiii-xiii-vol-3-la-sentenza-dic-10.html', 'https://comics.panini.it/store/pub_ita_it/mtrat021r-it-tutto-ratman-tutto-ratman-n-21-rist-nov-10.html', 'https://comics.panini.it/store/pub_ita_it/mtrat032-it-tutto-ratman-tutto-ratman-n-32-lib-lug-09.html', 'https://comics.panini.it/store/pub_ita_it/mvasc001isbn-it-vasco-comics-vasco-comics-n-1-isbn-nov-08.html']\n"
          ],
          "name": "stdout"
        }
      ]
    },
    {
      "cell_type": "code",
      "metadata": {
        "id": "det1ophS_dZJ",
        "colab_type": "code",
        "colab": {}
      },
      "source": [
        "import tqdm"
      ],
      "execution_count": null,
      "outputs": []
    },
    {
      "cell_type": "code",
      "metadata": {
        "id": "twheyvYGItMG",
        "colab_type": "code",
        "colab": {}
      },
      "source": [
        "dettaglio_fumetto = []\n",
        "\n",
        "for fumetto in lista_marvel:\n",
        "  try:\n",
        "    time.sleep(2)\n",
        "    chrome_options=webdriver.ChromeOptions()\n",
        "    chrome_options.add_argument('--headless')\n",
        "    chrome_options.add_argument('--no-sandbox')\n",
        "    chrome_options.add_argument('--disable-dev-shm-usage')\n",
        "    wd = webdriver.Chrome('chromedriver',options=chrome_options)\n",
        "    wd.get(fumetto)\n",
        "    test = (wd.find_elements_by_css_selector(\"#img_01\"))\n",
        "    dettaglio_fumetto.append({\n",
        "                            'url' : fumetto,\n",
        "                            \"url_immagini\" : test[0].get_attribute(\"src\")})\n",
        "  except Exception as e:\n",
        "    dettaglio_fumetto.append({\n",
        "                            'url' : fumetto,\n",
        "                            \"url_immagini\" : None})\n",
        "#pprint.pprint(dettaglio_fumetto)"
      ],
      "execution_count": null,
      "outputs": []
    },
    {
      "cell_type": "code",
      "metadata": {
        "id": "GadjoOv2XeCV",
        "colab_type": "code",
        "colab": {}
      },
      "source": [
        "dflink = pd.DataFrame(dettaglio_fumetto)"
      ],
      "execution_count": null,
      "outputs": []
    },
    {
      "cell_type": "code",
      "metadata": {
        "id": "m6wNwv0JYIuj",
        "colab_type": "code",
        "colab": {
          "base_uri": "https://localhost:8080/",
          "height": 195
        },
        "outputId": "3126c7eb-84a6-47ec-c552-ecc58d26dde1"
      },
      "source": [
        "dflink.head()"
      ],
      "execution_count": null,
      "outputs": [
        {
          "output_type": "execute_result",
          "data": {
            "text/html": [
              "<div>\n",
              "<style scoped>\n",
              "    .dataframe tbody tr th:only-of-type {\n",
              "        vertical-align: middle;\n",
              "    }\n",
              "\n",
              "    .dataframe tbody tr th {\n",
              "        vertical-align: top;\n",
              "    }\n",
              "\n",
              "    .dataframe thead th {\n",
              "        text-align: right;\n",
              "    }\n",
              "</style>\n",
              "<table border=\"1\" class=\"dataframe\">\n",
              "  <thead>\n",
              "    <tr style=\"text-align: right;\">\n",
              "      <th></th>\n",
              "      <th>url</th>\n",
              "      <th>url_immagini</th>\n",
              "    </tr>\n",
              "  </thead>\n",
              "  <tbody>\n",
              "    <tr>\n",
              "      <th>0</th>\n",
              "      <td>https://comics.panini.it/store/pub_ita_it/mmno...</td>\n",
              "      <td>https://comics.panini.it/store/media/catalog/p...</td>\n",
              "    </tr>\n",
              "    <tr>\n",
              "      <th>1</th>\n",
              "      <td>https://comics.panini.it/store/pub_ita_it/mleg...</td>\n",
              "      <td>https://comics.panini.it/store/media/catalog/p...</td>\n",
              "    </tr>\n",
              "    <tr>\n",
              "      <th>2</th>\n",
              "      <td>https://comics.panini.it/store/pub_ita_it/mtra...</td>\n",
              "      <td>https://comics.panini.it/store/media/catalog/p...</td>\n",
              "    </tr>\n",
              "    <tr>\n",
              "      <th>3</th>\n",
              "      <td>https://comics.panini.it/store/pub_ita_it/mtra...</td>\n",
              "      <td>https://comics.panini.it/store/media/catalog/p...</td>\n",
              "    </tr>\n",
              "    <tr>\n",
              "      <th>4</th>\n",
              "      <td>https://comics.panini.it/store/pub_ita_it/mtra...</td>\n",
              "      <td>https://comics.panini.it/store/media/catalog/p...</td>\n",
              "    </tr>\n",
              "  </tbody>\n",
              "</table>\n",
              "</div>"
            ],
            "text/plain": [
              "                                                 url                                       url_immagini\n",
              "0  https://comics.panini.it/store/pub_ita_it/mmno...  https://comics.panini.it/store/media/catalog/p...\n",
              "1  https://comics.panini.it/store/pub_ita_it/mleg...  https://comics.panini.it/store/media/catalog/p...\n",
              "2  https://comics.panini.it/store/pub_ita_it/mtra...  https://comics.panini.it/store/media/catalog/p...\n",
              "3  https://comics.panini.it/store/pub_ita_it/mtra...  https://comics.panini.it/store/media/catalog/p...\n",
              "4  https://comics.panini.it/store/pub_ita_it/mtra...  https://comics.panini.it/store/media/catalog/p..."
            ]
          },
          "metadata": {
            "tags": []
          },
          "execution_count": 51
        }
      ]
    },
    {
      "cell_type": "code",
      "metadata": {
        "id": "ir1_T4jIqudT",
        "colab_type": "code",
        "colab": {
          "base_uri": "https://localhost:8080/",
          "height": 34
        },
        "outputId": "ef413f23-ef00-45a3-c630-2a2d61c8576c"
      },
      "source": [
        "#ESEGUIRE SOLO UNA VOLTA \n",
        "from google.colab import files\n",
        "from google.colab import drive\n",
        "drive.mount('drive')\n"
      ],
      "execution_count": null,
      "outputs": [
        {
          "output_type": "stream",
          "text": [
            "Drive already mounted at drive; to attempt to forcibly remount, call drive.mount(\"drive\", force_remount=True).\n"
          ],
          "name": "stdout"
        }
      ]
    },
    {
      "cell_type": "code",
      "metadata": {
        "id": "eI3_thCwq3YS",
        "colab_type": "code",
        "colab": {}
      },
      "source": [
        "dflink.to_csv(\"drive/My Drive/dfmarvel_img4.csv\",index=False,header=True,sep=\"\\t\")\n"
      ],
      "execution_count": null,
      "outputs": []
    }
  ]
}